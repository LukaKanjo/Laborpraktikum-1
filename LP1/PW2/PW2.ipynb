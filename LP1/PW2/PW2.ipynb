{
 "cells": [
  {
   "cell_type": "code",
   "execution_count": 1,
   "id": "9629dbe8",
   "metadata": {},
   "outputs": [],
   "source": [
    "#Die ganzen packages die für den versuch verwendet werden\n",
    "\n",
    "import numpy as np #numpy ist ein package mit allen mathematischen ausdrücken/funktionen/operationen/etc. \n",
    "from uncertainties import ufloat #Uncertainties ist für das automatische berrechnen von unsicherheiten\n",
    "from uncertainties.umath import * #Importieren von rechnen mit uncertainties (addition/multiplikation/etc.)\n",
    "from uncertainties import unumpy as unp #kann arrays von unsicherheiten verstehen (also eine liste, statt jede zahl einzeln einzutippen)\n",
    "from IPython.display import Latex, HTML, Math, display # Um ergebnisse schöner anzuzeigen. display() \"ersetzt\" quasi print(), und lässt latex fromatierung zu\n",
    "\n",
    "#funktion für mittwlert mit fehler defnieren (um später ein uarray mit unsicherheiten direkt zu einem mittelwert zu machen)\n",
    "def mean(values):\n",
    "    nom = unp.nominal_values(values)\n",
    "    std_mean = np.std(nom, ddof=1) / np.sqrt(len(nom))\n",
    "    return ufloat(np.mean(nom), std_mean)\n",
    "\n",
    "\n",
    "unsicherheit = 1 #mm?   #Ich nehme mal an das die gemessene unsicherheit immer gleich bleibt, also brauchen wir die nur einmal"
   ]
  },
  {
   "cell_type": "markdown",
   "id": "8bbf8efe",
   "metadata": {},
   "source": [
    "# Geometrische Optik\n",
    "\n",
    "### Bestimmung von Brennweite\n",
    "\n",
    "Die Brennweite f einer Linse wir durch die Abbildunggleichung mittels gegenstandsweite g und bildweite b gegeben:\n",
    "    \n",
    "\\begin{gather}\n",
    "\\frac{1}{f}=\\frac{1}{b}+\\frac{1}{g}\n",
    "\\end{gather}\n",
    "\n",
    "Dafür wird im ersten Teil 10-mal die Bild und gegenstandsweite einer Konkavlinse gemessen und daraus mittels Gl.1 die Brennweite ermittelt. Damit wird der Mittelwert und dessen Abweichung bestimmt.\n",
    "\n",
    "### Bessel-verfahren\n",
    "\n",
    "Mittels Besselverfahren kann ebenfalls die Brennweite einer Linse ermittelt werden, wobei hier die distanz zwischen dem Schirm und Objekt e als auch die verschiebung der Linse benötigt werden. Dabei ist Wichtig das $e \\geq 4f$ ist. Die Gleichung für dei Brennweite lautet in diesem fall:\n",
    "\n",
    "\\begin{gather}\n",
    "f = \\frac{1}{4}(e-\\frac{d^2}{e})\n",
    "\\end{gather}\n",
    "\n",
    "hiebrei werde 5 messungen zu verschiedenen Distanzen e gemacht und davon der Mittelwert gebildet.\n",
    "\n",
    "### Konkavlinse Brennweite\n",
    "\n",
    "Die Brennweite der Konkavlinse wird erneut durch Abbildungsgleichung bestimmt, wobei diese jedoch kein Reelles bild erzeugt. Deswegen wird eine Konvexlinse davor gegeben und mittles\n",
    "\n",
    "\\begin{gather}\n",
    "g_2 = -(b_1-d)\n",
    "\\end{gather}\n",
    "\n",
    "Die Gegenstandsweite $g_2$ der Konkavlinse bestimmt. Zusätzlich wird die Bildweite $b_2$ direkt gemessen. $b_1$ ist die Bildweite der Konvexlinse und d ist der Abstand der beiden linsen. Diese messung wurde zweimal durchgeführt um einen vergleichwert zu machen.\n",
    "\n",
    "### Ergebnisse\n",
    "\n",
    "Konvexlinse:\n",
    "\n",
    "$$D = (6.6 \\pm 0.5) \\frac{1}{m}$$\n",
    "\n",
    "Konvexlinse Besselverfahren:\n",
    "\n",
    "$$D = (6.5 \\pm 0.5) \\frac{1}{m}$$\n",
    "\n",
    "Konkavlinse:\n",
    "\n",
    "$$D = (-2.3 \\pm 0.5) \\frac{1}{m}$$\n",
    "\n",
    "Die unsicherheiten wurden aufgrund subjekitver wahrnehmung auf $$ \\pm 0.5\\frac{1}{m}$$ angehoben. Die Werte stimmen jedoch mit angepasster unsicherheit mit dem angeschriebenen Wert überein.\n"
   ]
  },
  {
   "cell_type": "code",
   "execution_count": 2,
   "id": "41f1050b",
   "metadata": {},
   "outputs": [
    {
     "data": {
      "text/latex": [
       "$$\n",
       "\\begin{array}{c|c}\n",
       "\\textbf{} & \\textbf{Brennweite} ~f~[\\mathrm{mm}] \\\\ \\hline\n",
       "0 & (151.24 \\pm 0.43) \\\\ 1 & (154.13 \\pm 0.43) \\\\ 2 & (151.97 \\pm 0.43) \\\\ 3 & (153.18 \\pm 0.43) \\\\ 4 & (152.46 \\pm 0.43) \\\\ 5 & (152.46 \\pm 0.43) \\\\ 6 & (152.22 \\pm 0.43) \\\\ 7 & (150.50 \\pm 0.43) \\\\ 8 & (150.25 \\pm 0.43) \\\\ 9 & (152.22 \\pm 0.43) \\\\ \\\\ {mittel} & (152.06 \\pm 0.37)\\end{array}$$"
      ],
      "text/plain": [
       "<IPython.core.display.Latex object>"
      ]
     },
     "metadata": {},
     "output_type": "display_data"
    },
    {
     "data": {
      "text/latex": [
       "$${\\frac1{f}} = D = (6.58+/-0.02~\\mathrm){\\frac1{m}}$$"
      ],
      "text/plain": [
       "<IPython.core.display.Latex object>"
      ]
     },
     "metadata": {},
     "output_type": "display_data"
    },
    {
     "data": {
      "text/latex": [
       "$$D = (6.58\\pm 0.5~\\mathrm){\\frac1{m}}$$"
      ],
      "text/plain": [
       "<IPython.core.display.Latex object>"
      ]
     },
     "metadata": {},
     "output_type": "display_data"
    },
    {
     "data": {
      "text/latex": [
       "$$\\mathrm{\\textbf{Besselverfahren}}$$"
      ],
      "text/plain": [
       "<IPython.core.display.Latex object>"
      ]
     },
     "metadata": {},
     "output_type": "display_data"
    },
    {
     "data": {
      "text/latex": [
       "$$\n",
       "\\begin{array}{c|c}\n",
       "\\textbf{} & \\textbf{Brennweite} ~f~[\\mathrm{mm?}] \\\\ \\hline\n",
       "0 & (153.39 \\pm 0.47) \\\\ 1 & (153.58 \\pm 0.51) \\\\ 2 & (154.40 \\pm 0.55) \\\\ 3 & (154.26 \\pm 0.58) \\\\ 4 & (153.60 \\pm 0.61) \\\\ \\\\ {mittel} & (153.84 \\pm 0.20)\\end{array}$$"
      ],
      "text/plain": [
       "<IPython.core.display.Latex object>"
      ]
     },
     "metadata": {},
     "output_type": "display_data"
    },
    {
     "data": {
      "text/latex": [
       "$${\\frac1{f}} = D = (6.50+/-0.01~\\mathrm){\\frac1{m}}$$"
      ],
      "text/plain": [
       "<IPython.core.display.Latex object>"
      ]
     },
     "metadata": {},
     "output_type": "display_data"
    },
    {
     "data": {
      "text/latex": [
       "$$D = (6.50\\pm 0.5~\\mathrm){\\frac1{m}}$$"
      ],
      "text/plain": [
       "<IPython.core.display.Latex object>"
      ]
     },
     "metadata": {},
     "output_type": "display_data"
    }
   ],
   "source": [
    "#Konvexlinse Brennweite messen\n",
    "\n",
    "\n",
    "####################################################################################\n",
    "#Punkt a,\n",
    "\n",
    "#werte liste für die gegenstands/bildweite (entfernung von linse) g/b:\n",
    "#üssen nur 5 min. sein\n",
    "\n",
    "g_1_werte = 300   #mm #gegenstandsweite bleibt konstant\n",
    "b_1_werte = np.array([995, 983, 992, 987, 990, 990, 991, 998, 999, 991])   #mm\n",
    "\n",
    "#unsicherheitsabelle mit einzelnen werten erstellen:\n",
    "\n",
    "g = ufloat(g_1_werte, unsicherheit)\n",
    "b = ufloat(1300, 1) - unp.uarray(b_1_werte, unsicherheit) #position von schirm von der positionder linse abziehen um die länge b zu bekommen\n",
    "\n",
    "#formel für brennweite f:\n",
    "\n",
    "f = 1/(1/b+1/g)       #mm\n",
    "\n",
    "\n",
    "#f ist ein wert mit unsicherheit f = f_nom +- f_std\n",
    "f_nom = unp.nominal_values(f)       #nominal-werte von f (also nur die werte)\n",
    "f_std = unp.std_devs(f)             #standard deviation von f (also nur unsicherheit)\n",
    "\n",
    "#-----------------------------------------------------------------------------------\n",
    "#ab hier nur noch um die daten schon zu darzustellen:\n",
    "\n",
    "#Latex tabelle definieren\n",
    "table = r\"\"\"$$\n",
    "\\begin{array}{c|c}\n",
    "\\textbf{} & \\textbf{Brennweite} ~f~[\\mathrm{mm}] \\\\ \\hline\n",
    "\"\"\"\n",
    "#für jedes i-te paar (nom,std) in der numerierten liste [(1,0.1),(2,0.1),(3,0.1)...] fügen wir der vorher definierten tabelle einen neuen eintrag ein:\n",
    "#(table += rf\"{i-ter eintrag} & wertepaar\"). Wenn keine i mehr übrig sind hört der loop mit table += r\"\\end{array}\" auf.\n",
    "for i, (nom, std) in enumerate(zip(f_nom, f_std)):\n",
    "    table += rf\"{i} & ({nom:.2f} \\pm {std:.2f}) \\\\ \"\n",
    "table += rf\"\\\\ {{mittel}} & ({unp.nominal_values(mean(f)):.2f} \\pm {unp.std_devs(mean(f)):.2f})\" #bevor der loop endet wird noch in die letzte zeile der mittelwert dazugegeben\n",
    "table += r\"\\end{array}$$\"\n",
    "\n",
    "#Tabelle anzeigen lassen (printen)\n",
    "display(Latex(table))\n",
    "\n",
    "\n",
    "display(Latex(rf\"$${{\\frac{1}{{f}}}} = D = ({1/mean(f)*1000:.2f}~\\mathrm){{\\frac{1}{{m}}}}$$\"))\n",
    "display(Latex(rf\"$$D = ({1/(unp.nominal_values(mean(f))/1000):.2f}\\pm 0.5~\\mathrm){{\\frac{1}{{m}}}}$$\"))\n",
    "#-----------------------------------------------------------------------------------\n",
    "\n",
    "####################################################################################\n",
    "\n",
    "\n",
    "\n",
    "\n",
    "\n",
    "\n",
    "\n",
    "\n",
    "####################################################################################\n",
    "#Punkt b, Besselverfahren\n",
    "\n",
    "#werte liste für e (gegenstand-schirm abstand) und d = d_2 - d_1 (verschiebung/symmetrische linsenposition):\n",
    "\n",
    "\n",
    "e =   ufloat(1600, 1) - unp.uarray([900, 850, 800, 750, 700], unsicherheit) #mm  #position von objekt minus position von schirm ist e\n",
    "d_1 =  unp.uarray([1133, 1072, 1015, 960, 903], unsicherheit) #mm  #erste linsen position\n",
    "d_2 = unp.uarray([1379, 1391, 1397, 1405, 1410], unsicherheit) #mm #zweite linsen postion\n",
    "\n",
    "d = d_2-d_1 #linsen postionen voneinander abziehen um total zu bekommen.\n",
    "\n",
    "#formel für brennweite f:\n",
    "\n",
    "f_1 = (1/4)*(e-((d**2)/e))       #mm\n",
    "\n",
    "f_nom_1 = unp.nominal_values(f_1)\n",
    "f_std_1 = unp.std_devs(f_1)\n",
    "\n",
    "display(Latex(r\"$$\\mathrm{\\textbf{Besselverfahren}}$$\"))\n",
    "table = r\"\"\"$$\n",
    "\\begin{array}{c|c}\n",
    "\\textbf{} & \\textbf{Brennweite} ~f~[\\mathrm{mm?}] \\\\ \\hline\n",
    "\"\"\"\n",
    "for i, (nom_1, std_1) in enumerate(zip(f_nom_1, f_std_1)):\n",
    "    table += rf\"{i} & ({nom_1:.2f} \\pm {std_1:.2f}) \\\\ \"\n",
    "table += rf\"\\\\ {{mittel}} & ({unp.nominal_values(mean(f_1)):.2f} \\pm {unp.std_devs(mean(f_1)):.2f})\"\n",
    "table += r\"\\end{array}$$\"\n",
    "\n",
    "display(Latex(table))\n",
    "#Zeigt den berrechneten wert 1/mittelwert an und konvertiert von mm in m (1/1000)\n",
    "display(Latex(rf\"$${{\\frac{1}{{f}}}} = D = ({1/(mean(f_1)/1000):.2f}~\\mathrm){{\\frac{1}{{m}}}}$$\"))\n",
    "#!!!!!!!!!!!!!UNSICHERHEIT IST VON UNS EINGETRAGEN WORDEN\n",
    "display(Latex(rf\"$$D = ({1/(unp.nominal_values(mean(f_1))/1000):.2f}\\pm 0.5~\\mathrm){{\\frac{1}{{m}}}}$$\"))\n",
    "####################################################################################\n",
    "\n"
   ]
  },
  {
   "cell_type": "code",
   "execution_count": 3,
   "id": "1cca5b11",
   "metadata": {},
   "outputs": [
    {
     "data": {
      "text/latex": [
       "$$\n",
       "\\begin{array}{c|c}\n",
       "\\textbf{} & \\textbf{Brennweite} ~f~[\\mathrm{mm?}] \\\\ \\hline\n",
       "0 & (-411.72 \\pm 3.83) \\\\ 1 & (-481.08 \\pm 4.64) \\\\ \\\\ {mittel} & (-446.40 \\pm 34.68)\\end{array}$$"
      ],
      "text/plain": [
       "<IPython.core.display.Latex object>"
      ]
     },
     "metadata": {},
     "output_type": "display_data"
    },
    {
     "data": {
      "text/latex": [
       "$${\\frac1{f}} = D = (-2.24+/-0.17~\\mathrm){\\frac1{m}}$$"
      ],
      "text/plain": [
       "<IPython.core.display.Latex object>"
      ]
     },
     "metadata": {},
     "output_type": "display_data"
    },
    {
     "data": {
      "text/latex": [
       "$$D = (-2.24\\pm 0.5 ~\\mathrm){\\frac1{m}}$$"
      ],
      "text/plain": [
       "<IPython.core.display.Latex object>"
      ]
     },
     "metadata": {},
     "output_type": "display_data"
    }
   ],
   "source": [
    "#Konkavlinse Brennweite messen\n",
    "\n",
    "#Konvexlinse daten\n",
    "g_1_werte = np.array([306, 300])   #mm?\n",
    "b_1_werte = np.array([294, 310])   #mm?\n",
    "\n",
    "#Konkavlinse daten\n",
    "d_werte = np.array([1306-1263, 43]) #Abstand der beiden linsen\n",
    "b_2_werte = np.array([1263-620, 1257-657]) #abstand zum schirm\n",
    "\n",
    "d = unp.uarray(d_werte, unsicherheit)\n",
    "b_2 = unp.uarray(b_2_werte, unsicherheit)\n",
    "\n",
    "g_1 = unp.uarray(g_1_werte, unsicherheit) \n",
    "b_1 = unp.uarray(b_1_werte, unsicherheit)\n",
    "\n",
    "g_2 = -(b_1-d)\n",
    "\n",
    "f = 1/(1/b_2+1/g_2)       #mm?\n",
    "\n",
    "f_nom = unp.nominal_values(f)\n",
    "f_std = unp.std_devs(f)\n",
    "\n",
    "#-----------------------------------------------------------------------------------\n",
    "table = r\"\"\"$$\n",
    "\\begin{array}{c|c}\n",
    "\\textbf{} & \\textbf{Brennweite} ~f~[\\mathrm{mm?}] \\\\ \\hline\n",
    "\"\"\"\n",
    "for i, (nom, std) in enumerate(zip(f_nom, f_std)):\n",
    "    table += rf\"{i} & ({nom:.2f} \\pm {std:.2f}) \\\\ \"\n",
    "table += rf\"\\\\ {{mittel}} & ({unp.nominal_values(mean(f)):.2f} \\pm {unp.std_devs(mean(f)):.2f})\"\n",
    "table += r\"\\end{array}$$\"\n",
    "\n",
    "display(Latex(table))\n",
    "#Die tausend ist um von 1/mm in 1/m umzuwandeln\n",
    "display(Latex(rf\"$${{\\frac{1}{{f}}}} = D = ({1/(mean(f)/1000):.2f}~\\mathrm){{\\frac{1}{{m}}}}$$\"))\n",
    "#!!!!!!!!!!!!!!!von mir gerunderter wert!!!!!!!!!!!!!!!\n",
    "display(Latex(rf\"$$D = ({1/(unp.nominal_values(mean(f))/1000):.2f}\\pm 0.5 ~\\mathrm){{\\frac{1}{{m}}}}$$\"))"
   ]
  },
  {
   "cell_type": "markdown",
   "id": "f17ecc89",
   "metadata": {},
   "source": [
    "### Diskussion\n",
    "\n",
    "Konkavlinse Schirm im Bereich 600mm - 735mm immernoch subjekitv \"Scharf\""
   ]
  },
  {
   "cell_type": "markdown",
   "id": "50bf90ec",
   "metadata": {},
   "source": [
    "# Aberration\n",
    "\n",
    "Kurze Erklärung zu aberration und was gemessen wird.\n",
    "\n",
    "### Ergebnisse"
   ]
  },
  {
   "cell_type": "code",
   "execution_count": 4,
   "id": "5a155091",
   "metadata": {},
   "outputs": [
    {
     "data": {
      "text/latex": [
       "$$\n",
       "\\begin{array}{cc}\n",
       "\\\\ \\textbf{Ferne Bildweite} ~b_f~[\\mathrm{mm}] & \\textbf{Nahe Bildweite} ~b_n~[\\mathrm{mm}]\\\\ \\hline \\\\\n",
       "(276.00 \\pm 1.41) & (318.00 \\pm 1.41) \\\\ (270.00 \\pm 1.41) & (316.00 \\pm 1.41) \\\\ (276.00 \\pm 1.41) & (319.00 \\pm 1.41) \\\\ (283.00 \\pm 1.41) & (316.00 \\pm 1.41) \\\\ (279.00 \\pm 1.41) & (317.00 \\pm 1.41) \\\\ \\\\ \\hline \\\\\\bar{b_f}=(276.80 \\pm 2.13) & \\bar{b_f}=(317.20 \\pm 0.58) \\\\ \\\\ b_f = (277 \\pm  5) & b_n = (317 \\pm  5)\\\\\\end{array}$$"
      ],
      "text/plain": [
       "<IPython.core.display.Latex object>"
      ]
     },
     "metadata": {},
     "output_type": "display_data"
    }
   ],
   "source": [
    "#Sphärische abberration\n",
    "\n",
    "b_n = ufloat(1300, 1) - unp.uarray([982, 984, 981, 984, 983], unsicherheit) #mm?        #Achsennahe Blende\n",
    "b_f = ufloat(1300, 1) - unp.uarray([1024, 1030, 1024, 1017, 1021], unsicherheit) #mm?        #Achsenferne Blende\n",
    "\n",
    "table = r\"\"\"$$\n",
    "\\begin{array}{cc}\n",
    "\\\\ \\textbf{Ferne Bildweite} ~b_f~[\\mathrm{mm}] & \\textbf{Nahe Bildweite} ~b_n~[\\mathrm{mm}]\\\\ \\hline \\\\\n",
    "\"\"\"\n",
    "for i, (bn, bf) in enumerate(zip(b_f, b_n), start=1):\n",
    "    table += rf\"({unp.nominal_values(bn):.2f} \\pm {unp.std_devs(bn):.2f}) & \"\n",
    "    table += rf\"({unp.nominal_values(bf):.2f} \\pm {unp.std_devs(bf):.2f}) \\\\ \"\n",
    "\n",
    "#hier werden die mittelwerte in der tabelle angezeigt \n",
    "table += r\"\\\\ \\hline \\\\\"\n",
    "table += rf\"\\bar{{b_f}}=({unp.nominal_values(mean(b_f)):.2f} \\pm {unp.std_devs(mean(b_f)):.2f}) & \"\n",
    "table += rf\"\\bar{{b_f}}=({unp.nominal_values(mean(b_n)):.2f} \\pm {unp.std_devs(mean(b_n)):.2f}) \\\\ \"\n",
    "\n",
    "#hier werden die letzendlichen werte in der tabelle angezeigt \n",
    "# \n",
    "# !!!!!!!!!!(die unsicherheit wurden auf 5mm gerundet)!!!!!!!!!!\n",
    "table += rf\"\\\\ b_f = ({unp.nominal_values(mean(b_f)):.0f} \\pm  5) &\"\n",
    "table += rf\" b_n = ({unp.nominal_values(mean(b_n)):.0f} \\pm  5)\\\\\"\n",
    "table += r\"\\end{array}$$\"\n",
    "\n",
    "display(Latex(table))\n",
    "\n"
   ]
  },
  {
   "cell_type": "code",
   "execution_count": 5,
   "id": "471b19c2",
   "metadata": {},
   "outputs": [
    {
     "data": {
      "text/latex": [
       "\n",
       "$$\n",
       "\\begin{array}{ccc}\n",
       "\\\\ \\textbf{Rote Bildweite}~b_r~[\\mathrm{mm}] & \\textbf{Grüne Bildweite}~b_g~[\\mathrm{mm}] & \\textbf{Blaue Bildweite}~b_b~[\\mathrm{mm}] \\\\ \\\\ \\hline \\\\\n",
       "(188.00 \\pm 1.41) & (190.00 \\pm 1.41) & (188.00 \\pm 1.41) \\\\(188.00 \\pm 1.41) & (190.00 \\pm 1.41) & (187.00 \\pm 1.41) \\\\(188.00 \\pm 1.41) & (191.00 \\pm 1.41) & (187.00 \\pm 1.41) \\\\(187.00 \\pm 1.41) & (189.00 \\pm 1.41) & (188.00 \\pm 1.41) \\\\(188.00 \\pm 1.41) & (189.00 \\pm 1.41) & (189.00 \\pm 1.41) \\\\(187.00 \\pm 1.41) & (188.00 \\pm 1.41) & (186.00 \\pm 1.41) \\\\\\\\ \\hline \\\\(187.67 \\pm 0.21) & (189.50 \\pm 0.43) & (187.50 \\pm 0.43) \\\\ \\\\ b_r = (188 \\pm 5) &  b_g =(190 \\pm 5) &  b_b =(188 \\pm 5) \\\\ \\end{array}$$"
      ],
      "text/plain": [
       "<IPython.core.display.Latex object>"
      ]
     },
     "metadata": {},
     "output_type": "display_data"
    }
   ],
   "source": [
    "#Chromatische Aberration\n",
    "\n",
    "\n",
    "b_r = ufloat(750, 1) - unp.uarray([562 , 562, 562, 563, 562, 563], unsicherheit) #mm?\n",
    "b_g = ufloat(750, 1) - unp.uarray([560 , 560, 559, 561, 561, 562], unsicherheit) #mm?\n",
    "b_b = ufloat(750, 1) - unp.uarray([562 ,563 , 563, 562, 561, 564], unsicherheit) #mm?\n",
    "\n",
    "\n",
    "table = r\"\"\"\n",
    "$$\n",
    "\\begin{array}{ccc}\n",
    "\\\\ \\textbf{Rote Bildweite}~b_r~[\\mathrm{mm}] & \\textbf{Grüne Bildweite}~b_g~[\\mathrm{mm}] & \\textbf{Blaue Bildweite}~b_b~[\\mathrm{mm}] \\\\ \\\\ \\hline \\\\\n",
    "\"\"\"\n",
    "for i, (br, bg, bb) in enumerate(zip(b_r, b_g, b_b), start=1):\n",
    "    table += rf\"({unp.nominal_values(br):.2f} \\pm {unp.std_devs(br):.2f}) & \"\n",
    "    table += rf\"({unp.nominal_values(bg):.2f} \\pm {unp.std_devs(bg):.2f}) & \"\n",
    "    table += rf\"({unp.nominal_values(bb):.2f} \\pm {unp.std_devs(bb):.2f}) \\\\\"\n",
    "\n",
    "#hier werden die mittelwerte in der tabelle angezeigt\n",
    "table += r\"\\\\ \\hline \\\\\"\n",
    "table += rf\"({unp.nominal_values(mean(b_r)):.2f} \\pm {unp.std_devs(mean(b_r)):.2f}) & \"\n",
    "table += rf\"({unp.nominal_values(mean(b_g)):.2f} \\pm {unp.std_devs(mean(b_g)):.2f}) & \"\n",
    "table += rf\"({unp.nominal_values(mean(b_b)):.2f} \\pm {unp.std_devs(mean(b_b)):.2f}) \\\\ \"\n",
    "\n",
    "#hier werden die letzendlichen werte in der tabelle angezeigt \n",
    "# \n",
    "# !!!!!!!!!!(die unsicherheit wurden auf 5mm gerundet)!!!!!!!!!!\n",
    "table += rf\"\\\\ b_r = ({unp.nominal_values(mean(b_r)):.0f} \\pm 5) & \"\n",
    "table += rf\" b_g =({unp.nominal_values(mean(b_g)):.0f} \\pm 5) & \"\n",
    "table += rf\" b_b =({unp.nominal_values(mean(b_b)):.0f} \\pm 5) \\\\ \"\n",
    "table += r\"\\end{array}$$\"\n",
    "\n",
    "display(Latex(table))"
   ]
  },
  {
   "cell_type": "markdown",
   "id": "c6e1285c",
   "metadata": {},
   "source": [
    "## Diskussion\n",
    "\n",
    "Für Sphärische aberration ist ein deutlicher unterschied zu erkennen.\n",
    "\n",
    "Chromatische Aberration zeigt kaum einen unterschied besonders bei annahme höhere Unsicherheiten"
   ]
  }
 ],
 "metadata": {
  "kernelspec": {
   "display_name": "LP-venv",
   "language": "python",
   "name": "python3"
  },
  "language_info": {
   "codemirror_mode": {
    "name": "ipython",
    "version": 3
   },
   "file_extension": ".py",
   "mimetype": "text/x-python",
   "name": "python",
   "nbconvert_exporter": "python",
   "pygments_lexer": "ipython3",
   "version": "3.12.3"
  }
 },
 "nbformat": 4,
 "nbformat_minor": 5
}
