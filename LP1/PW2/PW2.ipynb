{
 "cells": [
  {
   "cell_type": "code",
   "execution_count": 21,
   "id": "9629dbe8",
   "metadata": {},
   "outputs": [],
   "source": [
    "#Die ganzen packages die für den versuch verwendet werden\n",
    "\n",
    "import numpy as np #numpy ist ein package mit allen mathematischen ausdrücken/funktionen/operationen/etc. \n",
    "from uncertainties import ufloat #Uncertainties ist für das automatische berrechnen von unsicherheiten\n",
    "from uncertainties.umath import * #Importieren von rechnen mit uncertainties (addition/multiplikation/etc.)\n",
    "from uncertainties import unumpy as unp #kann arrays von unsicherheiten verstehen (also eine liste, statt jede zahl einzeln einzutippen)\n",
    "from IPython.display import Latex, HTML, Math, display # Um ergebnisse schöner anzuzeigen. display() \"ersetzt\" quasi print(), und lässt latex fromatierung zu\n",
    "\n",
    "#funktion für mittwlert mit fehler defnieren (um später ein uarray mit unsicherheiten direkt zu einem mittelwert zu machen)\n",
    "def mean(values):\n",
    "    nom = unp.nominal_values(values)\n",
    "    std_mean = np.std(nom, ddof=1) / np.sqrt(len(nom))\n",
    "    return ufloat(np.mean(nom), std_mean)\n",
    "\n",
    "\n",
    "unsicherheit = 1 #mm?   #Ich nehme mal an das die gemessene unsicherheit immer gleich bleibt, also brauchen wir die nur einmal"
   ]
  },
  {
   "cell_type": "markdown",
   "id": "8bbf8efe",
   "metadata": {},
   "source": [
    "# Geometrische Optik\n",
    "\n",
    "## Brennweiten von Linsen\n",
    "\n",
    "### Versuchsaufbau und Durchführung\n",
    "\n",
    "Auf einer optischen Bank werden Lichtquelle, Linse(n), Gegenstand und Schirm platziert. Dabei wird darauf geachtet, dass die optiche Achse mittig durch die Linse(n) läuft.\n",
    "\n",
    "Zur Bestimmung der Brennweite einer Konvexlinse wird zuerst die Bildweite bei eienr fixen Gegenstandsweite gemessen, indem der Schirm bewegt wird, bis das Bild scharf ist. Hierbei wird eine Messreihe von mindestens fünf Werten angefertigt und die Fehler der ermittelten Größe berechnet.\n",
    "Anschließend wird die Brennweite mit dem Besselverfahren ermittelt. Hier werden fünf verschiedene Abstände $e$ zwischen Gegenstand und Schirm eingestellt, wobei hier darauf geachtet werden muss, dass dieser Abstand mindestens viermal so groß wie die Brennweite $f$ der Linse ist. Es wird jeweils der Abstand $d$ zwischen den beiden Punkten der Linse bestimmt, an denen das Bild scharf ist, und so die Brennweite ermittelt.\n",
    "\n",
    "Nun wird die Brennweite einer Konkavlinse ermittelt. Da diese kein reelles Bild zeigt, muss mit Hilfe einer Konvexlinse gearbeitet werden (siehe Skizze Versuchsaufbau). Zuerst wird mithilfe der Konvexlinse ein verkleinertes Bild erzeugt. Dieses dient der Konkavlinse als Gegenstand. Sie wird nun zwischen Schirm und Konvexlinse (mit Abstand $d$) eingebracht und der Schirm soweit verschoben, bis ein reelles, scharfes Bild zu sehen ist. Nun kann die Brennweite der Konkavlinse berechnet werden. \n",
    "\n",
    "![Skizze](Skizze.png)\n",
    "\n",
    "Aus den jeweils berechneten Brennweiten der Linsen wird zuletzt noch die Dioptrie $D$ bestimmt.\n",
    "\n",
    "#### Wichtige Formeln\n",
    "\n",
    "* Linsengleichung: $\\frac{1}{f}=\\frac{1}{b}+\\frac{1}{g}$\n",
    "* Besselverfahren: $f=\\frac{1}{4}(e-\\frac{d^2}{e})$\n",
    "* Gegenstandsweite $g_2$ bei Bestimmung der Brennweite der Konkavlinse: $g_2=-(b_1-d)$\n",
    "* Dioptrie: $D=\\frac{1}{f}$\n",
    "\n",
    "#### Verwendete Geräte und Unsicherheiten\n",
    "\n",
    "* Optische Bank: 1 mm ? (Auflösung)\n",
    "\n",
    "### Ergebnisse"
   ]
  },
  {
   "cell_type": "code",
   "execution_count": 22,
   "id": "41f1050b",
   "metadata": {},
   "outputs": [
    {
     "data": {
      "text/latex": [
       "$$\n",
       "\\begin{array}{c|c}\n",
       "\\textbf{} & \\textbf{Brennweite} ~f~[\\mathrm{mm}] \\\\ \\hline\n",
       "0 & (151.24 \\pm 0.43) \\\\ 1 & (154.13 \\pm 0.43) \\\\ 2 & (151.97 \\pm 0.43) \\\\ 3 & (153.18 \\pm 0.43) \\\\ 4 & (152.46 \\pm 0.43) \\\\ 5 & (152.46 \\pm 0.43) \\\\ 6 & (152.22 \\pm 0.43) \\\\ 7 & (150.50 \\pm 0.43) \\\\ 8 & (150.25 \\pm 0.43) \\\\ 9 & (152.22 \\pm 0.43) \\\\ \\\\ {mittel} & (152 \\pm 1)\\end{array}$$"
      ],
      "text/plain": [
       "<IPython.core.display.Latex object>"
      ]
     },
     "metadata": {},
     "output_type": "display_data"
    },
    {
     "data": {
      "text/latex": [
       "$${\\frac1{f}} = D = (6.58+/-0.04~\\mathrm){\\frac1{m}}$$"
      ],
      "text/plain": [
       "<IPython.core.display.Latex object>"
      ]
     },
     "metadata": {},
     "output_type": "display_data"
    },
    {
     "data": {
      "text/latex": [
       "$$\\mathrm{\\textbf{Besselverfahren}}$$"
      ],
      "text/plain": [
       "<IPython.core.display.Latex object>"
      ]
     },
     "metadata": {},
     "output_type": "display_data"
    },
    {
     "data": {
      "text/latex": [
       "$$\n",
       "\\begin{array}{c|c}\n",
       "\\textbf{} & \\textbf{Brennweite} ~f~[\\mathrm{mm}] \\\\ \\hline\n",
       "0 & (153.39 \\pm 0.47) \\\\ 1 & (153.58 \\pm 0.51) \\\\ 2 & (154.40 \\pm 0.55) \\\\ 3 & (154.26 \\pm 0.58) \\\\ 4 & (153.60 \\pm 0.61) \\\\ \\\\ {mittel} & (154 \\pm 1)\\end{array}$$"
      ],
      "text/plain": [
       "<IPython.core.display.Latex object>"
      ]
     },
     "metadata": {},
     "output_type": "display_data"
    },
    {
     "data": {
      "text/latex": [
       "$${\\frac1{f}} = D = (6.50+/-0.04~\\mathrm){\\frac1{m}}$$"
      ],
      "text/plain": [
       "<IPython.core.display.Latex object>"
      ]
     },
     "metadata": {},
     "output_type": "display_data"
    }
   ],
   "source": [
    "#Konvexlinse Brennweite messen\n",
    "\n",
    "\n",
    "####################################################################################\n",
    "#Punkt a,\n",
    "\n",
    "#werte liste für die gegenstands/bildweite (entfernung von linse) g/b:\n",
    "#üssen nur 5 min. sein\n",
    "\n",
    "g_1_werte = 300   #mm #gegenstandsweite bleibt konstant\n",
    "b_1_werte = np.array([995, 983, 992, 987, 990, 990, 991, 998, 999, 991])   #mm\n",
    "\n",
    "#unsicherheitsabelle mit einzelnen werten erstellen:\n",
    "\n",
    "g = ufloat(g_1_werte, unsicherheit)\n",
    "b = ufloat(1300, 1) - unp.uarray(b_1_werte, unsicherheit) #position von schirm von der position der linse abziehen um die länge b zu bekommen\n",
    "\n",
    "#formel für brennweite f:\n",
    "\n",
    "f = 1/(1/b+1/g)       #mm\n",
    "\n",
    "#f ist ein wert mit unsicherheit f = f_nom +- f_std\n",
    "f_nom = unp.nominal_values(f)       #nominal-werte von f (also nur die werte)\n",
    "f_std = unp.std_devs(f)             #standard deviation von f (also nur unsicherheit)\n",
    "\n",
    "#-----------------------------------------------------------------------------------\n",
    "#ab hier nur noch um die daten schon zu darzustellen:\n",
    "\n",
    "#Latex tabelle definieren\n",
    "table = r\"\"\"$$\n",
    "\\begin{array}{c|c}\n",
    "\\textbf{} & \\textbf{Brennweite} ~f~[\\mathrm{mm}] \\\\ \\hline\n",
    "\"\"\"\n",
    "#für jedes i-te paar (nom,std) in der numerierten liste [(1,0.1),(2,0.1),(3,0.1)...] fügen wir der vorher definierten tabelle einen neuen eintrag ein:\n",
    "#(table += rf\"{i-ter eintrag} & wertepaar\"). Wenn keine i mehr übrig sind hört der loop mit table += r\"\\end{array}\" auf.\n",
    "for i, (nom, std) in enumerate(zip(f_nom, f_std)):\n",
    "    table += rf\"{i} & ({nom:.2f} \\pm {std:.2f}) \\\\ \"\n",
    "table += rf\"\\\\ {{mittel}} & ({unp.nominal_values(mean(f)):.0f} \\pm {1})\" #bevor der loop endet wird noch in die letzte zeile der mittelwert dazugegeben\n",
    "table += r\"\\end{array}$$\"\n",
    "\n",
    "#Tabelle anzeigen lassen (printen)\n",
    "display(Latex(table))\n",
    "\n",
    "#Zeigt den berrechneten wert 1/mittelwert an und konvertiert von mm in m (1/1000)\n",
    "display(Latex(rf\"$${{\\frac{1}{{f}}}} = D = ({1/(ufloat((np.mean(unp.nominal_values(f))),1)/1000):.2f}~\\mathrm){{\\frac{1}{{m}}}}$$\"))\n",
    "#anhebung der Unsicherheit aufgrund menschlichen Fehlers und schwer erkennbarer Bilder \n",
    "#-----------------------------------------------------------------------------------\n",
    "\n",
    "####################################################################################\n",
    "\n",
    "\n",
    "\n",
    "\n",
    "\n",
    "\n",
    "\n",
    "\n",
    "####################################################################################\n",
    "#Punkt b, Besselverfahren\n",
    "\n",
    "#werte liste für e (gegenstand-schirm abstand) und d = d_2 - d_1 (verschiebung/symmetrische linsenposition):\n",
    "\n",
    "\n",
    "e =   ufloat(1600, 1) - unp.uarray([900, 850, 800, 750, 700], unsicherheit) #mm  #position von objekt (fix) minus position von schirm ist e\n",
    "d_1 =  unp.uarray([1133, 1072, 1015, 960, 903], unsicherheit) #mm  #erste linsen position\n",
    "d_2 = unp.uarray([1379, 1391, 1397, 1405, 1410], unsicherheit) #mm #zweite linsen postion\n",
    "\n",
    "d = d_2-d_1 #linsen postionen voneinander abziehen um total zu bekommen.\n",
    "\n",
    "#formel für brennweite f:\n",
    "\n",
    "f_1 = (1/4)*(e-((d**2)/e))       #mm\n",
    "\n",
    "f_nom_1 = unp.nominal_values(f_1) \n",
    "f_std_1 = unp.std_devs(f_1)\n",
    "\n",
    "display(Latex(r\"$$\\mathrm{\\textbf{Besselverfahren}}$$\"))\n",
    "table = r\"\"\"$$\n",
    "\\begin{array}{c|c}\n",
    "\\textbf{} & \\textbf{Brennweite} ~f~[\\mathrm{mm}] \\\\ \\hline\n",
    "\"\"\"\n",
    "for i, (nom_1, std_1) in enumerate(zip(f_nom_1, f_std_1)):\n",
    "    table += rf\"{i} & ({nom_1:.2f} \\pm {std_1:.2f}) \\\\ \"\n",
    "table += rf\"\\\\ {{mittel}} & ({unp.nominal_values(mean(f_1)):.0f} \\pm {1})\"\n",
    "table += r\"\\end{array}$$\"\n",
    "\n",
    "display(Latex(table))\n",
    "#Zeigt den berrechneten wert 1/mittelwert an und konvertiert von mm in m (1/1000)\n",
    "display(Latex(rf\"$${{\\frac{1}{{f}}}} = D = ({1/(ufloat(np.mean((unp.nominal_values(f_1))),1)/1000):.2f}~\\mathrm){{\\frac{1}{{m}}}}$$\"))\n",
    "#!!!!!!!!!!!!!UNSICHERHEIT IST VON UNS EINGETRAGEN WORDEN\n",
    "#anhebung der Unsicherheit aufgrund menschlichen Fehlers und schwer erkennbarer Bilder \n",
    "####################################################################################\n",
    "\n"
   ]
  },
  {
   "cell_type": "code",
   "execution_count": 23,
   "id": "1cca5b11",
   "metadata": {},
   "outputs": [
    {
     "data": {
      "text/latex": [
       "$$\n",
       "\\begin{array}{c|c}\n",
       "\\textbf{} & \\textbf{Brennweite} ~f~[\\mathrm{mm?}] \\\\ \\hline\n",
       "0 & (-411.72 \\pm 3.83) \\\\ 1 & (-481.08 \\pm 4.64) \\\\ \\\\ {mittel} & (-446.40 \\pm 34.68)\\end{array}$$"
      ],
      "text/plain": [
       "<IPython.core.display.Latex object>"
      ]
     },
     "metadata": {},
     "output_type": "display_data"
    },
    {
     "data": {
      "text/latex": [
       "$${\\frac1{f}} = D = (-2.24+/-0.01~\\mathrm){\\frac1{m}}$$"
      ],
      "text/plain": [
       "<IPython.core.display.Latex object>"
      ]
     },
     "metadata": {},
     "output_type": "display_data"
    }
   ],
   "source": [
    "#Konkavlinse Brennweite messen\n",
    "\n",
    "#Konvexlinse daten #2 mal durchgeführt den versuch\n",
    "g_1_werte = np.array([306, 300])   #mm\n",
    "b_1_werte = np.array([294, 310])   #mm\n",
    "\n",
    "#Konkavlinse daten\n",
    "d_werte = np.array([1306-1263, 43]) #Abstand der beiden linsen\n",
    "b_2_werte = np.array([1263-620, 1257-657]) #abstand zum schirm\n",
    "\n",
    "d = unp.uarray(d_werte, unsicherheit)\n",
    "b_2 = unp.uarray(b_2_werte, unsicherheit)\n",
    "\n",
    "g_1 = unp.uarray(g_1_werte, unsicherheit) \n",
    "b_1 = unp.uarray(b_1_werte, unsicherheit)\n",
    "\n",
    "g_2 = -(b_1-d)\n",
    "\n",
    "f = 1/(1/b_2+1/g_2)       #mm\n",
    "\n",
    "f_nom = unp.nominal_values(f)\n",
    "f_std = unp.std_devs(f)\n",
    "\n",
    "#-----------------------------------------------------------------------------------\n",
    "table = r\"\"\"$$\n",
    "\\begin{array}{c|c}\n",
    "\\textbf{} & \\textbf{Brennweite} ~f~[\\mathrm{mm?}] \\\\ \\hline\n",
    "\"\"\"\n",
    "for i, (nom, std) in enumerate(zip(f_nom, f_std)):\n",
    "    table += rf\"{i} & ({nom:.2f} \\pm {std:.2f}) \\\\ \"\n",
    "table += rf\"\\\\ {{mittel}} & ({unp.nominal_values(mean(f)):.2f} \\pm {unp.std_devs(mean(f)):.2f})\"\n",
    "table += r\"\\end{array}$$\"\n",
    "\n",
    "display(Latex(table))\n",
    "#Die tausend ist um von 1/mm in 1/m umzuwandeln\n",
    "display(Latex(rf\"$${{\\frac{1}{{f}}}} = D = ({1/(ufloat(np.mean((unp.nominal_values(f))),1)/1000):.2f}~\\mathrm){{\\frac{1}{{m}}}}$$\"))\n",
    "        \n",
    "#!!!!!!!!!!!!!!!von mir gerunderter wert!!!!!!!!!!!!!!!"
   ]
  },
  {
   "cell_type": "markdown",
   "id": "f17ecc89",
   "metadata": {},
   "source": [
    "### Diskussion\n"
   ]
  },
  {
   "cell_type": "markdown",
   "id": "50bf90ec",
   "metadata": {},
   "source": [
    "## Linsenfehler\n",
    "\n",
    "### Versuchsaufbau und Durchführung\n",
    "\n",
    "Zur Bestimmung der sphärischen Abberation eienr Konvexlinse wird ähnlich vorgegangen wie bei der Bestimmung ihrer Brennweite, mit dem Unterschied, dass Blenden verwendet werden um abwechselnd achsennahe und achsenferne Strahlen auszublenden. Es wird erneut eine Messreihe von mindestens fünf Messungen angefertigt, die Brennweiten für achsenferne uns achsennahe Strahlen mithilfe der Linsengleichung berechnet und deren Unsicherheit angegeben.\n",
    "\n",
    "Um die chromatische Abberation zu bestimmen werden Farbfilter in den Farben rot, grün und blau verwendet. Vor dem Einsetzen der Farbfilter wird der Abstand zwischen Lichtquelle und Gegenstand erhöht und ein möglichst paralleles Lichtbündel erzeugt. Hierzu kann auch die Blende zum Ausblenden der achsenfernen Strahlen verwendet werden. Anschließend werden erneut die Bildweiten bestimmt und die Brennweiten mitsamt Unsicherheiten berechnet. Auch hier wird eine Messreihe von jeweils mindestens fünf Messungen angefertigt.  \n",
    "\n",
    "#### Wichtige Formeln\n",
    "\n",
    "* Linsengleichung: $\\frac{1}{f}=\\frac{1}{b}+\\frac{1}{g}$\n",
    "\n",
    "#### Verwendete Geräte und Unsicherheiten\n",
    "\n",
    "* Optische Bank: 1 mm ? (Auflösung)\n",
    "\n",
    "### Ergebnisse"
   ]
  },
  {
   "cell_type": "code",
   "execution_count": 24,
   "id": "5a155091",
   "metadata": {},
   "outputs": [
    {
     "data": {
      "text/latex": [
       "$$\n",
       "\\begin{array}{cc}\n",
       "\\\\ \\textbf{Ferne Bildweite} ~b_f~[\\mathrm{mm}] & \\textbf{Nahe Bildweite} ~b_n~[\\mathrm{mm}]\\\\ \\hline \\\\\n",
       "(276.00 \\pm 1.41) & (318.00 \\pm 1.41) \\\\ (270.00 \\pm 1.41) & (316.00 \\pm 1.41) \\\\ (276.00 \\pm 1.41) & (319.00 \\pm 1.41) \\\\ (283.00 \\pm 1.41) & (316.00 \\pm 1.41) \\\\ (279.00 \\pm 1.41) & (317.00 \\pm 1.41) \\\\ \\\\ \\hline \\\\\\bar{b_f}=(276.80 \\pm 2.13) & \\bar{b_n}=(317.20 \\pm 0.58) \\\\ \\\\ b_f = (277 \\pm  5) & b_n = (317 \\pm  5)\\\\\\end{array}$$"
      ],
      "text/plain": [
       "<IPython.core.display.Latex object>"
      ]
     },
     "metadata": {},
     "output_type": "display_data"
    }
   ],
   "source": [
    "#Sphärische abberration\n",
    "\n",
    "b_n = ufloat(1300, 1) - unp.uarray([982, 984, 981, 984, 983], unsicherheit) #mm           #Achsennahe Blende\n",
    "b_f = ufloat(1300, 1) - unp.uarray([1024, 1030, 1024, 1017, 1021], unsicherheit) #mm      #Achsenferne Blende\n",
    "\n",
    "table = r\"\"\"$$\n",
    "\\begin{array}{cc}\n",
    "\\\\ \\textbf{Ferne Bildweite} ~b_f~[\\mathrm{mm}] & \\textbf{Nahe Bildweite} ~b_n~[\\mathrm{mm}]\\\\ \\hline \\\\\n",
    "\"\"\"\n",
    "for i, (bn, bf) in enumerate(zip(b_f, b_n), start=1):\n",
    "    table += rf\"({unp.nominal_values(bn):.2f} \\pm {unp.std_devs(bn):.2f}) & \"\n",
    "    table += rf\"({unp.nominal_values(bf):.2f} \\pm {unp.std_devs(bf):.2f}) \\\\ \"\n",
    "\n",
    "#hier werden die mittelwerte in der tabelle angezeigt \n",
    "table += r\"\\\\ \\hline \\\\\"\n",
    "table += rf\"\\bar{{b_f}}=({unp.nominal_values(mean(b_f)):.2f} \\pm {unp.std_devs(mean(b_f)):.2f}) & \"\n",
    "table += rf\"\\bar{{b_n}}=({unp.nominal_values(mean(b_n)):.2f} \\pm {unp.std_devs(mean(b_n)):.2f}) \\\\ \"\n",
    "\n",
    "#hier werden die letzendlichen werte in der tabelle angezeigt \n",
    "# \n",
    "# !!!!!!!!!!(die unsicherheit wurden auf 5mm gerundet)!!!!!!!!!!\n",
    "table += rf\"\\\\ b_f = ({unp.nominal_values(mean(b_f)):.0f} \\pm  5) &\"\n",
    "table += rf\" b_n = ({unp.nominal_values(mean(b_n)):.0f} \\pm  5)\\\\\"\n",
    "table += r\"\\end{array}$$\"\n",
    "\n",
    "display(Latex(table))\n",
    "\n"
   ]
  },
  {
   "cell_type": "code",
   "execution_count": 25,
   "id": "471b19c2",
   "metadata": {},
   "outputs": [
    {
     "data": {
      "text/latex": [
       "\n",
       "$$\n",
       "\\begin{array}{ccc}\n",
       "\\\\ \\textbf{Rote Bildweite}~b_r~[\\mathrm{mm}] & \\textbf{Grüne Bildweite}~b_g~[\\mathrm{mm}] & \\textbf{Blaue Bildweite}~b_b~[\\mathrm{mm}] \\\\ \\\\ \\hline \\\\\n",
       "(188.00 \\pm 1.41) & (190.00 \\pm 1.41) & (188.00 \\pm 1.41) \\\\(188.00 \\pm 1.41) & (190.00 \\pm 1.41) & (187.00 \\pm 1.41) \\\\(188.00 \\pm 1.41) & (191.00 \\pm 1.41) & (187.00 \\pm 1.41) \\\\(187.00 \\pm 1.41) & (189.00 \\pm 1.41) & (188.00 \\pm 1.41) \\\\(188.00 \\pm 1.41) & (189.00 \\pm 1.41) & (189.00 \\pm 1.41) \\\\(187.00 \\pm 1.41) & (188.00 \\pm 1.41) & (186.00 \\pm 1.41) \\\\\\\\ \\hline \\\\(187.67 \\pm 0.21) & (189.50 \\pm 0.43) & (187.50 \\pm 0.43) \\\\ \\\\ b_r = (188 \\pm 5) &  b_g =(190 \\pm 5) &  b_b =(188 \\pm 5) \\\\ \\end{array}$$"
      ],
      "text/plain": [
       "<IPython.core.display.Latex object>"
      ]
     },
     "metadata": {},
     "output_type": "display_data"
    }
   ],
   "source": [
    "#Chromatische Aberration\n",
    "\n",
    "\n",
    "b_r = ufloat(750, 1) - unp.uarray([562 , 562, 562, 563, 562, 563], unsicherheit) #mm\n",
    "b_g = ufloat(750, 1) - unp.uarray([560 , 560, 559, 561, 561, 562], unsicherheit) #mm\n",
    "b_b = ufloat(750, 1) - unp.uarray([562 ,563 , 563, 562, 561, 564], unsicherheit) #mm\n",
    "\n",
    "\n",
    "table = r\"\"\"\n",
    "$$\n",
    "\\begin{array}{ccc}\n",
    "\\\\ \\textbf{Rote Bildweite}~b_r~[\\mathrm{mm}] & \\textbf{Grüne Bildweite}~b_g~[\\mathrm{mm}] & \\textbf{Blaue Bildweite}~b_b~[\\mathrm{mm}] \\\\ \\\\ \\hline \\\\\n",
    "\"\"\"\n",
    "for i, (br, bg, bb) in enumerate(zip(b_r, b_g, b_b), start=1):\n",
    "    table += rf\"({unp.nominal_values(br):.2f} \\pm {unp.std_devs(br):.2f}) & \"\n",
    "    table += rf\"({unp.nominal_values(bg):.2f} \\pm {unp.std_devs(bg):.2f}) & \"\n",
    "    table += rf\"({unp.nominal_values(bb):.2f} \\pm {unp.std_devs(bb):.2f}) \\\\\"\n",
    "\n",
    "#hier werden die mittelwerte in der tabelle angezeigt\n",
    "table += r\"\\\\ \\hline \\\\\"\n",
    "table += rf\"({unp.nominal_values(mean(b_r)):.2f} \\pm {unp.std_devs(mean(b_r)):.2f}) & \"\n",
    "table += rf\"({unp.nominal_values(mean(b_g)):.2f} \\pm {unp.std_devs(mean(b_g)):.2f}) & \"\n",
    "table += rf\"({unp.nominal_values(mean(b_b)):.2f} \\pm {unp.std_devs(mean(b_b)):.2f}) \\\\ \"\n",
    "\n",
    "#hier werden die letzendlichen werte in der tabelle angezeigt \n",
    "# \n",
    "# !!!!!!!!!!(die unsicherheit wurden auf 5mm gerundet)!!!!!!!!!!\n",
    "table += rf\"\\\\ b_r = ({unp.nominal_values(mean(b_r)):.0f} \\pm 5) & \"\n",
    "table += rf\" b_g =({unp.nominal_values(mean(b_g)):.0f} \\pm 5) & \"\n",
    "table += rf\" b_b =({unp.nominal_values(mean(b_b)):.0f} \\pm 5) \\\\ \"\n",
    "table += r\"\\end{array}$$\"\n",
    "\n",
    "display(Latex(table))"
   ]
  },
  {
   "cell_type": "markdown",
   "id": "c6e1285c",
   "metadata": {},
   "source": [
    "### Diskussion\n",
    "\n"
   ]
  }
 ],
 "metadata": {
  "kernelspec": {
   "display_name": "venv (3.12.3)",
   "language": "python",
   "name": "python3"
  },
  "language_info": {
   "codemirror_mode": {
    "name": "ipython",
    "version": 3
   },
   "file_extension": ".py",
   "mimetype": "text/x-python",
   "name": "python",
   "nbconvert_exporter": "python",
   "pygments_lexer": "ipython3",
   "version": "3.12.3"
  }
 },
 "nbformat": 4,
 "nbformat_minor": 5
}
