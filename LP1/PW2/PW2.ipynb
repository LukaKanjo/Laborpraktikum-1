{
 "cells": [
  {
   "cell_type": "code",
   "execution_count": 87,
   "id": "9629dbe8",
   "metadata": {},
   "outputs": [],
   "source": [
    "#Die ganzen packages die für den versuch verwendet werden\n",
    "\n",
    "import numpy as np #numpy ist ein package mit allen mathematischen ausdrücken/funktionen/operationen/etc. \n",
    "from uncertainties import ufloat #Uncertainties ist für das automatische berrechnen von unsicherheiten\n",
    "from uncertainties.umath import * #Importieren von rechnen mit uncertainties (addition/multiplikation/etc.)\n",
    "from uncertainties import unumpy as unp #kann arrays von unsicherheiten verstehen (also eine liste, statt jede zahl einzeln einzutippen)\n",
    "from IPython.display import Latex, HTML, Math, display # Um ergebnisse schöner anzuzeigen. display() \"ersetzt\" quasi print(), und lässt latex fromatierung zu\n",
    "\n",
    "#funktion für mittelwert mit fehler defnieren (um später ein uarray mit unsicherheiten direkt zu einem mittelwert zu machen)\n",
    "def mean(values):\n",
    "    nom = unp.nominal_values(values)\n",
    "    std_mean = np.std(nom, ddof=1) / np.sqrt(len(nom))\n",
    "    return ufloat(np.mean(nom), std_mean)\n",
    "\n",
    "\n",
    "unsicherheit = 1 #mm?   #Ich nehme mal an das die gemessene unsicherheit immer gleich bleibt, also brauchen wir die nur einmal"
   ]
  },
  {
   "cell_type": "markdown",
   "id": "8bbf8efe",
   "metadata": {},
   "source": [
    "# Geometrische Optik\n",
    "\n",
    "## Bestimmung der Brechkraft einer Konvexlinse\n",
    "\n",
    "### Bei unveränderter Gegenstandsweite\n",
    "\n",
    "Durch mehrmalige Messung wird bei fixierter Gegenstandsweite die Bildweite bestimmt. Mithilfe der Linsengleichung kann dann aus Bild- und Gegenstandsweite die Brennweite und somit auch die Brechkraft in Dioptrien errechnet werden. \n",
    "    \n",
    "\\begin{gather}\n",
    "\\frac{1}{f}=\\frac{1}{b}+\\frac{1}{g}\n",
    "\\end{gather}\n",
    "\n",
    "\n",
    "\n",
    "$$D = (6.6 \\pm 0.5) \\frac{1}{m}$$\n",
    "\n",
    "### Mithilfe des Besselverfahrens\n",
    "\n",
    "Dieses Verfahren beruht auf der Veränderung der Distanz e zwischen Schirm und Linse, wobei e größer als 4f sein muss. Daraus ergibt sich dann die neue Gleichung für die Brennweite: \n",
    "\n",
    "\\begin{gather}\n",
    "f = \\frac{1}{4}(e-\\frac{d^2}{e})\n",
    "\\end{gather}\n",
    "\n",
    "Mit 5 verschiedenen Werten für e ergibt sich dann für die Brechkraft D: \n",
    "\n",
    "$$D = (6.5 \\pm 0.5) \\frac{1}{m}$$\n",
    "\n",
    "Auch hier überwiegt die Ableseunsicherheit im Vergleich zu statistischen und wird deshalb als Gesamtunsicherheit angenommen.\n",
    "\n",
    "## Bestimmung der Brechkraft einer Konkavlinse \n",
    "\n",
    "Weil eine Konkavlinse ein virtuelles und kein reelles Bild erzeugt, wird bei der Messung eine Konvexlinse dazugenommen. Daraus ergibt sich die neue Gegenstandsweite\n",
    "\n",
    "\\begin{gather}\n",
    "g_2 = -(b_1-d)\n",
    "\\end{gather}\n",
    "\n",
    "Danach wird die Bildweite $b_2$  der Konkavlinse gemessen. d beschreibt den Abstand der beiden Linsen und $b_1$ ist die Bildweite der Konvexlinse.\n",
    "\n",
    "Daraus ergibt sich dann die Brechkraft\n",
    "\n",
    "$$D = (-2.3 \\pm 0.5) \\frac{1}{m}$$\n",
    "\n",
    "\n",
    "## Anmerkung zu den Unsicherheiten\n",
    "\n",
    "Die von uns verwendeten Unsicherheiten sind höher als jene, die statistisch errechnet wurden. Das liegt daran, dass die Einstellung der optimalen Schärfe ebenfalls einen relativ großen Fehler mit sich zieht. Wir haben sie also als  $$ \\pm 0.5\\frac{1}{m}$$ angenommen. In den Messwerttabellen finden sich die exakt errechneten Unsicherheiten.\n",
    "\n",
    "\n",
    "\n",
    "\n"
   ]
  },
  {
   "cell_type": "code",
   "execution_count": 88,
   "id": "116b568e",
   "metadata": {},
   "outputs": [
    {
     "data": {
      "text/latex": [
       "$$\n",
       "\\begin{array}{c|c}\n",
       "\\textbf{} & \\textbf{Brennweite} ~f~[\\mathrm{mm}] \\\\ \\hline\n",
       "0 & (152.02 \\pm 0.50) \\\\ 1 & (152.68 \\pm 0.50) \\\\ 2 & (152.40 \\pm 0.50) \\\\ 3 & (152.21 \\pm 0.50) \\\\ 4 & (152.40 \\pm 0.50) \\\\ \\\\ {Schnitt} & (152.34 \\pm 0.11)\\end{array}$$"
      ],
      "text/plain": [
       "<IPython.core.display.Latex object>"
      ]
     },
     "metadata": {},
     "output_type": "display_data"
    },
    {
     "data": {
      "text/latex": [
       "$${\\frac1{f}} = D = (6.56+/-0.00~\\mathrm){\\frac1{m}}$$"
      ],
      "text/plain": [
       "<IPython.core.display.Latex object>"
      ]
     },
     "metadata": {},
     "output_type": "display_data"
    },
    {
     "data": {
      "text/latex": [
       "$$D = (6.56\\pm 0.5~\\mathrm){\\frac1{m}}$$"
      ],
      "text/plain": [
       "<IPython.core.display.Latex object>"
      ]
     },
     "metadata": {},
     "output_type": "display_data"
    },
    {
     "data": {
      "text/latex": [
       "$$\\mathrm{\\textbf{Besselverfahren}}$$"
      ],
      "text/plain": [
       "<IPython.core.display.Latex object>"
      ]
     },
     "metadata": {},
     "output_type": "display_data"
    },
    {
     "data": {
      "text/latex": [
       "$$\n",
       "\\begin{array}{c|c}\n",
       "\\textbf{} & \\textbf{Brennweite} ~f~[\\mathrm{mm?}] \\\\ \\hline\n",
       "0 & (152.40 \\pm 0.49) \\\\ 1 & (151.58 \\pm 0.54) \\\\ 2 & (153.44 \\pm 0.55) \\\\ 3 & (152.14 \\pm 0.59) \\\\ 4 & (152.67 \\pm 0.60) \\\\ \\\\ {Schnitt} & (152.45 \\pm 0.31)\\end{array}$$"
      ],
      "text/plain": [
       "<IPython.core.display.Latex object>"
      ]
     },
     "metadata": {},
     "output_type": "display_data"
    },
    {
     "data": {
      "text/latex": [
       "$${\\frac1{f}} = D = (6.56+/-0.01~\\mathrm){\\frac1{m}}$$"
      ],
      "text/plain": [
       "<IPython.core.display.Latex object>"
      ]
     },
     "metadata": {},
     "output_type": "display_data"
    },
    {
     "data": {
      "text/latex": [
       "$$D = (6.56\\pm 0.5~\\mathrm){\\frac1{m}}$$"
      ],
      "text/plain": [
       "<IPython.core.display.Latex object>"
      ]
     },
     "metadata": {},
     "output_type": "display_data"
    }
   ],
   "source": [
    "####################################################################################\n",
    "#Punkt a,\n",
    "\n",
    "#werte liste für die gegenstands/bildweite (entfernung von linse) g/b:\n",
    "#üssen nur 5 min. sein\n",
    "\n",
    "g_1_werte = 220   #mm #gegenstandsweite bleibt konstant\n",
    "b_1_werte = np.array([1138, 1131, 1134, 1136, 1134])   #mm\n",
    "\n",
    "#unsicherheitsabelle mit einzelnen werten erstellen:\n",
    "\n",
    "g = ufloat(g_1_werte, unsicherheit)\n",
    "b = ufloat(1630, 1) - unp.uarray(b_1_werte, unsicherheit) #position von schirm von der positionder linse abziehen um die länge b zu bekommen\n",
    "\n",
    "#formel für brennweite f:\n",
    "\n",
    "f = 1/(1/b+1/g)       #mm\n",
    "\n",
    "#f ist ein wert mit unsicherheit f = f_nom +- f_std\n",
    "f_nom = unp.nominal_values(f)       #nominal-werte von f (also nur die werte)\n",
    "f_std = unp.std_devs(f)             #standard deviation von f (also nur unsicherheit)\n",
    "\n",
    "#-----------------------------------------------------------------------------------\n",
    "#ab hier nur noch um die daten schon zu darzustellen:\n",
    "\n",
    "#Latex tabelle definieren\n",
    "table = r\"\"\"$$\n",
    "\\begin{array}{c|c}\n",
    "\\textbf{} & \\textbf{Brennweite} ~f~[\\mathrm{mm}] \\\\ \\hline\n",
    "\"\"\"\n",
    "#für jedes i-te paar (nom,std) in der numerierten liste [(1,0.1),(2,0.1),(3,0.1)...] fügen wir der vorher definierten tabelle einen neuen eintrag ein:\n",
    "#(table += rf\"{i-ter eintrag} & wertepaar\"). Wenn keine i mehr übrig sind hört der loop mit table += r\"\\end{array}\" auf.\n",
    "for i, (nom, std) in enumerate(zip(f_nom, f_std)):\n",
    "    table += rf\"{i} & ({nom:.2f} \\pm {std:.2f}) \\\\ \"\n",
    "table += rf\"\\\\ {{Schnitt}} & ({unp.nominal_values(mean(f)):.2f} \\pm {unp.std_devs(mean(f)):.2f})\" #bevor der loop endet wird noch in die letzte zeile der mittelwert dazugegeben\n",
    "table += r\"\\end{array}$$\"\n",
    "\n",
    "#Tabelle anzeigen lassen (printen)\n",
    "display(Latex(table))\n",
    "\n",
    "\n",
    "display(Latex(rf\"$${{\\frac{1}{{f}}}} = D = ({1/mean(f)*1000:.2f}~\\mathrm){{\\frac{1}{{m}}}}$$\"))\n",
    "display(Latex(rf\"$$D = ({1/(unp.nominal_values(mean(f))/1000):.2f}\\pm 0.5~\\mathrm){{\\frac{1}{{m}}}}$$\"))\n",
    "#-----------------------------------------------------------------------------------\n",
    "\n",
    "####################################################################################\n",
    "\n",
    "####################################################################################\n",
    "#Punkt b, Besselverfahren\n",
    "\n",
    "#werte liste für e (gegenstand-schirm abstand) und d = d_2 - d_1 (verschiebung/symmetrische linsenposition):\n",
    "\n",
    "\n",
    "e =   ufloat(1850, 1) - unp.uarray([1138, 1080, 1050, 1000, 980], unsicherheit) #mm  #position von objekt minus position von schirm ist e\n",
    "d_1 =  unp.uarray([1360, 1290, 1261, 1202, 1183], unsicherheit) #mm  #erste linsen position\n",
    "d_2 = unp.uarray([1630, 1645, 1647, 1655, 1658], unsicherheit) #mm #zweite linsen postion\n",
    "\n",
    "d = d_2-d_1 #linsen postionen voneinander abziehen um total zu bekommen.\n",
    "\n",
    "#formel für brennweite f:\n",
    "\n",
    "f_1 = (1/4)*(e-((d**2)/e))       #mm\n",
    "\n",
    "f_nom_1 = unp.nominal_values(f_1)\n",
    "f_std_1 = unp.std_devs(f_1)\n",
    "\n",
    "display(Latex(r\"$$\\mathrm{\\textbf{Besselverfahren}}$$\"))\n",
    "table = r\"\"\"$$\n",
    "\\begin{array}{c|c}\n",
    "\\textbf{} & \\textbf{Brennweite} ~f~[\\mathrm{mm?}] \\\\ \\hline\n",
    "\"\"\"\n",
    "for i, (nom_1, std_1) in enumerate(zip(f_nom_1, f_std_1)):\n",
    "    table += rf\"{i} & ({nom_1:.2f} \\pm {std_1:.2f}) \\\\ \"\n",
    "table += rf\"\\\\ {{Schnitt}} & ({unp.nominal_values(mean(f_1)):.2f} \\pm {unp.std_devs(mean(f_1)):.2f})\"\n",
    "table += r\"\\end{array}$$\"\n",
    "\n",
    "display(Latex(table))\n",
    "#Zeigt den berrechneten wert 1/mittelwert an und konvertiert von mm in m (1/1000)\n",
    "display(Latex(rf\"$${{\\frac{1}{{f}}}} = D = ({1/(mean(f_1)/1000):.2f}~\\mathrm){{\\frac{1}{{m}}}}$$\"))\n",
    "#!!!!!!!!!!!!!UNSICHERHEIT IST VON UNS EINGETRAGEN WORDEN\n",
    "display(Latex(rf\"$$D = ({1/(unp.nominal_values(mean(f_1))/1000):.2f}\\pm 0.5~\\mathrm){{\\frac{1}{{m}}}}$$\"))\n",
    "####################################################################################\n"
   ]
  },
  {
   "cell_type": "code",
   "execution_count": 89,
   "id": "1cca5b11",
   "metadata": {},
   "outputs": [
    {
     "data": {
      "text/latex": [
       "$$\n",
       "\\begin{array}{c|c}\n",
       "\\textbf{} & \\textbf{Brennweite} ~f~[\\mathrm{mm?}] \\\\ \\hline\n",
       "0 & (-485.66 \\pm 10.69) \\\\ 1 & (-481.44 \\pm 8.17) \\\\ \\\\ {Schnitt} & (-483.55 \\pm 2.11)\\end{array}$$"
      ],
      "text/plain": [
       "<IPython.core.display.Latex object>"
      ]
     },
     "metadata": {},
     "output_type": "display_data"
    },
    {
     "data": {
      "text/latex": [
       "$${\\frac1{f}} = D = (-2.07+/-0.01~\\mathrm){\\frac1{m}}$$"
      ],
      "text/plain": [
       "<IPython.core.display.Latex object>"
      ]
     },
     "metadata": {},
     "output_type": "display_data"
    },
    {
     "data": {
      "text/latex": [
       "$$D = (-2.07\\pm 0.5 ~\\mathrm){\\frac1{m}}$$"
      ],
      "text/plain": [
       "<IPython.core.display.Latex object>"
      ]
     },
     "metadata": {},
     "output_type": "display_data"
    }
   ],
   "source": [
    "#Konkavlinse Brennweite messen\n",
    "\n",
    "#Konvexlinse daten\n",
    "g_1_werte = np.array([405 , 395])   #mm?\n",
    "b_1_werte = np.array([244 , 253])   #mm?\n",
    "\n",
    "#Konkavlinse daten\n",
    "d_werte = np.array([64 , 50]) #Abstand der beiden linsen\n",
    "b_2_werte = np.array([286 , 351]) #abstand zum schirm\n",
    "\n",
    "d = unp.uarray(d_werte, unsicherheit)\n",
    "b_2 = unp.uarray(b_2_werte, unsicherheit)\n",
    "\n",
    "g_1 = unp.uarray(g_1_werte, unsicherheit) \n",
    "b_1 = unp.uarray(b_1_werte, unsicherheit)\n",
    "\n",
    "g_2 = -(b_1-d)\n",
    "\n",
    "f = 1/(1/b_2+1/g_2)       #mm?\n",
    "\n",
    "f_nom = unp.nominal_values(f)\n",
    "f_std = unp.std_devs(f)\n",
    "\n",
    "#-----------------------------------------------------------------------------------\n",
    "table = r\"\"\"$$\n",
    "\\begin{array}{c|c}\n",
    "\\textbf{} & \\textbf{Brennweite} ~f~[\\mathrm{mm?}] \\\\ \\hline\n",
    "\"\"\"\n",
    "for i, (nom, std) in enumerate(zip(f_nom, f_std)):\n",
    "    table += rf\"{i} & ({nom:.2f} \\pm {std:.2f}) \\\\ \"\n",
    "table += rf\"\\\\ {{Schnitt}} & ({unp.nominal_values(mean(f)):.2f} \\pm {unp.std_devs(mean(f)):.2f})\"\n",
    "table += r\"\\end{array}$$\"\n",
    "\n",
    "display(Latex(table))\n",
    "#Die tausend ist um von 1/mm in 1/m umzuwandeln\n",
    "display(Latex(rf\"$${{\\frac{1}{{f}}}} = D = ({1/(mean(f)/1000):.2f}~\\mathrm){{\\frac{1}{{m}}}}$$\"))\n",
    "#!!!!!!!!!!!!!!!von mir gerunderter wert!!!!!!!!!!!!!!!\n",
    "display(Latex(rf\"$$D = ({1/(unp.nominal_values(mean(f))/1000):.2f}\\pm 0.5 ~\\mathrm){{\\frac{1}{{m}}}}$$\"))"
   ]
  },
  {
   "cell_type": "markdown",
   "id": "f17ecc89",
   "metadata": {},
   "source": []
  },
  {
   "cell_type": "markdown",
   "id": "50bf90ec",
   "metadata": {},
   "source": [
    "# Linsenfehler\n",
    "\n",
    "## Sphärische Aberration\n",
    "\n",
    "Aus der Krümmung einer Linse ergeben sich für achsennahe und achsenferne Parallelstrahlen unterschiedliche Einfallswinkel auf eine sphärische Linse. Durch getrennte Beobachtung der achsennahen und -fernen Strahlen ergeben sich dann unterschiedliche Bildweiten. "
   ]
  },
  {
   "cell_type": "code",
   "execution_count": 90,
   "id": "5a155091",
   "metadata": {},
   "outputs": [
    {
     "data": {
      "text/latex": [
       "$$\n",
       "\\begin{array}{cc}\n",
       "\\\\ \\textbf{Ferne Bildweite} ~b_f~[\\mathrm{mm}] & \\textbf{Nahe Bildweite} ~b_n~[\\mathrm{mm}]\\\\ \\hline \\\\\n",
       "(239.00 \\pm 1.41) & (272.00 \\pm 1.41) \\\\ (243.00 \\pm 1.41) & (274.00 \\pm 1.41) \\\\ (240.00 \\pm 1.41) & (281.00 \\pm 1.41) \\\\ (241.00 \\pm 1.41) & (279.00 \\pm 1.41) \\\\ (241.00 \\pm 1.41) & (277.00 \\pm 1.41) \\\\ \\\\ \\hline \\\\\\bar{b_f}=(240.80 \\pm 0.66) mm & \\bar{b_f}=(276.60 \\pm 1.63) mm\\\\ \\\\ b_f = (241 \\pm  5) mm & b_n = (277 \\pm  5) mm\\\\\\end{array}$$"
      ],
      "text/plain": [
       "<IPython.core.display.Latex object>"
      ]
     },
     "metadata": {},
     "output_type": "display_data"
    }
   ],
   "source": [
    "#Sphärische abberration\n",
    "\n",
    "b_n = ufloat(1500, 1) - unp.uarray([1228, 1226, 1219, 1221, 1223], unsicherheit) #mm?        #Achsennahe Blende\n",
    "b_f = ufloat(1500, 1) - unp.uarray([1261, 1257, 1260, 1259, 1259], unsicherheit) #mm?        #Achsenferne Blende\n",
    "\n",
    "table = r\"\"\"$$\n",
    "\\begin{array}{cc}\n",
    "\\\\ \\textbf{Ferne Bildweite} ~b_f~[\\mathrm{mm}] & \\textbf{Nahe Bildweite} ~b_n~[\\mathrm{mm}]\\\\ \\hline \\\\\n",
    "\"\"\"\n",
    "for i, (bn, bf) in enumerate(zip(b_f, b_n), start=1):\n",
    "    table += rf\"({unp.nominal_values(bn):.2f} \\pm {unp.std_devs(bn):.2f}) & \"\n",
    "    table += rf\"({unp.nominal_values(bf):.2f} \\pm {unp.std_devs(bf):.2f}) \\\\ \"\n",
    "\n",
    "#hier werden die mittelwerte in der tabelle angezeigt \n",
    "table += r\"\\\\ \\hline \\\\\"\n",
    "table += rf\"\\bar{{b_f}}=({unp.nominal_values(mean(b_f)):.2f} \\pm {unp.std_devs(mean(b_f)):.2f}) mm & \"\n",
    "table += rf\"\\bar{{b_f}}=({unp.nominal_values(mean(b_n)):.2f} \\pm {unp.std_devs(mean(b_n)):.2f}) mm\\\\ \"\n",
    "\n",
    "#hier werden die letzendlichen werte in der tabelle angezeigt \n",
    "# \n",
    "# !!!!!!!!!!(die unsicherheit wurden auf 5mm gerundet)!!!!!!!!!!\n",
    "table += rf\"\\\\ b_f = ({unp.nominal_values(mean(b_f)):.0f} \\pm  5) mm &\"\n",
    "table += rf\" b_n = ({unp.nominal_values(mean(b_n)):.0f} \\pm  5) mm\\\\\"\n",
    "table += r\"\\end{array}$$\"\n",
    "\n",
    "display(Latex(table))\n",
    "\n"
   ]
  },
  {
   "cell_type": "markdown",
   "id": "4b9946c2",
   "metadata": {},
   "source": [
    "## Chromatische Aberration\n",
    "\n",
    "Da durch verschiedene Frequenzen die jeweiligen Lichtstrahlen unterschiedlich stark gebrochen werden, haben verschieden Farben verschiedene Brennpunkte. Um verschieden Farben mit verschiedenen Frequenzen zu messen, werden Farbfilter verwendet. Intuitiv sollte blaues Licht am stärksten gebrochen werden, da die Bedingungen in diesem Experiment allerdings nicht optimal waren, sind die Messergebnisse genau anders herum, wenn auch nur mit minimalen Unterschieden von Farbe zu Farbe. Die Umstände haben also kein schlüssiges Ergebnis zur Folge."
   ]
  },
  {
   "cell_type": "code",
   "execution_count": 91,
   "id": "471b19c2",
   "metadata": {},
   "outputs": [
    {
     "data": {
      "text/latex": [
       "\n",
       "$$\n",
       "\\begin{array}{ccc}\n",
       "\\\\ \\textbf{Rote Bildweite}~b_r~[\\mathrm{mm}] & \\textbf{Grüne Bildweite}~b_g~[\\mathrm{mm}] & \\textbf{Blaue Bildweite}~b_b~[\\mathrm{mm}] \\\\ \\\\ \\hline \\\\\n",
       "(192.00 \\pm 1.41) & (191.00 \\pm 1.41) & (192.00 \\pm 1.41) \\\\(192.00 \\pm 1.41) & (189.00 \\pm 1.41) & (192.00 \\pm 1.41) \\\\(188.00 \\pm 1.41) & (194.00 \\pm 1.41) & (193.00 \\pm 1.41) \\\\\\\\ \\hline \\\\(190.67 \\pm 1.33) & (191.33 \\pm 1.45) & (192.33 \\pm 0.33) \\\\ \\\\ b_r = (191 \\pm 5) mm &  b_g =(191 \\pm 5)mm &  b_b =(192 \\pm 5)mm \\\\ \\end{array}$$"
      ],
      "text/plain": [
       "<IPython.core.display.Latex object>"
      ]
     },
     "metadata": {},
     "output_type": "display_data"
    }
   ],
   "source": [
    "#Chromatische Aberration\n",
    "\n",
    "\n",
    "b_r = ufloat(900, 1) - unp.uarray([708 , 708, 712], unsicherheit) #mm?\n",
    "b_g = ufloat(900, 1) - unp.uarray([709 , 711, 706], unsicherheit) #mm?\n",
    "b_b = ufloat(900, 1) - unp.uarray([708 , 708 , 707], unsicherheit) #mm?\n",
    "\n",
    "\n",
    "table = r\"\"\"\n",
    "$$\n",
    "\\begin{array}{ccc}\n",
    "\\\\ \\textbf{Rote Bildweite}~b_r~[\\mathrm{mm}] & \\textbf{Grüne Bildweite}~b_g~[\\mathrm{mm}] & \\textbf{Blaue Bildweite}~b_b~[\\mathrm{mm}] \\\\ \\\\ \\hline \\\\\n",
    "\"\"\"\n",
    "for i, (br, bg, bb) in enumerate(zip(b_r, b_g, b_b), start=1):\n",
    "    table += rf\"({unp.nominal_values(br):.2f} \\pm {unp.std_devs(br):.2f}) & \"\n",
    "    table += rf\"({unp.nominal_values(bg):.2f} \\pm {unp.std_devs(bg):.2f}) & \"\n",
    "    table += rf\"({unp.nominal_values(bb):.2f} \\pm {unp.std_devs(bb):.2f}) \\\\\"\n",
    "\n",
    "#hier werden die mittelwerte in der tabelle angezeigt\n",
    "table += r\"\\\\ \\hline \\\\\"\n",
    "table += rf\"({unp.nominal_values(mean(b_r)):.2f} \\pm {unp.std_devs(mean(b_r)):.2f}) & \"\n",
    "table += rf\"({unp.nominal_values(mean(b_g)):.2f} \\pm {unp.std_devs(mean(b_g)):.2f}) & \"\n",
    "table += rf\"({unp.nominal_values(mean(b_b)):.2f} \\pm {unp.std_devs(mean(b_b)):.2f}) \\\\ \"\n",
    "\n",
    "#hier werden die letzendlichen werte in der tabelle angezeigt \n",
    "# \n",
    "# !!!!!!!!!!(die unsicherheit wurden auf 5mm gerundet)!!!!!!!!!!\n",
    "table += rf\"\\\\ b_r = ({unp.nominal_values(mean(b_r)):.0f} \\pm 5) mm & \"\n",
    "table += rf\" b_g =({unp.nominal_values(mean(b_g)):.0f} \\pm 5)mm & \"\n",
    "table += rf\" b_b =({unp.nominal_values(mean(b_b)):.0f} \\pm 5)mm \\\\ \"\n",
    "table += r\"\\end{array}$$\"\n",
    "\n",
    "display(Latex(table))"
   ]
  },
  {
   "cell_type": "markdown",
   "id": "c6e1285c",
   "metadata": {},
   "source": [
    "## Anmerkung zu den Unsicherheiten\n",
    "\n",
    "Die Unsicherheiten für die Versuche zur Aberration wurden aus Teil 1 zur Geometrischen Optik übernommen. "
   ]
  },
  {
   "cell_type": "raw",
   "id": "7e3314b3",
   "metadata": {
    "vscode": {
     "languageId": "raw"
    }
   },
   "source": [
    "\\newpage\n",
    "\\bibliographystyle{plain}\n",
    "\\bibliography{sources}"
   ]
  }
 ],
 "metadata": {
  "kernelspec": {
   "display_name": "lpmatrix",
   "language": "python",
   "name": "python3"
  },
  "language_info": {
   "codemirror_mode": {
    "name": "ipython",
    "version": 3
   },
   "file_extension": ".py",
   "mimetype": "text/x-python",
   "name": "python",
   "nbconvert_exporter": "python",
   "pygments_lexer": "ipython3",
   "version": "3.12.3"
  }
 },
 "nbformat": 4,
 "nbformat_minor": 5
}
