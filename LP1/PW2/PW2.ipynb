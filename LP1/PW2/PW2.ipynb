{
 "cells": [
  {
   "cell_type": "code",
   "execution_count": 55,
   "id": "9629dbe8",
   "metadata": {},
   "outputs": [],
   "source": [
    "#Die ganzen packages die für den versuch verwendet werden\n",
    "\n",
    "import numpy as np #numpy ist ein package mit allen mathematischen ausdrücken/funktionen/operationen/etc. \n",
    "from uncertainties import ufloat #Uncertainties ist für das automatische berrechnen von unsicherheiten\n",
    "from uncertainties.umath import * #Importieren von rechnen mit uncertainties (addition/multiplikation/etc.)\n",
    "from uncertainties import unumpy as unp #kann arrays von unsicherheiten verstehen (also eine liste, statt jede zahl einzeln einzutippen)\n",
    "from IPython.display import Latex, HTML, Math, display # Um ergebnisse schöner anzuzeigen. display() \"ersetzt\" quasi print(), und lässt latex fromatierung zu\n",
    "\n",
    "#funktion für mittwlert mit fehler defnieren (um später ein uarray mit unsicherheiten direkt zu einem mittelwert zu machen)\n",
    "def mean(values):\n",
    "    nom = unp.nominal_values(values)\n",
    "    std_mean = np.std(nom, ddof=1) / np.sqrt(len(nom))\n",
    "    return ufloat(np.mean(nom), std_mean)\n",
    "\n",
    "\n",
    "unsicherheit = 1 #mm?   #Ich nehme mal an das die gemessene unsicherheit immer gleich bleibt, also brauchen wir die nur einmal"
   ]
  },
  {
   "cell_type": "markdown",
   "id": "8bbf8efe",
   "metadata": {},
   "source": [
    "# Geometrische Optik\n",
    "\n",
    "## Brennweiten von Linsen\n",
    "\n",
    "### Versuchsaufbau und Durchführung\n",
    "\n",
    "Auf einer optischen Bank werden Lichtquelle, Linse(n), Gegenstand und Schirm platziert. Dabei wird darauf geachtet, dass die optiche Achse mittig durch die Linse(n) läuft.\n",
    "\n",
    "Zur Bestimmung der Brennweite einer Konvexlinse wird zuerst die Bildweite bei eienr fixen Gegenstandsweite gemessen, indem der Schirm bewegt wird, bis das Bild scharf ist. Hierbei wird eine Messreihe von mindestens fünf Werten angefertigt und die Fehler der ermittelten Größe berechnet.\n",
    "Anschließend wird die Brennweite mit dem Besselverfahren ermittelt. Hier werden fünf verschiedene Abstände $e$ zwischen Gegenstand und Schirm eingestellt, wobei hier darauf geachtet werden muss, dass dieser Abstand mindestens viermal so groß wie die Brennweite $f$ der Linse ist. Es wird jeweils der Abstand $d$ zwischen den beiden Punkten der Linse bestimmt, an denen das Bild scharf ist, und so die Brennweite ermittelt.\n",
    "\n",
    "Nun wird die Brennweite einer Konkavlinse ermittelt. Da diese kein reelles Bild zeigt, muss mit Hilfe einer Konvexlinse gearbeitet werden (siehe Skizze Versuchsaufbau). Zuerst wird mithilfe der Konvexlinse ein verkleinertes Bild erzeugt. Dieses dient der Konkavlinse als Gegenstand. Sie wird nun zwischen Schirm und Konvexlinse (mit Abstand $d$) eingebracht und der Schirm soweit verschoben, bis ein reelles, scharfes Bild zu sehen ist. Nun kann die Brennweite der Konkavlinse berechnet werden. \n",
    "\n",
    "![Skizze](Skizze.png)\n",
    "\n",
    "Aus den jeweils berechneten Brennweiten der Linsen wird zuletzt noch die Dioptrie $D$ bestimmt.\n",
    "\n",
    "#### Wichtige Formeln\n",
    "\n",
    "* Linsengleichung: $\\frac{1}{f}=\\frac{1}{b}+\\frac{1}{g}$\n",
    "* Besselverfahren: $f=\\frac{1}{4}(e-\\frac{d^2}{e})$\n",
    "* Gegenstandsweite $g_2$ bei Bestimmung der Brennweite der Konkavlinse: $g_2=-(b_1-d)$\n",
    "* Dioptrie: $D=\\frac{1}{f}$\n",
    "\n",
    "#### Verwendete Geräte und Unsicherheiten\n",
    "\n",
    "* Optische Bank: 1 mm \n",
    "\n",
    "### Ergebnisse"
   ]
  },
  {
   "cell_type": "code",
   "execution_count": 56,
   "id": "41f1050b",
   "metadata": {},
   "outputs": [
    {
     "data": {
      "text/latex": [
       "$$\n",
       "\\begin{array}{c|c}\n",
       "\\textbf{} & \\textbf{Brennweite} ~f~[\\mathrm{mm}] \\\\ \\hline\n",
       "0 & (156.86 \\pm 0.65) \\\\ 1 & (157.31 \\pm 0.65) \\\\ 2 & (154.12 \\pm 0.66) \\\\ 3 & (154.58 \\pm 0.66) \\\\ 4 & (154.58 \\pm 0.66) \\\\ 5 & (156.40 \\pm 0.65) \\\\ 6 & (156.40 \\pm 0.65) \\\\ \\\\ {mittel} & (156 \\pm 3)\\end{array}$$"
      ],
      "text/plain": [
       "<IPython.core.display.Latex object>"
      ]
     },
     "metadata": {},
     "output_type": "display_data"
    },
    {
     "data": {
      "text/latex": [
       "$${\\frac1{f}} = D = (6.42+/-0.12~\\mathrm){\\frac1{m}}$$"
      ],
      "text/plain": [
       "<IPython.core.display.Latex object>"
      ]
     },
     "metadata": {},
     "output_type": "display_data"
    },
    {
     "data": {
      "text/latex": [
       "$$\\mathrm{\\textbf{Besselverfahren}}$$"
      ],
      "text/plain": [
       "<IPython.core.display.Latex object>"
      ]
     },
     "metadata": {},
     "output_type": "display_data"
    },
    {
     "data": {
      "text/latex": [
       "$$\n",
       "\\begin{array}{c|c}\n",
       "\\textbf{} & \\textbf{Brennweite} ~f~[\\mathrm{mm}] \\\\ \\hline\n",
       "0 & (153.72 \\pm 0.60) \\\\ 1 & (153.53 \\pm 0.63) \\\\ 2 & (154.38 \\pm 0.65) \\\\ 3 & (154.95 \\pm 0.67) \\\\ 4 & (154.62 \\pm 0.68) \\\\ \\\\ {mittel} & (154 \\pm 3)\\end{array}$$"
      ],
      "text/plain": [
       "<IPython.core.display.Latex object>"
      ]
     },
     "metadata": {},
     "output_type": "display_data"
    },
    {
     "data": {
      "text/latex": [
       "$${\\frac1{f}} = D = (6.48+/-0.13~\\mathrm){\\frac1{m}}$$"
      ],
      "text/plain": [
       "<IPython.core.display.Latex object>"
      ]
     },
     "metadata": {},
     "output_type": "display_data"
    }
   ],
   "source": [
    "#Konvexlinse Brennweite messen\n",
    "\n",
    "\n",
    "####################################################################################\n",
    "#Punkt a,\n",
    "\n",
    "#werte liste für die gegenstands/bildweite (entfernung von linse) g/b:\n",
    "#üssen nur 5 min. sein\n",
    "\n",
    "g_1_werte = 480   #mm #gegenstandsweite bleibt konstant\n",
    "b_1_werte = np.array([1067, 1066, 1073, 1072, 1072, 1068, 1068])   #mm\n",
    "\n",
    "#unsicherheitsabelle mit einzelnen werten erstellen:\n",
    "\n",
    "g = ufloat(g_1_werte, unsicherheit)\n",
    "b = ufloat(1300, 1) - unp.uarray(b_1_werte, unsicherheit) #position von schirm von der position der linse abziehen um die länge b zu bekommen\n",
    "\n",
    "#formel für brennweite f:\n",
    "\n",
    "f = 1/(1/b+1/g)       #mm\n",
    "\n",
    "#f ist ein wert mit unsicherheit f = f_nom +- f_std\n",
    "f_nom = unp.nominal_values(f)       #nominal-werte von f (also nur die werte)\n",
    "f_std = unp.std_devs(f)             #standard deviation von f (also nur unsicherheit)\n",
    "\n",
    "#-----------------------------------------------------------------------------------\n",
    "#ab hier nur noch um die daten schon zu darzustellen:\n",
    "\n",
    "#Latex tabelle definieren\n",
    "table = r\"\"\"$$\n",
    "\\begin{array}{c|c}\n",
    "\\textbf{} & \\textbf{Brennweite} ~f~[\\mathrm{mm}] \\\\ \\hline\n",
    "\"\"\"\n",
    "#für jedes i-te paar (nom,std) in der numerierten liste [(1,0.1),(2,0.1),(3,0.1)...] fügen wir der vorher definierten tabelle einen neuen eintrag ein:\n",
    "#(table += rf\"{i-ter eintrag} & wertepaar\"). Wenn keine i mehr übrig sind hört der loop mit table += r\"\\end{array}\" auf.\n",
    "for i, (nom, std) in enumerate(zip(f_nom, f_std)):\n",
    "    table += rf\"{i} & ({nom:.2f} \\pm {std:.2f}) \\\\ \"\n",
    "table += rf\"\\\\ {{mittel}} & ({unp.nominal_values(mean(f)):.0f} \\pm {3})\" #bevor der loop endet wird noch in die letzte zeile der mittelwert dazugegeben\n",
    "table += r\"\\end{array}$$\"\n",
    "\n",
    "#Tabelle anzeigen lassen (printen)\n",
    "display(Latex(table))\n",
    "\n",
    "#Zeigt den berrechneten wert 1/mittelwert an und konvertiert von mm in m (1/1000)\n",
    "display(Latex(rf\"$${{\\frac{1}{{f}}}} = D = ({1/(ufloat((np.mean(unp.nominal_values(f))),3)/1000):.2f}~\\mathrm){{\\frac{1}{{m}}}}$$\"))\n",
    "#anhebung der Unsicherheit aufgrund menschlichen Fehlers und schwer erkennbarer Bilder \n",
    "#-----------------------------------------------------------------------------------\n",
    "\n",
    "####################################################################################\n",
    "\n",
    "\n",
    "\n",
    "\n",
    "\n",
    "\n",
    "\n",
    "\n",
    "####################################################################################\n",
    "#Punkt b, Besselverfahren\n",
    "\n",
    "#werte liste für e (gegenstand-schirm abstand) und d = d_2 - d_1 (verschiebung/symmetrische linsenposition):\n",
    "\n",
    "\n",
    "e =   ufloat(1780, 1) - unp.uarray([900, 850, 800, 750, 700], unsicherheit) #mm  #position von objekt (fix) minus position von schirm ist e\n",
    "d_1 =  unp.uarray([1105, 1048, 999, 947, 893], unsicherheit) #mm  #erste linsen position\n",
    "d_2 = unp.uarray([1588, 1590, 1595, 1597, 1599], unsicherheit) #mm #zweite linsen postion\n",
    "\n",
    "d = d_2-d_1 #linsen postionen voneinander abziehen um total zu bekommen.\n",
    "\n",
    "#formel für brennweite f:\n",
    "\n",
    "f_1 = (1/4)*(e-((d**2)/e))       #mm\n",
    "\n",
    "f_nom_1 = unp.nominal_values(f_1) \n",
    "f_std_1 = unp.std_devs(f_1)\n",
    "\n",
    "display(Latex(r\"$$\\mathrm{\\textbf{Besselverfahren}}$$\"))\n",
    "table = r\"\"\"$$\n",
    "\\begin{array}{c|c}\n",
    "\\textbf{} & \\textbf{Brennweite} ~f~[\\mathrm{mm}] \\\\ \\hline\n",
    "\"\"\"\n",
    "for i, (nom_1, std_1) in enumerate(zip(f_nom_1, f_std_1)):\n",
    "    table += rf\"{i} & ({nom_1:.2f} \\pm {std_1:.2f}) \\\\ \"\n",
    "table += rf\"\\\\ {{mittel}} & ({unp.nominal_values(mean(f_1)):.0f} \\pm {3})\"\n",
    "table += r\"\\end{array}$$\"\n",
    "\n",
    "display(Latex(table))\n",
    "#Zeigt den berrechneten wert 1/mittelwert an und konvertiert von mm in m (1/1000)\n",
    "display(Latex(rf\"$${{\\frac{1}{{f}}}} = D = ({1/(ufloat(np.mean((unp.nominal_values(f_1))),3)/1000):.2f}~\\mathrm){{\\frac{1}{{m}}}}$$\"))\n",
    "#!!!!!!!!!!!!!UNSICHERHEIT IST VON UNS EINGETRAGEN WORDEN\n",
    "#anhebung der Unsicherheit aufgrund menschlichen Fehlers und schwer erkennbarer Bilder \n",
    "####################################################################################\n",
    "\n"
   ]
  },
  {
   "cell_type": "code",
   "execution_count": 57,
   "id": "1cca5b11",
   "metadata": {},
   "outputs": [
    {
     "data": {
      "text/latex": [
       "$$\n",
       "\\begin{array}{c|c}\n",
       "\\textbf{} & \\textbf{Brennweite} ~f~[\\mathrm{mm?}] \\\\ \\hline\n",
       "0 & (-461.44 \\pm 4.36) \\\\ 1 & (-505.71 \\pm 6.68) \\\\ \\\\ {mittel} & (-483.57 \\pm 22.14)\\end{array}$$"
      ],
      "text/plain": [
       "<IPython.core.display.Latex object>"
      ]
     },
     "metadata": {},
     "output_type": "display_data"
    },
    {
     "data": {
      "text/latex": [
       "$${\\frac1{f}} = D = (-2.07+/-0.09~\\mathrm){\\frac1{m}}$$"
      ],
      "text/plain": [
       "<IPython.core.display.Latex object>"
      ]
     },
     "metadata": {},
     "output_type": "display_data"
    }
   ],
   "source": [
    "#Konkavlinse Brennweite messen\n",
    "\n",
    "#Konvexlinse daten #2 mal durchgeführt den versuch\n",
    "g_1_werte = np.array([300, 350])   #mm\n",
    "b_1_werte = np.array([307, 278])   #mm\n",
    "\n",
    "#Konkavlinse daten\n",
    "d_werte = np.array([1480-1437, 1430-1387]) #Abstand der beiden linsen\n",
    "b_2_werte = np.array([1437-820, 1387-948]) #abstand zum schirm\n",
    "\n",
    "d = unp.uarray(d_werte, unsicherheit)\n",
    "b_2 = unp.uarray(b_2_werte, unsicherheit)\n",
    "\n",
    "g_1 = unp.uarray(g_1_werte, unsicherheit) \n",
    "b_1 = unp.uarray(b_1_werte, unsicherheit)\n",
    "\n",
    "g_2 = -(b_1-d)\n",
    "\n",
    "f = 1/(1/b_2+1/g_2)       #mm\n",
    "\n",
    "f_nom = unp.nominal_values(f)\n",
    "f_std = unp.std_devs(f)\n",
    "\n",
    "#-----------------------------------------------------------------------------------\n",
    "table = r\"\"\"$$\n",
    "\\begin{array}{c|c}\n",
    "\\textbf{} & \\textbf{Brennweite} ~f~[\\mathrm{mm?}] \\\\ \\hline\n",
    "\"\"\"\n",
    "for i, (nom, std) in enumerate(zip(f_nom, f_std)):\n",
    "    table += rf\"{i} & ({nom:.2f} \\pm {std:.2f}) \\\\ \"\n",
    "table += rf\"\\\\ {{mittel}} & ({unp.nominal_values(mean(f)):.2f} \\pm {unp.std_devs(mean(f)):.2f})\"\n",
    "table += r\"\\end{array}$$\"\n",
    "\n",
    "display(Latex(table))\n",
    "#Die tausend ist um von 1/mm in 1/m umzuwandeln\n",
    "display(Latex(rf\"$${{\\frac{1}{{f}}}} = D = ({1/(ufloat(np.mean((unp.nominal_values(f))),22)/1000):.2f}~\\mathrm){{\\frac{1}{{m}}}}$$\"))\n",
    "        \n",
    "#!!!!!!!!!!!!!!!von mir gerunderter wert!!!!!!!!!!!!!!!"
   ]
  },
  {
   "cell_type": "markdown",
   "id": "f17ecc89",
   "metadata": {},
   "source": [
    "### Diskussion\n",
    "\n",
    "Für die Konvexlinse wurde eine Brennweite von ca. 155 mm und eine Dioptrie von ca. 6.45 1/m bestimmt. Die ermittelten Werte liegen bei den beiden Bestimmungsmethoden jeweils im Unsicherheitsbereich der anderen Methode, was für einen korrekt gemessenen Wert spricht. Die Messunsicherheit haben wir aufgrund von menschlichen Ungenauigkeiten auf 3mm angehoben.\n",
    "\n",
    "Für die Konkavlinse war die genau Bestimmung schwieriger, da hier mit mehr Messungen gearbeitet wird. Wir haben eine Brennweite von ca. -484 mm und eine Dioptrie von ca. -2 1/m bestimmt."
   ]
  },
  {
   "cell_type": "markdown",
   "id": "50bf90ec",
   "metadata": {},
   "source": [
    "## Linsenfehler\n",
    "\n",
    "### Versuchsaufbau und Durchführung\n",
    "\n",
    "Zur Bestimmung der sphärischen Abberation eienr Konvexlinse wird ähnlich vorgegangen wie bei der Bestimmung ihrer Brennweite, mit dem Unterschied, dass Blenden verwendet werden um abwechselnd achsennahe und achsenferne Strahlen auszublenden. Es wird erneut eine Messreihe von mindestens fünf Messungen angefertigt, die Brennweiten für achsenferne uns achsennahe Strahlen mithilfe der Linsengleichung berechnet und deren Unsicherheit angegeben.\n",
    "\n",
    "Um die chromatische Abberation zu bestimmen werden Farbfilter in den Farben rot, grün und blau verwendet. Vor dem Einsetzen der Farbfilter wird der Abstand zwischen Lichtquelle und Gegenstand erhöht und ein möglichst paralleles Lichtbündel erzeugt. Hierzu kann auch die Blende zum Ausblenden der achsenfernen Strahlen verwendet werden. Anschließend werden erneut die Bildweiten bestimmt und die Brennweiten mitsamt Unsicherheiten berechnet. Auch hier wird eine Messreihe von jeweils mindestens fünf Messungen angefertigt.  \n",
    "\n",
    "#### Wichtige Formeln\n",
    "\n",
    "* Linsengleichung: $\\frac{1}{f}=\\frac{1}{b}+\\frac{1}{g}$\n",
    "\n",
    "#### Verwendete Geräte und Unsicherheiten\n",
    "\n",
    "* Optische Bank: 1 mm \n",
    "\n",
    "### Ergebnisse"
   ]
  },
  {
   "cell_type": "code",
   "execution_count": 58,
   "id": "5a155091",
   "metadata": {},
   "outputs": [
    {
     "data": {
      "text/latex": [
       "$$\n",
       "\\begin{array}{cc}\n",
       "\\\\ \\textbf{Ferne Bildweite} ~b_f~[\\mathrm{mm}] & \\textbf{Nahe Bildweite} ~b_n~[\\mathrm{mm}]\\\\ \\hline \\\\\n",
       "(225.00 \\pm 1.41) & (265.00 \\pm 1.41) \\\\ (228.00 \\pm 1.41) & (265.00 \\pm 1.41) \\\\ (228.00 \\pm 1.41) & (267.00 \\pm 1.41) \\\\ (229.00 \\pm 1.41) & (268.00 \\pm 1.41) \\\\ (226.00 \\pm 1.41) & (265.00 \\pm 1.41) \\\\ \\\\ \\hline \\\\\\bar{b_f}=(227.20 \\pm 0.73) & \\bar{b_n}=(266.00 \\pm 0.63) \\\\ \\\\ b_f = (227 \\pm  3) & b_n = (266 \\pm  3)\\\\\\end{array}$$"
      ],
      "text/plain": [
       "<IPython.core.display.Latex object>"
      ]
     },
     "metadata": {},
     "output_type": "display_data"
    }
   ],
   "source": [
    "#Sphärische abberration\n",
    "\n",
    "b_n = ufloat(1400, 1) - unp.uarray([1135, 1135, 1133, 1132, 1135], unsicherheit) #mm           #Achsennahe Blende\n",
    "b_f = ufloat(1400, 1) - unp.uarray([1175, 1172, 1172, 1171, 1174], unsicherheit) #mm      #Achsenferne Blende\n",
    "\n",
    "table = r\"\"\"$$\n",
    "\\begin{array}{cc}\n",
    "\\\\ \\textbf{Ferne Bildweite} ~b_f~[\\mathrm{mm}] & \\textbf{Nahe Bildweite} ~b_n~[\\mathrm{mm}]\\\\ \\hline \\\\\n",
    "\"\"\"\n",
    "for i, (bn, bf) in enumerate(zip(b_f, b_n), start=1):\n",
    "    table += rf\"({unp.nominal_values(bn):.2f} \\pm {unp.std_devs(bn):.2f}) & \"\n",
    "    table += rf\"({unp.nominal_values(bf):.2f} \\pm {unp.std_devs(bf):.2f}) \\\\ \"\n",
    "\n",
    "#hier werden die mittelwerte in der tabelle angezeigt \n",
    "table += r\"\\\\ \\hline \\\\\"\n",
    "table += rf\"\\bar{{b_f}}=({unp.nominal_values(mean(b_f)):.2f} \\pm {unp.std_devs(mean(b_f)):.2f}) & \"\n",
    "table += rf\"\\bar{{b_n}}=({unp.nominal_values(mean(b_n)):.2f} \\pm {unp.std_devs(mean(b_n)):.2f}) \\\\ \"\n",
    "\n",
    "#hier werden die letzendlichen werte in der tabelle angezeigt \n",
    "# \n",
    "# !!!!!!!!!!(die unsicherheit wurden auf 5mm gerundet)!!!!!!!!!!\n",
    "table += rf\"\\\\ b_f = ({unp.nominal_values(mean(b_f)):.0f} \\pm  3) &\"\n",
    "table += rf\" b_n = ({unp.nominal_values(mean(b_n)):.0f} \\pm  3)\\\\\"\n",
    "table += r\"\\end{array}$$\"\n",
    "\n",
    "display(Latex(table))\n",
    "\n"
   ]
  },
  {
   "cell_type": "code",
   "execution_count": 59,
   "id": "471b19c2",
   "metadata": {},
   "outputs": [
    {
     "data": {
      "text/latex": [
       "\n",
       "$$\n",
       "\\begin{array}{ccc}\n",
       "\\\\ \\textbf{Rote Bildweite}~b_r~[\\mathrm{mm}] & \\textbf{Grüne Bildweite}~b_g~[\\mathrm{mm}] & \\textbf{Blaue Bildweite}~b_b~[\\mathrm{mm}] \\\\ \\\\ \\hline \\\\\n",
       "(194.00 \\pm 1.41) & (192.00 \\pm 1.41) & (191.00 \\pm 1.41) \\\\(192.00 \\pm 1.41) & (190.00 \\pm 1.41) & (191.00 \\pm 1.41) \\\\(192.00 \\pm 1.41) & (189.00 \\pm 1.41) & (191.00 \\pm 1.41) \\\\(195.00 \\pm 1.41) & (190.00 \\pm 1.41) & (189.00 \\pm 1.41) \\\\(191.00 \\pm 1.41) & (190.00 \\pm 1.41) & (191.00 \\pm 1.41) \\\\\\\\ \\hline \\\\(192.80 \\pm 0.73) & (190.20 \\pm 0.49) & (190.60 \\pm 0.40) \\\\ \\\\ b_r = (193 \\pm 5) &  b_g =(190 \\pm 5) &  b_b =(191 \\pm 5) \\\\ \\end{array}$$"
      ],
      "text/plain": [
       "<IPython.core.display.Latex object>"
      ]
     },
     "metadata": {},
     "output_type": "display_data"
    }
   ],
   "source": [
    "#Chromatische Aberration\n",
    "\n",
    "\n",
    "b_r = ufloat(800, 1) - unp.uarray([606, 608, 608, 605, 609], unsicherheit) #mm\n",
    "b_g = ufloat(800, 1) - unp.uarray([608, 610, 611, 610, 610], unsicherheit) #mm\n",
    "b_b = ufloat(800, 1) - unp.uarray([609, 609, 609, 611, 609], unsicherheit) #mm\n",
    "\n",
    "\n",
    "table = r\"\"\"\n",
    "$$\n",
    "\\begin{array}{ccc}\n",
    "\\\\ \\textbf{Rote Bildweite}~b_r~[\\mathrm{mm}] & \\textbf{Grüne Bildweite}~b_g~[\\mathrm{mm}] & \\textbf{Blaue Bildweite}~b_b~[\\mathrm{mm}] \\\\ \\\\ \\hline \\\\\n",
    "\"\"\"\n",
    "for i, (br, bg, bb) in enumerate(zip(b_r, b_g, b_b), start=1):\n",
    "    table += rf\"({unp.nominal_values(br):.2f} \\pm {unp.std_devs(br):.2f}) & \"\n",
    "    table += rf\"({unp.nominal_values(bg):.2f} \\pm {unp.std_devs(bg):.2f}) & \"\n",
    "    table += rf\"({unp.nominal_values(bb):.2f} \\pm {unp.std_devs(bb):.2f}) \\\\\"\n",
    "\n",
    "#hier werden die mittelwerte in der tabelle angezeigt\n",
    "table += r\"\\\\ \\hline \\\\\"\n",
    "table += rf\"({unp.nominal_values(mean(b_r)):.2f} \\pm {unp.std_devs(mean(b_r)):.2f}) & \"\n",
    "table += rf\"({unp.nominal_values(mean(b_g)):.2f} \\pm {unp.std_devs(mean(b_g)):.2f}) & \"\n",
    "table += rf\"({unp.nominal_values(mean(b_b)):.2f} \\pm {unp.std_devs(mean(b_b)):.2f}) \\\\ \"\n",
    "\n",
    "#hier werden die letzendlichen werte in der tabelle angezeigt \n",
    "# \n",
    "# !!!!!!!!!!(die unsicherheit wurden auf 5mm gerundet)!!!!!!!!!!\n",
    "table += rf\"\\\\ b_r = ({unp.nominal_values(mean(b_r)):.0f} \\pm 5) & \"\n",
    "table += rf\" b_g =({unp.nominal_values(mean(b_g)):.0f} \\pm 5) & \"\n",
    "table += rf\" b_b =({unp.nominal_values(mean(b_b)):.0f} \\pm 5) \\\\ \"\n",
    "table += r\"\\end{array}$$\"\n",
    "\n",
    "display(Latex(table))"
   ]
  },
  {
   "cell_type": "markdown",
   "id": "c6e1285c",
   "metadata": {},
   "source": [
    "### Diskussion\n",
    "\n",
    "Bei der sphärischen Abberation ist zu erkennen, dass die Bildweite achsenferner Strahlen geringer ist als die der achsennahen Strahlen. Das liegt daran, dass achsenferne Strahlen stärker gebrochen werden, da sie weiter außen auf Linse bei einer stärkeren Krümmung aufkommen. Auch hier haben wir aus Gründen der menschlichen Ungenauigkeit und dem Aufbau eine Unsicherheit von 3mm angenommen.\n",
    "\n",
    "Die Unterschiede der Bildweiten der einzelnen Farben bei der chromatischen Abberation sind nur sehr klein. Auch waren die Punkte, an denen das Bild scharf ist schwer zu erkennen, weswegen wir die Unsicherheit auf 5 mm angehoben haben. Rotes Licht hat zwar die höchste Bildweite, da es am wenigsten stark gebrochen wird, allerdings liegen die ermittelten Werte aller Farben immer noch im Unsicherheitsbereich der jeweils anderen. \n"
   ]
  }
 ],
 "metadata": {
  "kernelspec": {
   "display_name": "lp1",
   "language": "python",
   "name": "python3"
  },
  "language_info": {
   "codemirror_mode": {
    "name": "ipython",
    "version": 3
   },
   "file_extension": ".py",
   "mimetype": "text/x-python",
   "name": "python",
   "nbconvert_exporter": "python",
   "pygments_lexer": "ipython3",
   "version": "3.12.3"
  }
 },
 "nbformat": 4,
 "nbformat_minor": 5
}
