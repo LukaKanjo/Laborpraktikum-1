{
 "cells": [
  {
   "cell_type": "code",
   "execution_count": 197,
   "id": "9629dbe8",
   "metadata": {},
   "outputs": [],
   "source": [
    "#Die ganzen packages die für den versuch verwendet werden\n",
    "\n",
    "import numpy as np #numpy ist ein package mit allen mathematischen ausdrücken/funktionen/operationen/etc. \n",
    "from uncertainties import ufloat #Uncertainties ist für das automatische berrechnen von unsicherheiten\n",
    "from uncertainties.umath import * #Importieren von rechnen mit uncertainties (addition/multiplikation/etc.)\n",
    "from uncertainties import unumpy as unp #kann arrays von unsicherheiten verstehen (also eine liste, statt jede zahl einzeln einzutippen)\n",
    "from IPython.display import display, Math # Um ergebnisse schöner anzuzeigen. display() \"ersetzt\" quasi print(), und lässt latex fromatierung zu\n",
    "\n",
    "#funktion für mittwlert mit fehler defnieren (um später ein uarray mit unsicherheiten direkt zu einem mittelwert zu machen)\n",
    "def mean(values):\n",
    "    nom = unp.nominal_values(values)\n",
    "    std_mean = np.std(nom, ddof=1) / np.sqrt(len(nom))\n",
    "    return ufloat(np.mean(nom), std_mean)\n",
    "\n",
    "\n",
    "unsicherheit = 0.1 #mm?   #Ich nehme mal an das die gemessene unsicherheit immer gleich bleibt, also brauchen wir die nur einmal"
   ]
  },
  {
   "cell_type": "markdown",
   "id": "8bbf8efe",
   "metadata": {},
   "source": [
    "Brennweite von Linsen"
   ]
  },
  {
   "cell_type": "code",
   "execution_count": null,
   "id": "41f1050b",
   "metadata": {},
   "outputs": [
    {
     "data": {
      "text/latex": [
       "$\\displaystyle \n",
       "\\begin{array}{c|c}\n",
       "\\textbf{} & \\textbf{Brennweite} ~f~[\\mathrm{mm?}] \\\\ \\hline\n",
       "0 & (0.50 \\pm 0.04) \\\\ 1 & (1.00 \\pm 0.04) \\\\ 2 & (1.50 \\pm 0.04) \\\\ 3 & (2.00 \\pm 0.04) \\\\ 4 & (2.50 \\pm 0.04) \\\\ \\\\ {mittel} & (1.50 \\pm 0.35)\\end{array}$"
      ],
      "text/plain": [
       "<IPython.core.display.Math object>"
      ]
     },
     "metadata": {},
     "output_type": "display_data"
    },
    {
     "data": {
      "text/latex": [
       "$\\displaystyle {\\frac1{f}} = D = (0.67+/-0.16~\\mathrm){mm}$"
      ],
      "text/plain": [
       "<IPython.core.display.Math object>"
      ]
     },
     "metadata": {},
     "output_type": "display_data"
    },
    {
     "data": {
      "text/latex": [
       "$\\displaystyle \\mathrm{\\textbf{Besselverfahren}}$"
      ],
      "text/plain": [
       "<IPython.core.display.Math object>"
      ]
     },
     "metadata": {},
     "output_type": "display_data"
    },
    {
     "data": {
      "text/latex": [
       "$\\displaystyle \n",
       "\\begin{array}{c|c}\n",
       "\\textbf{} & \\textbf{Brennweite} ~f~[\\mathrm{mm?}] \\\\ \\hline\n",
       "0 & (0.25 \\pm 0.04) \\\\ 1 & (0.50 \\pm 0.04) \\\\ 2 & (0.75 \\pm 0.04) \\\\ 3 & (1.00 \\pm 0.04) \\\\ 4 & (1.25 \\pm 0.04) \\\\ \\\\ {mittel} & (0.75 \\pm 0.18)\\end{array}$"
      ],
      "text/plain": [
       "<IPython.core.display.Math object>"
      ]
     },
     "metadata": {},
     "output_type": "display_data"
    },
    {
     "data": {
      "text/latex": [
       "$\\displaystyle {\\frac1{f}} = D = (1.33+/-0.31~\\mathrm){\\frac1{mm}}$"
      ],
      "text/plain": [
       "<IPython.core.display.Math object>"
      ]
     },
     "metadata": {},
     "output_type": "display_data"
    }
   ],
   "source": [
    "#Konvexlinse Brennweite messen\n",
    "\n",
    "\n",
    "####################################################################################\n",
    "#Punkt a,\n",
    "\n",
    "#werte liste für die gegenstands/bildweite (entfernung von linse) g/b:\n",
    "\n",
    "g_1_werte = np.array([1, 2, 3, 4, 5])   #mm?\n",
    "b_1_werte = np.array([1, 2, 3, 4, 5])   #mm?\n",
    "\n",
    "#unsicherheitsabelle mit einzelnen werten erstellen:\n",
    "\n",
    "g = unp.uarray(g_1_werte, unsicherheit)\n",
    "b = unp.uarray(b_1_werte, unsicherheit)\n",
    "\n",
    "#formel für brennweite f:\n",
    "\n",
    "f = 1/(1/b+1/g)       #mm?\n",
    "\n",
    "f_nom = unp.nominal_values(f)\n",
    "f_std = unp.std_devs(f)\n",
    "\n",
    "#-----------------------------------------------------------------------------------\n",
    "#ab hier nur noch um die daten schon zu darzustellen:\n",
    "\n",
    "#Latex tabelle definieren\n",
    "table = r\"\"\"\n",
    "\\begin{array}{c|c}\n",
    "\\textbf{} & \\textbf{Brennweite} ~f~[\\mathrm{mm?}] \\\\ \\hline\n",
    "\"\"\"\n",
    "#für jedes i-te paar (nom,std) in der numerierten liste [(1,0.1),(2,0.1),(3,0.1)...] fügen wir der vorher definierten tabelle einen neuen eintrag ein:\n",
    "#(table += rf\"{i-ter eintrag} & wertepaar\"). Wenn keine i mehr übrig sind hört der loop mit table += r\"\\end{array}\" auf.\n",
    "for i, (nom, std) in enumerate(zip(f_nom, f_std)):\n",
    "    table += rf\"{i} & ({nom:.2f} \\pm {std:.2f}) \\\\ \"\n",
    "table += rf\"\\\\ {{mittel}} & ({unp.nominal_values(mean(f)):.2f} \\pm {unp.std_devs(mean(f)):.2f})\" #bevor der loop endet wird noch in die letzte zeile der mittelwert dazugegeben\n",
    "table += r\"\\end{array}\"\n",
    "\n",
    "#Tabelle anzeigen lassen (printen)\n",
    "display(Math(table))\n",
    "\n",
    "\n",
    "display(Math(rf\"{{\\frac{1}{{f}}}} = D = ({1/mean(f):.2f}~\\mathrm){{mm}}\"))\n",
    "#-----------------------------------------------------------------------------------\n",
    "\n",
    "####################################################################################\n",
    "\n",
    "\n",
    "\n",
    "\n",
    "\n",
    "\n",
    "\n",
    "\n",
    "####################################################################################\n",
    "#Punkt b, Besselverfahren\n",
    "\n",
    "#werte liste für e (gegenstand-schirm abstand) und d = d_2 - d_1 (verschiebung/symmetrische linsenposition):\n",
    "\n",
    "\n",
    "e = unp.uarray([1, 2, 3, 4, 5], unsicherheit) #mm?\n",
    "d_1 = unp.uarray([1, 2, 3, 4, 5], unsicherheit) #mm?\n",
    "d_2 = unp.uarray([1, 2, 3, 4, 5], unsicherheit) #mm?\n",
    "\n",
    "d = d_2-d_1\n",
    "\n",
    "#formel für brennweite f:\n",
    "\n",
    "f_1 = (1/4)*(e-((d**2)/e))       #mm?\n",
    "\n",
    "f_nom_1 = unp.nominal_values(f_1)\n",
    "f_std_1 = unp.std_devs(f_1)\n",
    "\n",
    "display(Math(r\"\\mathrm{\\textbf{Besselverfahren}}\"))\n",
    "table = r\"\"\"\n",
    "\\begin{array}{c|c}\n",
    "\\textbf{} & \\textbf{Brennweite} ~f~[\\mathrm{mm?}] \\\\ \\hline\n",
    "\"\"\"\n",
    "for i, (nom_1, std_1) in enumerate(zip(f_nom_1, f_std_1)):\n",
    "    table += rf\"{i} & ({nom_1:.2f} \\pm {std:.2f}) \\\\ \"\n",
    "table += rf\"\\\\ {{mittel}} & ({unp.nominal_values(mean(f_1)):.2f} \\pm {unp.std_devs(mean(f_1)):.2f})\"\n",
    "table += r\"\\end{array}\"\n",
    "\n",
    "display(Math(table))\n",
    "\n",
    "display(Math(rf\"{{\\frac{1}{{f}}}} = D = ({1/mean(f_1):.2f}~\\mathrm){{\\frac{1}{{mm}}}}\"))\n",
    "\n",
    "####################################################################################\n",
    "\n"
   ]
  },
  {
   "cell_type": "code",
   "execution_count": null,
   "id": "1cca5b11",
   "metadata": {},
   "outputs": [
    {
     "data": {
      "text/latex": [
       "$\\displaystyle \n",
       "\\begin{array}{c|c}\n",
       "\\textbf{} & \\textbf{Brennweite} ~f~[\\mathrm{mm?}] \\\\ \\hline\n",
       "0 & (0.90 \\pm 0.08) \\\\ 1 & (1.67 \\pm 0.07) \\\\ 2 & (2.31 \\pm 0.06) \\\\ 3 & (2.86 \\pm 0.05) \\\\ 4 & (3.33 \\pm 0.05) \\\\ \\\\ {mittel} & (2.21 \\pm 0.43)\\end{array}$"
      ],
      "text/plain": [
       "<IPython.core.display.Math object>"
      ]
     },
     "metadata": {},
     "output_type": "display_data"
    },
    {
     "data": {
      "text/latex": [
       "$\\displaystyle {\\frac1{f}} = D = (0.45+/-0.09~\\mathrm){mm}$"
      ],
      "text/plain": [
       "<IPython.core.display.Math object>"
      ]
     },
     "metadata": {},
     "output_type": "display_data"
    }
   ],
   "source": [
    "#Konkavlinse Brennweite messen\n",
    "\n",
    "#Konvexlinse daten\n",
    "g_1_werte = np.array([1, 2, 3, 4, 5])   #mm?\n",
    "b_1_werte = np.array([1, 2, 3, 4, 5])   #mm?\n",
    "\n",
    "#Konkavlinse daten\n",
    "d_werte = np.array([10, 12, 13, 14, 15]) #Abstand der beiden linsen\n",
    "b_2_werte = np.array([1, 2, 3, 4, 5]) #abstand zum schirm\n",
    "\n",
    "d = unp.uarray(d_werte, unsicherheit)\n",
    "b_2 = unp.uarray(b_2_werte, unsicherheit)\n",
    "\n",
    "g_1 = unp.uarray(g_1_werte, unsicherheit) \n",
    "b_1 = unp.uarray(b_1_werte, unsicherheit)\n",
    "\n",
    "g_2 = -(b_1-d)\n",
    "\n",
    "f = 1/(1/b_2+1/g_2)       #mm?\n",
    "\n",
    "f_nom = unp.nominal_values(f)\n",
    "f_std = unp.std_devs(f)\n",
    "\n",
    "#-----------------------------------------------------------------------------------\n",
    "table = r\"\"\"\n",
    "\\begin{array}{c|c}\n",
    "\\textbf{} & \\textbf{Brennweite} ~f~[\\mathrm{mm?}] \\\\ \\hline\n",
    "\"\"\"\n",
    "for i, (nom, std) in enumerate(zip(f_nom, f_std)):\n",
    "    table += rf\"{i} & ({nom:.2f} \\pm {std:.2f}) \\\\ \"\n",
    "table += rf\"\\\\ {{mittel}} & ({unp.nominal_values(mean(f)):.2f} \\pm {unp.std_devs(mean(f)):.2f})\"\n",
    "table += r\"\\end{array}\"\n",
    "\n",
    "display(Math(table))\n",
    "\n",
    "display(Math(rf\"{{\\frac{1}{{f}}}} = D = ({1/mean(f):.2f}~\\mathrm){{mm}}\"))"
   ]
  },
  {
   "cell_type": "markdown",
   "id": "50bf90ec",
   "metadata": {},
   "source": [
    "Aberration\n"
   ]
  },
  {
   "cell_type": "code",
   "execution_count": 187,
   "id": "5a155091",
   "metadata": {},
   "outputs": [
    {
     "data": {
      "text/latex": [
       "$\\displaystyle \n",
       "\\begin{array}{cc}\n",
       "\\\\ \\textbf{Ferne Bildweite} ~b_f~[\\mathrm{mm?}] & \\textbf{Nahe Bildweite} ~b_n~[\\mathrm{mm?}]\\\\ \\hline \\\\\n",
       "(1.00 \\pm 0.10) & (1.00 \\pm 0.10) \\\\ (2.00 \\pm 0.10) & (2.00 \\pm 0.10) \\\\ (3.00 \\pm 0.10) & (3.00 \\pm 0.10) \\\\ (4.00 \\pm 0.10) & (4.00 \\pm 0.10) \\\\ (5.00 \\pm 0.10) & (5.00 \\pm 0.10) \\\\ \\\\ \\hline \\\\(3.00 \\pm 0.71) & (3.00 \\pm 0.71) \\\\ \\end{array}$"
      ],
      "text/plain": [
       "<IPython.core.display.Math object>"
      ]
     },
     "metadata": {},
     "output_type": "display_data"
    }
   ],
   "source": [
    "#Sphärische abberration\n",
    "\n",
    "b_n = unp.uarray([1,2,3,4,5], unsicherheit) #mm?        #Achsennahe Blende\n",
    "b_f = unp.uarray([1,2,3,4,5], unsicherheit) #mm?        #Achsenferne Blende\n",
    "\n",
    "table = r\"\"\"\n",
    "\\begin{array}{cc}\n",
    "\\\\ \\textbf{Ferne Bildweite} ~b_f~[\\mathrm{mm?}] & \\textbf{Nahe Bildweite} ~b_n~[\\mathrm{mm?}]\\\\ \\hline \\\\\n",
    "\"\"\"\n",
    "for i, (bn, bf) in enumerate(zip(b_f, b_n), start=1):\n",
    "    table += rf\"({unp.nominal_values(bn):.2f} \\pm {unp.std_devs(bn):.2f}) & \"\n",
    "    table += rf\"({unp.nominal_values(bf):.2f} \\pm {unp.std_devs(bf):.2f}) \\\\ \"\n",
    "\n",
    "table += r\"\\\\ \\hline \\\\\"\n",
    "table += rf\"({unp.nominal_values(mean(b_n)):.2f} \\pm {unp.std_devs(mean(b_n)):.2f}) & \"\n",
    "table += rf\"({unp.nominal_values(mean(b_f)):.2f} \\pm {unp.std_devs(mean(b_f)):.2f}) \\\\ \"\n",
    "table += r\"\\end{array}\"\n",
    "\n",
    "display(Math(table))\n",
    "\n"
   ]
  },
  {
   "cell_type": "code",
   "execution_count": 188,
   "id": "471b19c2",
   "metadata": {},
   "outputs": [
    {
     "data": {
      "text/latex": [
       "$\\displaystyle \n",
       "\\begin{array}{ccc}\n",
       "\\\\ \\textbf{Rote Bildweite}~b_r~[\\mathrm{mm}] & \\textbf{Grüne Bildweite}~b_g~[\\mathrm{mm}] & \\textbf{Blaue Bildweite}~b_b~[\\mathrm{mm}] \\\\ \\\\ \\hline \\\\\n",
       "(1.00 \\pm 0.10) & (1.00 \\pm 0.10) & (1.00 \\pm 0.10) \\\\(2.00 \\pm 0.10) & (2.00 \\pm 0.10) & (2.00 \\pm 0.10) \\\\(3.00 \\pm 0.10) & (3.00 \\pm 0.10) & (3.00 \\pm 0.10) \\\\(4.00 \\pm 0.10) & (4.00 \\pm 0.10) & (4.00 \\pm 0.10) \\\\(5.00 \\pm 0.10) & (5.00 \\pm 0.10) & (5.00 \\pm 0.10) \\\\\\\\ \\hline \\\\(3.00 \\pm 0.71) & (3.00 \\pm 0.71) & (3.00 \\pm 0.71) \\\\ \\end{array}$"
      ],
      "text/plain": [
       "<IPython.core.display.Math object>"
      ]
     },
     "metadata": {},
     "output_type": "display_data"
    }
   ],
   "source": [
    "#Chromatische Aberration\n",
    "\n",
    "\n",
    "b_r = unp.uarray([1,2,3,4,5], unsicherheit) #mm?\n",
    "b_g = unp.uarray([1,2,3,4,5], unsicherheit) #mm?\n",
    "b_b = unp.uarray([1,2,3,4,5], unsicherheit) #mm?\n",
    "\n",
    "\n",
    "table = r\"\"\"\n",
    "\\begin{array}{ccc}\n",
    "\\\\ \\textbf{Rote Bildweite}~b_r~[\\mathrm{mm}] & \\textbf{Grüne Bildweite}~b_g~[\\mathrm{mm}] & \\textbf{Blaue Bildweite}~b_b~[\\mathrm{mm}] \\\\ \\\\ \\hline \\\\\n",
    "\"\"\"\n",
    "for i, (br, bg, bb) in enumerate(zip(b_r, b_g, b_b), start=1):\n",
    "    table += rf\"({unp.nominal_values(br):.2f} \\pm {unp.std_devs(br):.2f}) & \"\n",
    "    table += rf\"({unp.nominal_values(bg):.2f} \\pm {unp.std_devs(bg):.2f}) & \"\n",
    "    table += rf\"({unp.nominal_values(bb):.2f} \\pm {unp.std_devs(bb):.2f}) \\\\\"\n",
    "\n",
    "table += r\"\\\\ \\hline \\\\\"\n",
    "table += rf\"({unp.nominal_values(mean(b_r)):.2f} \\pm {unp.std_devs(mean(b_r)):.2f}) & \"\n",
    "table += rf\"({unp.nominal_values(mean(b_g)):.2f} \\pm {unp.std_devs(mean(b_g)):.2f}) & \"\n",
    "table += rf\"({unp.nominal_values(mean(b_b)):.2f} \\pm {unp.std_devs(mean(b_b)):.2f}) \\\\ \"\n",
    "table += r\"\\end{array}\"\n",
    "\n",
    "display(Math(table))"
   ]
  }
 ],
 "metadata": {
  "kernelspec": {
   "display_name": "myenv (3.10.12)",
   "language": "python",
   "name": "python3"
  },
  "language_info": {
   "codemirror_mode": {
    "name": "ipython",
    "version": 3
   },
   "file_extension": ".py",
   "mimetype": "text/x-python",
   "name": "python",
   "nbconvert_exporter": "python",
   "pygments_lexer": "ipython3",
   "version": "3.10.12"
  }
 },
 "nbformat": 4,
 "nbformat_minor": 5
}
