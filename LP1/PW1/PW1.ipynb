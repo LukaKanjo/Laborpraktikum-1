{
 "cells": [
  {
   "cell_type": "code",
   "execution_count": 4,
   "id": "06d9e434",
   "metadata": {},
   "outputs": [],
   "source": [
    "#Die ganzen packages die für den versuch verwendet werden\n",
    "\n",
    "import numpy as np #numpy ist ein package mit allen mathematischen ausdrücken/funktionen/operationen/etc. \n",
    "from uncertainties import ufloat #Uncertainties ist für das automatische berrechnen von unsicherheiten\n",
    "from uncertainties.umath import * #Importieren von rechnen mit uncertainties (addition/multiplikation/etc.)\n",
    "from uncertainties import unumpy as unp #kann arrays von unsicherheiten verstehen (also eine liste, statt jede zahl einzeln einzutippen)\n",
    "from IPython.display import Latex, HTML, Math, display # Um ergebnisse schöner anzuzeigen. display() \"ersetzt\" quasi print(), und lässt latex fromatierung zu\n",
    "import matplotlib.pyplot as plt #Damit kann man graphen plotten\n",
    "\n",
    "\n",
    "#funktion für mittwlert mit fehler defnieren (um später ein uarray mit unsicherheiten direkt zu einem mittelwert zu machen)\n",
    "def mean(values):\n",
    "    nom = unp.nominal_values(values)\n",
    "    std_mean = np.std(nom, ddof=1) / np.sqrt(len(nom))\n",
    "    return ufloat(np.mean(nom), std_mean)\n",
    "\n",
    "\n",
    "unsicherheit = 1 #mm?   #Ich nehme mal an das die gemessene unsicherheit immer gleich bleibt, also brauchen wir die nur einmal"
   ]
  },
  {
   "cell_type": "markdown",
   "id": "e8617d3b",
   "metadata": {},
   "source": [
    "# Eigenschaften von Flüssigkeiten\n",
    "\n",
    "Es soll die Viskosität von destilliertem Wasser bei verschiedenen Temperaturen bestimmt werden und in Abhängigkeit gesetzt werden. Weiters soll auch die Oberflächenspannung von destilliertem Wasser bestimmt werden. \n",
    "\n",
    "## Bestimmung der Viskosität nach Hagen-Poiseuille\n",
    "\n",
    "### Grundlagen\n",
    "\n",
    "Unter Viskosität versteht man die Zähigkeit einer Flüssigkeit. Sie beinflusst die Strömungsgeschwindigkeit der verschiedenen Flüssigkeitsschichten zwischen zwei Oberflächen. Die Viskosität wird beeinflusst von der fließenden Substanz, dem Druck und der Temperatur.\n",
    "Die Durchflussrate $\\frac{\\Delta V}{\\Delta t}$ (Änderung des Volumens V über die Zeit $\\Delta t$), durch ein Rohr mit Radius r und Länge l, ist durch die Hagen-Poiseuille Gleichung mittels Viskosität $\\eta$ gegeben:\n",
    "\n",
    "$$\\frac{\\Delta V}{\\Delta t} = \\frac{\\pi r^4 \\Delta p}{8 \\eta l}$$\n",
    "\n",
    "wobei $\\Delta p$ der Druckabfall über die Länge l ist.\n",
    "\n",
    "#### Kapillarviskosimeter nach Hagen-Posieuille\n",
    "\n",
    "Bei dieser Methode der Viskositätsmessung wird mit einer senkrechten Flüssigkeitssäule gearbeitet. Hierbei herrschen nur der Luftdruck, welcher über den ganzen Versuch als konstant angenommen werden kann, und der hydrostatische Druck, mit welchem die Druckdifferenz $\\Delta p$ errechnet werden kann:\n",
    "\n",
    "$$\\Delta p = \\rho g h$$\n",
    "\n",
    "Hier ist $\\rho$ die Flüssigkeitsdichte, g die Gravitationsbeschleunigung und h die höhe der Wassersäule.\n",
    "\n",
    "Da sich die Höhe der Wassersäule kontinuierlich ändert, wird zur Berechnung der Mittelwert zwischen der Anfangshöhe $h_1$ und der Endhöhe $h_2$ verwendet: \n",
    "\n",
    "$$\\bar{h}=(h_1+h_2)/2$$\n",
    "\n",
    "Mittels Gerätekonstante a, welche am Viskosimeter angegeben wird, ergibt sich aus der Hagen-Poiseuille Gleichung für die Viskosität:\n",
    "\n",
    "\\begin{gather}\n",
    "\\eta = a \\cdot \\rho \\cdot \\bar{h} \\cdot \\Delta t\n",
    "\\end{gather}\n",
    "\n",
    "a beinhaltet dabei die konstanten Werte wie den Radius r, die Länge l, die Gravitationsbeschleunigung g und dei Änderung des Volumens $\\Delta V$.\n",
    "\n",
    "#### Dichtebestimmung mit Aräometer\n",
    "\n",
    "Die Dichte der zu beobachten Flüssigkeit wird mithilfe von einem Aräometer bestimmt. Die Funktionsweise dessen beruht auf dem Archimedischen Prinzip und macht sich die Auftriebskraft zunutze.\n",
    "\n",
    "### Durchführung und Versuchsaufbau\n",
    "\n",
    "Zu Beginn wird die Dichte von destilliertem Wasser mit einem Aräometer sowie die Temperatur mit einem Digitalthermometer gemessen. \n",
    "\n",
    "Nun wird die Viskosität bei Raumtemperatur (ca. 20 °C) bestimmt. Dazu wird das Becherglas mit der Flüssichkeit mithilfe einer Laborhebebühne soweit gehoben, bis die Kapillare ca. 1 cm in die Flüssigkeit eintaucht. Mit einem Peleusball, der an den Schlauch angeschlossen ist, wird Wasser in die Kapillare gesaugt und das Ventil geschlossen. Anchließend wird die mittlere Höhe $\\bar{h}$ bestimmt, in dem die Höhen $h_1$ bis zur Markirung M1 und $h_2$ bis zur Markierung M2 mit zwei hintereinander aufgestellten Linealen gemessen werden. Nun wird das Ventil geöffnet und die Zeit $\\Delta t$ gemessen, die das Wasser benötigt um von der Markierung M1 bis zur Markierung M2 zu sinken. Es wird eine Messreihe mit n=10 Messungen angefertigt, um den Fehler möglichst gering zu halten.\n",
    "\n",
    "Mit diesen Werten und Gl. 1 lässt sich nun die Viskosität $\\eta$ berechnen.\n",
    "\n",
    "Der Versuch wird anschließend mit Wassertemperaturen von ca. 50 °C, ca. 35 °C und ca. 12 °C wiederholt, wobei hier nur einen einzige Messung durchgeführt wird. Der Grund dafür ist, dass die Temperatur nicht über den, für zehn Messungen benötigten, Zeitraum konstant gehalten werden kann.\n",
    "Es wird ebenfalls die Viskosität $\\eta$ mit Gl. 1 berechnet.\n",
    "\n",
    "#### Verwendete Geräte und Unsicherheiten\n",
    "\n",
    "\n",
    "* Aräometer:\n",
    "* Lineal:\n",
    "* Stoppuhr: 0,1s (setzt sich Zusammen aus Geräteunsicherheit uns menschlicher Reaktionszeit)\n",
    "* Gerätekonstante a Viskosimeter:\n",
    "\n",
    "### Daten und Auswertung\n"
   ]
  },
  {
   "cell_type": "code",
   "execution_count": null,
   "id": "2eb8aa2b",
   "metadata": {},
   "outputs": [
    {
     "data": {
      "text/latex": [
       "$$\\bar{\\eta}=0.9869+/-0.0022~\\mathrm{mPa}$$"
      ],
      "text/plain": [
       "<IPython.core.display.Latex object>"
      ]
     },
     "metadata": {},
     "output_type": "display_data"
    },
    {
     "data": {
      "text/latex": [
       "$$\\eta_{50}=0.91+/-0.09~\\mathrm{mPa}$$"
      ],
      "text/plain": [
       "<IPython.core.display.Latex object>"
      ]
     },
     "metadata": {},
     "output_type": "display_data"
    },
    {
     "data": {
      "text/latex": [
       "$$\\eta_{35}=0.96+/-0.10~\\mathrm{mPa}$$"
      ],
      "text/plain": [
       "<IPython.core.display.Latex object>"
      ]
     },
     "metadata": {},
     "output_type": "display_data"
    },
    {
     "data": {
      "text/latex": [
       "$$\\eta_{12}=0.96+/-0.10~\\mathrm{mPa}$$"
      ],
      "text/plain": [
       "<IPython.core.display.Latex object>"
      ]
     },
     "metadata": {},
     "output_type": "display_data"
    },
    {
     "data": {
      "image/png": "[encoded data removed]",
      "text/plain": [
       "<Figure size 640x480 with 1 Axes>"
      ]
     },
     "metadata": {},
     "output_type": "display_data"
    }
   ],
   "source": [
    "\n",
    "\n",
    "unsicherheit_dichte = 0.1       #g/cm^3  \n",
    "#Liste von 10 messwerten [0.9975, ....] mit der unsicherheit von jedem wert unsicherheit_dichte bei Raumtemperatur ~20 grad\n",
    "dichte_werte = ufloat(0.997, unsicherheit_dichte) #weiß nicht welche einheit\n",
    "dichte = dichte_werte * 1000    #g/cm^3 --> kg/m^3\n",
    "\n",
    "unsicherheit_höhe = 0.1             #cm (unsicherheit Lineal?)\n",
    "h_1 = ufloat(21, unsicherheit_höhe) #cm\n",
    "h_2 = ufloat(15, unsicherheit_höhe) #cm\n",
    "\n",
    "h = ((h_1+h_2)/2) /100 #cm #/1000 wegen cm-->m\n",
    "\n",
    "unsicherheit_uhr = 0.1 #s --> 200ms sind menschliche Reaktionszeit\n",
    "time = unp.uarray([11.8 , 11.7 , 11.6 , 11.7 , 11.7 , 11.8 , 11.6 , 11.8 , 11.6 , 11.7], unsicherheit_uhr) #s\n",
    "\n",
    "a = 4.7*(10**(-7)) #Source: Emmilia Frei #hab von einheit auch keine ahnung \n",
    "\n",
    "visko_raum = a * time * h * dichte *1000 #Pa --> mPa\n",
    "\n",
    "\n",
    "display(Latex(rf\"$$\\bar{{\\eta}}={mean(visko_raum):0f}~\\mathrm{{mPa}}$$\"))\n",
    "\n",
    "#Temperaturabhängigkeit\n",
    "\n",
    "#bei ~50 grad\n",
    "unsicherheit_höhe = 0.1                #cm (unsicherheit Linael?)\n",
    "h_1_50 = ufloat(21, unsicherheit_höhe) #cm\n",
    "h_2_50 = ufloat(19, unsicherheit_höhe) #cm\n",
    "\n",
    "h_50 = ((h_1_50+h_2_50)/2) /100 #cm --> m\n",
    "\n",
    "unsicherheit_uhr = 0.1 #s\n",
    "t_50 = ufloat(9.7, unsicherheit_uhr) #s\n",
    "\n",
    "a = 4.7*(10**(-7)) #Source: Emmilia Frei #hab von einheit auch keine ahnung\n",
    "\n",
    "visko_50 = a * t_50 * h_50 * dichte *1000 #Pa --> mPa\n",
    "\n",
    "display(Latex(rf\"$$\\eta_{{50}}={visko_50:2f}~\\mathrm{{mPa}}$$\"))\n",
    "\n",
    "\n",
    "#bei ~35 grad\n",
    "unsicherheit_höhe = 0.1                #cm (usicherheit Lineal?)\n",
    "h_1_35 = ufloat(20, unsicherheit_höhe) #cm\n",
    "h_2_35 = ufloat(19, unsicherheit_höhe) #cm\n",
    "\n",
    "h_35 = ((h_1_35+h_2_35)/2) / 100 #cm --> m \n",
    "\n",
    "unsicherheit_uhr = 0.1 #s\n",
    "t_35 = ufloat(10.5, unsicherheit_uhr) #s\n",
    "\n",
    "a = 4.7*(10**(-7)) #Source: Emmilia Frei #hab von einheit auch keine ahnung\n",
    "\n",
    "visko_35 = a * t_35 * h_35 * dichte *1000 #Pa --> mPa\n",
    "\n",
    "display(Latex(rf\"$$\\eta_{{35}}={visko_35:2f}~\\mathrm{{mPa}}$$\"))\n",
    "\n",
    "\n",
    "#bei ~12 grad\n",
    "unsicherheit_höhe = 0.1                #cm (usicherheit Lineal?)\n",
    "h_1_12 = ufloat(20, unsicherheit_höhe) #cm\n",
    "h_2_12 = ufloat(19, unsicherheit_höhe) #cm\n",
    "\n",
    "h_12 = ((h_1_12+h_2_12)/2) / 100 #cm --> m \n",
    "\n",
    "unsicherheit_uhr = 0.1 #s\n",
    "t_12 = ufloat(10.5, unsicherheit_uhr) #s\n",
    "\n",
    "a = 4.7*(10**(-7)) #Source: Emmilia Frei #hab von einheit auch keine ahnung\n",
    "\n",
    "visko_12 = a * t_12* h_12 * dichte *1000 #Pa --> mPa\n",
    "\n",
    "display(Latex(rf\"$$\\eta_{{12}}={visko_12:2f}~\\mathrm{{mPa}}$$\"))\n",
    "\n",
    "#Graph\n",
    "\n",
    "T = list([12, 20, 35, 50,]) #temperaturen?\n",
    "V = unp.nominal_values(list([visko_12, mean(visko_raum) ,visko_35, visko_50]))        #Die Tatsächlichen Werte\n",
    "V_std = unp.std_devs(list([visko_12, mean(visko_raum) ,visko_35, visko_50]))          #Die unsicherheiten der jeweiligen werte (std - standard deviation)\n",
    "\n",
    "plt.plot(T, V, 'o', markersize=3) #T = x-achse, V = y-achse, 'o' als punkte darstellen (z.b. '-' für liniendarstellung, markersize is punktgröße)\n",
    "plt.xlabel(\"$Temperatur $ [C°]\")\n",
    "plt.ylabel(r\"$Viskosität $ [mPa$\\cdot$s]\")\n",
    "plt.title(\"Viskosität in Abhängigkeit der Temperatur\")\n",
    "plt.errorbar(T, V, fmt='o',yerr=V_std, capsize=3, markersize=4,label=\"Messdaten\")\n",
    "#plt.legend()\n",
    "plt.grid()\n",
    "plt.tight_layout()  \n",
    "plt.show()\n"
   ]
  },
  {
   "cell_type": "markdown",
   "id": "50d688b2",
   "metadata": {},
   "source": [
    "### Diskussion\n",
    "\n",
    "Wie aus den Werten erkennbar wird, sinkt die Viskosität mit zunehmender Temperatur."
   ]
  },
  {
   "cell_type": "markdown",
   "id": "31888c40",
   "metadata": {},
   "source": [
    "## Oberflächenspannung nach der Abreißmethode\n",
    "\n",
    "Es soll die Oberflächenspannung von destilliertem Wasser mithilfe der Abreißmethode ermittelt werden.\n",
    "\n",
    "### Grundlagen\n",
    "\n",
    "Moleküle in einer Flüssigkeit halten durch Wechselwirkungen mit den Nachbarmolekülen konstanten Abstand. Die Kräfte die dabei wirken sind sowohl anziehend, als auch abstroßend, je nachdem, welche Kraft von außen auf die Flüsigkeit wirkt. Moleküle, die sich an der Flüssigkeitsoberfläche befinden, haben in diese Richtung keine Nachbarmoleküle. Es wirken daher auch keine Kräfte aus der Frlüssigkeit hinaus. Bewegt sich ein Molekül aus der Flüssigkeit heraus, wird es daher sofort wieder zurück gezogen. Die Energie die pro Fläche aufgewendet werden muss um Moleküle aus der Flüssigkeit zu entfernen wird Oberflächenspannung genannt:\n",
    "\n",
    "$$\\sigma=\\frac{\\Delta E}{\\Delta A}$$\n",
    "\n",
    "Um die Oberflächenspannung experimentell zu ermitteln, wird die Abreißmethode verwedet. Dabei wird eine Kraft F auf eine Flüssigkeitslamelle angewandt und festgestellt, wann diese reißt. Es gilt dabei:\n",
    "\n",
    "$\\Delta E={F}\\cdot{\\Delta s}$\n",
    "\n",
    "Die Änderung der Oberfläche der Lamelle an einem U-förmigen Draht ist gegeben durch:\n",
    "\n",
    "${\\Delta A}=2\\cdot b\\cdot{\\Delta s}$\n",
    "\n",
    "Fügt man diese Formeln dann zusammen, erhält man als Formel für die Oberflächenspannunng:\n",
    "\n",
    "\\begin{gather}\n",
    "\\sigma = \\frac {F}{2 \\cdot b}\n",
    "\\end{gather}\n",
    "\n",
    "In diesem Versuch wird als Lamelle ein Aluminiumring mit Durchmesser D verwendet. Als Näherung wird hier angenommen, dass Innenrdius und Außenradius gleich sind. Wird nun die Oberfläche des Kreises, statt der der U-förmigen Lamelle, in Gl. 1 eingesetzt, bekommt man folgende Formel:\n",
    "\n",
    "\\begin{gather}\n",
    "\\sigma = \\frac {F}{2 \\cdot \\pi \\cdot D} \n",
    "\\tag{2}\n",
    "\\end{gather}\n",
    "\n",
    "### Durchführung und Aufbau\n",
    "\n",
    "An einem Stativ wird eine Federwaage befestigt und an dieser wiederum der Alumiumring. Nun wird die Federwaage so tariert, dass das Gewicht des Ringes als Nullpunkt angezeigt wird. Auf einer Laborhebebühne wird ein Becherglas mit destilliertem Wasser soweit gehoben, bis es den Ring zur Hälfte bedeckt ist. Nun wird die Hebebühne langsam nach unten gekurbelt, bis die Flüssigkeitslamelle reißt und die Kraft notiert, die die Federwaage unmittelbar vor dem Reißen anzeigt. Diese Messung wird wiederholt um eine Messreihe mit n=10 Messungen anzufertigen. \n",
    "Zuletzt wird mittels Gl. 2 die Oberflächenspannung $\\sigma$ und ihre Unsicherheit berechnet.\n",
    "\n",
    "#### Verwendete Geräte und Unsicherheiten\n",
    "\n",
    "* Federwaage:\n",
    "* Schublehre:\n",
    "\n",
    "### Daten und Auswertung"
   ]
  },
  {
   "cell_type": "code",
   "execution_count": 6,
   "id": "a818b794",
   "metadata": {},
   "outputs": [
    {
     "data": {
      "text/latex": [
       "$$\\bar{F}=(81.50+/-0.22)~\\mathrm{mN}$$"
      ],
      "text/plain": [
       "<IPython.core.display.Latex object>"
      ]
     },
     "metadata": {},
     "output_type": "display_data"
    },
    {
     "data": {
      "text/latex": [
       "$$\\sigma=(64.9+/-0.4)~\\mathrm{\\frac{mN}{m}}$$"
      ],
      "text/plain": [
       "<IPython.core.display.Latex object>"
      ]
     },
     "metadata": {},
     "output_type": "display_data"
    }
   ],
   "source": [
    "#Abreißmethode / oberflächenspannung von wasser\n",
    "\n",
    "\n",
    "unsicherheit_kraft = 1      #mN\n",
    "#Kraft Messungen:\n",
    "F_werte = unp.uarray([82,81,82,82,81,82,82,80,82,81], unsicherheit_kraft)     #mN\n",
    "#Mittelwert mit unsicherheit:\n",
    "F = mean(F_werte)      #mN --> N\n",
    "\n",
    "#Ring durchmesser\n",
    "D = ufloat(200, 1) / 1000      #mm --> m\n",
    "\n",
    "sigma = F/(2*np.pi*D)\n",
    "\n",
    "display(Latex(rf\"$$\\bar{{F}}=({F:2f})~\\mathrm{{mN}}$$\"))\n",
    "display(Latex(rf\"$$\\sigma=({sigma:2f})~\\mathrm{{\\frac{{mN}}{{m}}}}$$\"))"
   ]
  },
  {
   "cell_type": "markdown",
   "id": "b2ce6fd4",
   "metadata": {},
   "source": [
    "### Diskussion\n",
    "\n",
    "Der Literaturwert für die Oberflächenspannung von Wasser bei 20°C liegt bei 72.75 mN/m (https://www.chemie.de/lexikon/Oberfl%C3%A4chenspannung.html#Werte_der_Oberfl.C3.A4chenspannung, 09.10.2025).\n",
    "\n"
   ]
  }
 ],
 "metadata": {
  "kernelspec": {
   "display_name": "lp1",
   "language": "python",
   "name": "python3"
  },
  "language_info": {
   "codemirror_mode": {
    "name": "ipython",
    "version": 3
   },
   "file_extension": ".py",
   "mimetype": "text/x-python",
   "name": "python",
   "nbconvert_exporter": "python",
   "pygments_lexer": "ipython3",
   "version": "3.12.3"
  }
 },
 "nbformat": 4,
 "nbformat_minor": 5
}
