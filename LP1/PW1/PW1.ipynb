{
 "cells": [
  {
   "cell_type": "code",
   "execution_count": 1,
   "id": "06d9e434",
   "metadata": {},
   "outputs": [],
   "source": [
    "#Die ganzen packages die für den versuch verwendet werden\n",
    "\n",
    "import numpy as np #numpy ist ein package mit allen mathematischen ausdrücken/funktionen/operationen/etc. \n",
    "from uncertainties import ufloat #Uncertainties ist für das automatische berrechnen von unsicherheiten\n",
    "from uncertainties.umath import * #Importieren von rechnen mit uncertainties (addition/multiplikation/etc.)\n",
    "from uncertainties import unumpy as unp #kann arrays von unsicherheiten verstehen (also eine liste, statt jede zahl einzeln einzutippen)\n",
    "from IPython.display import Latex, HTML, Math, display # Um ergebnisse schöner anzuzeigen. display() \"ersetzt\" quasi print(), und lässt latex fromatierung zu\n",
    "import matplotlib.pyplot as plt #Damit kann man graphen plotten\n",
    "\n",
    "\n",
    "#funktion für mittwlert mit fehler defnieren (um später ein uarray mit unsicherheiten direkt zu einem mittelwert zu machen)\n",
    "def mean(values):\n",
    "    nom = unp.nominal_values(values)\n",
    "    std_mean = np.std(nom, ddof=1) / np.sqrt(len(nom))\n",
    "    return ufloat(np.mean(nom), std_mean)\n",
    "\n",
    "\n",
    "unsicherheit = 1 #mm?   #Ich nehme mal an das die gemessene unsicherheit immer gleich bleibt, also brauchen wir die nur einmal"
   ]
  },
  {
   "cell_type": "markdown",
   "id": "e8617d3b",
   "metadata": {},
   "source": [
    "# Eigenschaften von Flüssigkeiten\n",
    "\n",
    "Es wird die Viskosität von Wasser bei verschiedenen Temperaturen ermittelt\n",
    "\n",
    "## Bestimmung der Viskosität nach Hagen-Poiseuille\n",
    "\n",
    "### Grundlagen\n",
    "\n",
    "Die Viskösität ist die Innere Reibung von Flüssigkeiten und von der Substanz, dem Druck und der Temperatur ab. Dabei lässt sich die Durchflussrat $\\frac{\\Delta V}{\\Delta t}$ (Änderung des Volumens V über die Zeit änderung t) durch die Hagen-Poiseuille Gleichung mittels Viskosität $\\eta$ ermitteln:\n",
    "\n",
    "$$\\frac{\\Delta V}{\\Delta t} = \\frac{\\pi r^4 \\Delta p}{8 \\eta l}$$\n",
    "\n",
    "wobei $\\Delta p$ die Druckdifferenz/abfall ist, r der radius einer Röhre und l dessen Länge.\n",
    "\n",
    "### Kapillarviskosimeter nach Hagen-Posieuille\n",
    "\n",
    "Dieser aufbau wird mittels dem Schwere Druck (Hydrostatischen Druck) einer Wassersäule in einer Senkrecht stehenden Röhre gekennzeichnet. Dadurch ergibt sich für den Druckabfall lediglich der ausdruck\n",
    "\n",
    "$$\\Delta p = \\rho g h$$\n",
    "\n",
    "wobei $\\rho$ die Flüssigkeitsdichte, g die Gravitationsbeschleunigung und h die höhe der Wassersäule ist.\n",
    "\n",
    "Für den versuch wird der Druckabfall anhand $\\bar{h}=(h_1+h_2)/2$ bestimmt, wobei $h_1$ die erste höhe und $h_2$ die zweite höhe der sinkendend Wassersäule ist. Mittels Gerätekonstante, welche am Viskosimeter angegeben wird, ergibt sich aus der Hagen-Poiseuille Gleichung für die Viskosität\n",
    "\n",
    "\\begin{gather}\n",
    "\\eta = a \\cdot \\rho \\cdot \\bar{h} \\cdot \\Delta t\n",
    "\\end{gather}\n",
    "\n",
    "\n",
    "### Dichtebestimmung durch Aräometer\n",
    "\n",
    "Die dichte der zu beobachten flüssigkeit wird durch ein Aräometer bestimmt, welches auf dem Archimedischen Prinzip beruht.\n",
    "\n",
    "## Durchführung und Versuchsaufbau\n",
    "\n",
    "Zuerst wird die Dichte von Destilliertem Wasser mittels Aräometer bestimmt. Dabei wird ein hoher messbecher verwendet und die Temperatur des Wassers mittel Digitalthermometer (unsicherheit irgendwo ablesen) gemessen.\n",
    "In folge werden durch das Kapillarviskosimeter bei Raumtemperatur (Kann man messen wenn man ein schwitzer ist) 10 mal zu beginn jeder messung die Höhen $h_1$ und $h_2$ der Wassersäule gemessen. Danach wird das Ventil geöffnet und mittels einer Stoppuhr die zeit aufgenommen, welche die Säule zum absinken auf $h_1$ benötigt. Mittels der Dichte, der Höhen und der vergangenen Zeit lässt sich nun aus Gl.1 die Viskosität bestimmen.\n",
    "\n",
    "Noch bissl mehr flavour text zu temperatur abhängigkeit\n",
    "\n",
    "\n",
    "\n",
    "\n",
    "## Ergebnisse\n"
   ]
  },
  {
   "cell_type": "code",
   "execution_count": 2,
   "id": "2eb8aa2b",
   "metadata": {},
   "outputs": [
    {
     "data": {
      "text/latex": [
       "$$\\bar{\\eta}=0.9869+/-0.0022~\\mathrm{mPa}$$"
      ],
      "text/plain": [
       "<IPython.core.display.Latex object>"
      ]
     },
     "metadata": {},
     "output_type": "display_data"
    },
    {
     "data": {
      "text/latex": [
       "$$\\eta_{50}=0.91+/-0.09~\\mathrm{mPa}$$"
      ],
      "text/plain": [
       "<IPython.core.display.Latex object>"
      ]
     },
     "metadata": {},
     "output_type": "display_data"
    },
    {
     "data": {
      "text/latex": [
       "$$\\eta_{35}=0.96+/-0.10~\\mathrm{mPa}$$"
      ],
      "text/plain": [
       "<IPython.core.display.Latex object>"
      ]
     },
     "metadata": {},
     "output_type": "display_data"
    },
    {
     "data": {
      "image/png": "[encoded data removed]",
      "text/plain": [
       "<Figure size 640x480 with 1 Axes>"
      ]
     },
     "metadata": {},
     "output_type": "display_data"
    }
   ],
   "source": [
    "\n",
    "\n",
    "unsicherheit_dichte = 0.1       #g/cm^3  \n",
    "#Liste von 10 messwerten [0.9975, ....] mit der unsicherheit von jedem wert unsicherheit_dichte\n",
    "dichte_werte = ufloat(0.997, unsicherheit_dichte) #weiß nicht welche einheit\n",
    "dichte = dichte_werte * 1000    #g/cm^3 --> kg/m^3\n",
    "\n",
    "unsicherheit_höhe = 0.1             #cm\n",
    "h_1 = ufloat(21, unsicherheit_höhe) #cm\n",
    "h_2 = ufloat(15, unsicherheit_höhe) #cm\n",
    "\n",
    "h = ((h_1+h_2)/2) /100 #cm #/1000 wegen cm-->m\n",
    "\n",
    "unsicherheit_uhr = 0.2 #s --> 200ms sind menschliche Reaktionszeit\n",
    "time = unp.uarray([11.8 , 11.7 , 11.6 , 11.7 , 11.7 , 11.8 , 11.6 , 11.8 , 11.6 , 11.7], unsicherheit_uhr) #s\n",
    "\n",
    "a = 4.7*(10**(-7)) #Source: Emmilia Frei #hab von einheit auch keine ahnung\n",
    "\n",
    "visko_raum = a * time * h * dichte *1000 #Pa --> mPa\n",
    "\n",
    "\n",
    "display(Latex(rf\"$$\\bar{{\\eta}}={mean(visko_raum):0f}~\\mathrm{{mPa}}$$\"))\n",
    "\n",
    "#Temperaturabhängigkeit\n",
    "\n",
    "#bei ~50 grad\n",
    "unsicherheit_höhe = 0.1                #cm\n",
    "h_1_50 = ufloat(21, unsicherheit_höhe) #cm\n",
    "h_2_50 = ufloat(19, unsicherheit_höhe) #cm\n",
    "\n",
    "h_50 = ((h_1_50+h_2_50)/2) /100 #cm --> m\n",
    "\n",
    "unsicherheit_uhr = 0.2 #s\n",
    "t_50 = ufloat(9.7, unsicherheit_uhr) #s\n",
    "\n",
    "a = 4.7*(10**(-7)) #Source: Emmilia Frei #hab von einheit auch keine ahnung\n",
    "\n",
    "visko_50 = a * t_50 * h_50 * dichte *1000 #Pa --> mPa\n",
    "\n",
    "display(Latex(rf\"$$\\eta_{{50}}={visko_50:2f}~\\mathrm{{mPa}}$$\"))\n",
    "\n",
    "#bei ~35 grad\n",
    "unsicherheit_höhe = 0.1                #cm\n",
    "h_1_30 = ufloat(20, unsicherheit_höhe) #cm\n",
    "h_2_30 = ufloat(19, unsicherheit_höhe) #cm\n",
    "\n",
    "h_30 = ((h_1_30+h_2_30)/2) / 100 #cm --> m \n",
    "\n",
    "unsicherheit_uhr = 0.2 #s\n",
    "t_30 = ufloat(10.5, unsicherheit_uhr) #s\n",
    "\n",
    "a = 4.7*(10**(-7)) #Source: Emmilia Frei #hab von einheit auch keine ahnung\n",
    "\n",
    "visko_30 = a * t_30 * h_30 * dichte *1000 #Pa --> mPa\n",
    "\n",
    "\n",
    "display(Latex(rf\"$$\\eta_{{35}}={visko_30:2f}~\\mathrm{{mPa}}$$\"))\n",
    "\n",
    "#Graph\n",
    "\n",
    "T = list([22, 35, 50])\n",
    "V = unp.nominal_values(list([mean(visko_raum) ,visko_30, visko_50]))        #Die Tatsächlichen Werte\n",
    "V_std = unp.std_devs(list([mean(visko_raum) ,visko_30, visko_50]))          #Die unsicherheiten der jeweiligen werte (std - standard deviation)\n",
    "\n",
    "plt.plot(T, V, 'o', markersize=3) #T = x-achse, V = y-achse, 'o' als punkte darstellen (z.b. '-' für liniendarstellung, markersize is punktgröße)\n",
    "plt.xlabel(\"$Temperatur$ [C°]\")\n",
    "plt.ylabel(r\"$Viskosität$ [mPa$\\cdot$s]\")\n",
    "plt.title(\"Viskosität in Abhängigkeit der Temperatur\")\n",
    "plt.errorbar(T, V, fmt='o',yerr=V_std, capsize=3, markersize=4,label=\"Messdaten\")\n",
    "#plt.legend()\n",
    "plt.grid()\n",
    "plt.tight_layout()  \n",
    "plt.show()\n"
   ]
  },
  {
   "cell_type": "markdown",
   "id": "50d688b2",
   "metadata": {},
   "source": [
    "### Diskussion\n",
    "\n",
    "Euer Flavour Text"
   ]
  },
  {
   "cell_type": "markdown",
   "id": "31888c40",
   "metadata": {},
   "source": [
    "## Oberflächenspannung nach der Abreißmethode\n",
    "\n",
    "Es wird die Oberflächenspannung von Wasser ermittelt\n",
    "\n",
    "### Grundlagen\n",
    "\n",
    "Flavour text\n",
    "\n",
    "### Durchführung und Aufbau\n",
    "\n",
    "mehr Flavour text\n",
    "\n",
    "### Ergebnisse"
   ]
  },
  {
   "cell_type": "code",
   "execution_count": 3,
   "id": "a818b794",
   "metadata": {},
   "outputs": [
    {
     "data": {
      "text/latex": [
       "$$\\bar{F}=(81.50+/-0.22)~\\mathrm{mN}$$"
      ],
      "text/plain": [
       "<IPython.core.display.Latex object>"
      ]
     },
     "metadata": {},
     "output_type": "display_data"
    },
    {
     "data": {
      "text/latex": [
       "$$\\sigma=(64.9+/-0.4)~\\mathrm{\\frac{mN}{m}}$$"
      ],
      "text/plain": [
       "<IPython.core.display.Latex object>"
      ]
     },
     "metadata": {},
     "output_type": "display_data"
    }
   ],
   "source": [
    "#Abreißmethode / oberflächenspannung von wasser\n",
    "\n",
    "\n",
    "unsicherheit_kraft = 1      #mN\n",
    "#Kraft Messungen:\n",
    "F_werte = unp.uarray([82,81,82,82,81,82,82,80,82,81], unsicherheit_kraft)     #mN\n",
    "#Mittelwert mit unsicherheit:\n",
    "F = mean(F_werte)      #mN --> N\n",
    "\n",
    "#Ring durchmesser\n",
    "D = ufloat(200, 1) / 1000      #mm --> m\n",
    "\n",
    "sigma = F/(2*np.pi*D)\n",
    "\n",
    "display(Latex(rf\"$$\\bar{{F}}=({F:2f})~\\mathrm{{mN}}$$\"))\n",
    "display(Latex(rf\"$$\\sigma=({sigma:2f})~\\mathrm{{\\frac{{mN}}{{m}}}}$$\"))"
   ]
  },
  {
   "cell_type": "markdown",
   "id": "b2ce6fd4",
   "metadata": {},
   "source": [
    "### Diskussion\n",
    "\n",
    "Der Literaturwert für die Oberflächenspannung von Wasser bei 20°C liegt bei 72.75 mN/m (https://www.chemie.de/lexikon/Oberfl%C3%A4chenspannung.html#Werte_der_Oberfl.C3.A4chenspannung, 09.10.2025)  "
   ]
  }
 ],
 "metadata": {
  "kernelspec": {
   "display_name": "lp1",
   "language": "python",
   "name": "python3"
  },
  "language_info": {
   "codemirror_mode": {
    "name": "ipython",
    "version": 3
   },
   "file_extension": ".py",
   "mimetype": "text/x-python",
   "name": "python",
   "nbconvert_exporter": "python",
   "pygments_lexer": "ipython3",
   "version": "3.12.3"
  }
 },
 "nbformat": 4,
 "nbformat_minor": 5
}
