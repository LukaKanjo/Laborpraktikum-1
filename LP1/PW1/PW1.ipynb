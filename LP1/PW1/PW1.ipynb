{
 "cells": [
  {
   "cell_type": "code",
   "execution_count": 9,
   "id": "06d9e434",
   "metadata": {},
   "outputs": [],
   "source": [
    "#Die ganzen packages die für den versuch verwendet werden\n",
    "\n",
    "import numpy as np #numpy ist ein package mit allen mathematischen ausdrücken/funktionen/operationen/etc. \n",
    "from uncertainties import ufloat #Uncertainties ist für das automatische berrechnen von unsicherheiten\n",
    "from uncertainties.umath import * #Importieren von rechnen mit uncertainties (addition/multiplikation/etc.)\n",
    "from uncertainties import unumpy as unp #kann arrays von unsicherheiten verstehen (also eine liste, statt jede zahl einzeln einzutippen)\n",
    "from IPython.display import Latex, HTML, Math, display # Um ergebnisse schöner anzuzeigen. display() \"ersetzt\" quasi print(), und lässt latex fromatierung zu\n",
    "\n",
    "#funktion für mittwlert mit fehler defnieren (um später ein uarray mit unsicherheiten direkt zu einem mittelwert zu machen)\n",
    "def mean(values):\n",
    "    nom = unp.nominal_values(values)\n",
    "    std_mean = np.std(nom, ddof=1) / np.sqrt(len(nom))\n",
    "    return ufloat(np.mean(nom), std_mean)\n",
    "\n",
    "\n",
    "unsicherheit = 1 #mm?   #Ich nehme mal an das die gemessene unsicherheit immer gleich bleibt, also brauchen wir die nur einmal"
   ]
  },
  {
   "cell_type": "markdown",
   "id": "e8617d3b",
   "metadata": {},
   "source": [
    "# Eigenschaften von Flüssigkeiten\n",
    "\n",
    "\n",
    "\n",
    "## Bestimmung der Viskosität nach Hagen-Poiseuille\n",
    "\n",
    "### Grundlagen\n",
    "\n",
    "Die Viskösität ist die Innere Reibung von Flüssigkeiten und von der Substanz, dem Druck und der Temperatur ab. Dabei lässt sich die Durchflussrat $\\frac{\\Delta V}{\\Delta t}$ (Änderung des Volumens V über die Zeit änderung t) durch die Hagen-Poiseuille Gleichung mittels Viskosität $\\eta$ ermitteln:\n",
    "\n",
    "$$\\frac{\\Delta V}{\\Delta t} = \\frac{\\pi r^4 \\Delta p}{8 \\eta l}$$\n",
    "\n",
    "wobei $\\Delta p$ die Druckdifferenz/abfall ist, r der radius einer Röhre und l dessen Länge.\n",
    "\n",
    "### Kapillarviskosimeter nach Hagen-Posieuille\n",
    "\n",
    "Dieser aufbau wird mittels dem Schwere Druck (Hydrostatischen Druck) einer Wassersäule in einer Senkrecht stehenden Röhre gekennzeichnet. Dadurch ergibt sich für den Druckabfall lediglich der ausdruck\n",
    "\n",
    "$$\\Delta p = \\rho g h$$\n",
    "\n",
    "wobei $\\rho$ die Flüssigkeitsdichte, g die Gravitationsbeschleunigung und h die höhe der Wassersäule ist.\n",
    "\n",
    "Für den versuch wird der Druckabfall anhand $\\bar{h}=(h_1+h_2)/2$ bestimmt, wobei $h_1$ die erste höhe und $h_2$ die zweite höhe der sinkendend Wassersäule ist. Mittels Gerätekonstante, welche am Viskosimeter angegeben wird, ergibt sich aus der Hagen-Poiseuille Gleichung für die Viskosität\n",
    "\n",
    "\\begin{gather}\n",
    "\\eta = a \\cdot \\rho \\cdot \\bar{h} \\cdot \\Delta t\n",
    "\\end{gather}\n",
    "\n",
    "\n",
    "### Dichtebestimmung durch Aräometer\n",
    "\n",
    "Die dichte der zu beobachten flüssigkeit wird durch ein Aräometer bestimmt, welches auf dem Archimedischen Prinzip beruht.\n",
    "\n",
    "## Durchführung und Versuchsaufbau\n",
    "\n",
    "Zuerst wird die Dichte von Destilliertem Wasser mittels Aräometer bestimmt. Dabei wird ein hoher messbecher verwendet und die Temperatur des Wassers mittel Digitalthermometer (unsicherheit irgendwo ablesen) gemessen.\n",
    "In folge werden durch das Kapillarviskosimeter bei Raumtemperatur (Kann man messen wenn man ein schwitzer ist) 10 mal zu beginn jeder messung die Höhen $h_1$ und $h_2$ der Wassersäule gemessen. Danach wird das Ventil geöffnet und mittels einer Stoppuhr die zeit aufgenommen, welche die Säule zum absinken auf $h_1$ benötigt. Mittels der Dichte, der Höhen und der vergangenen Zeit lässt sich nun aus Gl.1 die Viskosität bestimmen.\n",
    "\n",
    "\n",
    "\n",
    "\n",
    "## Ergebnisse\n"
   ]
  },
  {
   "cell_type": "code",
   "execution_count": null,
   "id": "2eb8aa2b",
   "metadata": {},
   "outputs": [
    {
     "data": {
      "text/latex": [
       "$$\\bar{\\eta}=(8.45+/-0.13)e-05$$"
      ],
      "text/plain": [
       "<IPython.core.display.Latex object>"
      ]
     },
     "metadata": {},
     "output_type": "display_data"
    },
    {
     "data": {
      "text/latex": [
       "$$\\eta_{50}=0.000105479+/-0.000000011$$"
      ],
      "text/plain": [
       "<IPython.core.display.Latex object>"
      ]
     },
     "metadata": {},
     "output_type": "display_data"
    },
    {
     "data": {
      "text/latex": [
       "$$\\eta_{35}=0.000093759+/-0.000000010$$"
      ],
      "text/plain": [
       "<IPython.core.display.Latex object>"
      ]
     },
     "metadata": {},
     "output_type": "display_data"
    }
   ],
   "source": [
    "\n",
    "\n",
    "unsicherheit_dichte = 0.1\n",
    "#Liste von 10 messwerten [0.9975, ....] mit der unsicherheit von jedem wert unsicherheit_dichte\n",
    "dichte = unp.uarray([0.9975 , 0.997 , 0.9979 , 0.9980 , 0.9975 , 0.9970 , 0.9972 , 0.9974 , 0.9975 , 0.9974], unsicherheit_dichte) #weiß nicht welche einheit\n",
    "\n",
    "unsicherheit_höhe = 0.5\n",
    "h_1 = unp.uarray([18 , 17 , 18 , 16 , 18 , 18 , 17 , 19 , 20 , 18], unsicherheit_höhe) #mm\n",
    "h_2 = unp.uarray([14 , 13 , 13 , 14 , 15 , 15 , 13 , 14 , 14 , 13], unsicherheit_höhe) #mm\n",
    "\n",
    "h = ((h_1+h_2)/2) #mm \n",
    "\n",
    "unsicherheit_uhr = 0.2 #s\n",
    "time = unp.uarray([11.3 , 11.7 , 11 , 11.3 , 11.5 , 11.1 , 11.6 , 11.2 , 11.6 , 11.5], unsicherheit_uhr) #s\n",
    "\n",
    "a = 4.7*(10**(-7)) #Source: Emmilia Frei #hab von einheit auch keine ahnung\n",
    "\n",
    "visko_raum = a * time * h * dichte\n",
    "\n",
    "\n",
    "display(Latex(rf\"$$\\bar{{\\eta}}={mean(visko_raum)}$$\"))\n",
    "\n",
    "#Temperaturabhängigkeit\n",
    "\n",
    "#bei ~50 grad\n",
    "unsicherheit_höhe = 0.5\n",
    "h_1_50 = ufloat(25, unsicherheit_höhe) #mm\n",
    "h_2_50 = ufloat(20, unsicherheit_höhe) #mm\n",
    "\n",
    "h_50 = ((h_1_50+h_2_50)/2) #mm \n",
    "\n",
    "unsicherheit_uhr = 0.2 #s\n",
    "t_50 = ufloat(10, unsicherheit_uhr) #s\n",
    "\n",
    "a = 4.7*(10**(-7)) #Source: Emmilia Frei #hab von einheit auch keine ahnung\n",
    "\n",
    "visko_50 = a * t_50 * h_50 * dichte\n",
    "\n",
    "\n",
    "display(Latex(rf\"$$\\eta_{{50}}={mean(visko_50):2f}$$\"))\n",
    "\n",
    "#bei ~35 grad\n",
    "unsicherheit_höhe = 0.5\n",
    "h_1_30 = ufloat(21, unsicherheit_höhe) #mm\n",
    "h_2_30 = ufloat(19, unsicherheit_höhe) #mm\n",
    "\n",
    "h_30 = ((h_1_30+h_2_30)/2) #mm \n",
    "\n",
    "unsicherheit_uhr = 0.2 #s\n",
    "t_30 = ufloat(10, unsicherheit_uhr) #s\n",
    "\n",
    "a = 4.7*(10**(-7)) #Source: Emmilia Frei #hab von einheit auch keine ahnung\n",
    "\n",
    "visko_30 = a * t_30 * h_30 * dichte\n",
    "\n",
    "\n",
    "display(Latex(rf\"$$\\eta_{{35}}={mean(visko_30):2f}$$\"))\n",
    "\n",
    "#Graph\n",
    "\n"
   ]
  }
 ],
 "metadata": {
  "kernelspec": {
   "display_name": "LP-venv",
   "language": "python",
   "name": "python3"
  },
  "language_info": {
   "codemirror_mode": {
    "name": "ipython",
    "version": 3
   },
   "file_extension": ".py",
   "mimetype": "text/x-python",
   "name": "python",
   "nbconvert_exporter": "python",
   "pygments_lexer": "ipython3",
   "version": "3.12.3"
  }
 },
 "nbformat": 4,
 "nbformat_minor": 5
}
