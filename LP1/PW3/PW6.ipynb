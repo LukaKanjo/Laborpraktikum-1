{
 "cells": [
  {
   "cell_type": "markdown",
   "id": "e9642849",
   "metadata": {},
   "source": [
    "# PW6 Strom und Spannungsquellen\n"
   ]
  },
  {
   "cell_type": "markdown",
   "id": "c807b99f",
   "metadata": {},
   "source": [
    "## Solarzellen als Gleichstromquelle\n",
    "\n",
    "### Durchführung und Aufbau\n",
    "\n",
    "### Unsicherheiten und Messgeräte\n",
    "\n",
    "### Ergebnisse"
   ]
  },
  {
   "cell_type": "markdown",
   "id": "2819c432",
   "metadata": {},
   "source": [
    "## Reale Spannungsquelle\n",
    "\n",
    "### Durchführung und Aufbau\n",
    "\n",
    "### Unsicherheiten und Messgeräte\n",
    "\n",
    "### Ergebnisse"
   ]
  }
 ],
 "metadata": {
  "kernelspec": {
   "display_name": "LP-venv",
   "language": "python",
   "name": "python3"
  },
  "language_info": {
   "name": "python",
   "version": "3.12.3"
  }
 },
 "nbformat": 4,
 "nbformat_minor": 5
}
