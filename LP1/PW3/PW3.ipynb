{
 "cells": [
  {
   "cell_type": "code",
   "execution_count": 71,
   "id": "6f2be101",
   "metadata": {},
   "outputs": [],
   "source": [
    "#Die ganzen packages die für den versuch verwendet werden\n",
    "\n",
    "import numpy as np #numpy ist ein package mit allen mathematischen ausdrücken/funktionen/operationen/etc. \n",
    "from uncertainties import ufloat #Uncertainties ist für das automatische berrechnen von unsicherheiten\n",
    "from uncertainties.umath import * #Importieren von rechnen mit uncertainties (addition/multiplikation/etc.)\n",
    "from uncertainties import unumpy as unp #kann arrays von unsicherheiten verstehen (also eine liste, statt jede zahl einzeln einzutippen)\n",
    "from IPython.display import Latex, HTML, Math, display # Um ergebnisse schöner anzuzeigen. display() \"ersetzt\" quasi print(), und lässt latex fromatierung zu\n",
    "import matplotlib.pyplot as plt #Damit kann man graphen plotten\n",
    "from scipy.optimize import curve_fit\n",
    "\n",
    "import pandas as pd #Um die Spektroskopie daten zu lesen\n",
    "from scipy.signal import find_peaks #um die maxima von listen (also auch y-achse) zu finden\n",
    "\n",
    "\n",
    "#funktion für mittwlert mit fehler defnieren (um später ein uarray mit unsicherheiten direkt zu einem mittelwert zu machen)\n",
    "def mean(values):\n",
    "    nom = unp.nominal_values(values)\n",
    "    std_mean = np.std(nom, ddof=1) / np.sqrt(len(nom))\n",
    "    return ufloat(np.mean(nom), std_mean)\n",
    "\n"
   ]
  },
  {
   "cell_type": "code",
   "execution_count": 72,
   "id": "91bfed57",
   "metadata": {},
   "outputs": [],
   "source": [
    "#Farbige wellenlänge\n",
    "\n",
    "#dieser code ist nur um Spektrum farbig zu machen\n",
    "\n",
    "def wavelength_to_rgb(wavelength):\n",
    "    gamma = 0.8\n",
    "    intensity_max = 255\n",
    "    factor = 0.0\n",
    "    R = G = B = 0\n",
    "\n",
    "    if 380 <= wavelength < 440:\n",
    "        R = -(wavelength - 440) / (440 - 380)\n",
    "        G = 0.0\n",
    "        B = 1.0\n",
    "    elif 440 <= wavelength < 490:\n",
    "        R = 0.0\n",
    "        G = (wavelength - 440) / (490 - 440)\n",
    "        B = 1.0\n",
    "    elif 490 <= wavelength < 510:\n",
    "        R = 0.0\n",
    "        G = 1.0\n",
    "        B = -(wavelength - 510) / (510 - 490)\n",
    "    elif 510 <= wavelength < 580:\n",
    "        R = (wavelength - 510) / (580 - 510)\n",
    "        G = 1.0\n",
    "        B = 0.0\n",
    "    elif 580 <= wavelength < 645:\n",
    "        R = 1.0\n",
    "        G = -(wavelength - 645) / (645 - 580)\n",
    "        B = 0.0\n",
    "    elif 645 <= wavelength <= 780:\n",
    "        R = 1.0\n",
    "        G = 0.0\n",
    "        B = 0.0\n",
    "\n",
    "    if 380 <= wavelength < 420:\n",
    "        factor = 0.3 + 0.7 * (wavelength - 380) / (420 - 380)\n",
    "    elif 420 <= wavelength < 645:\n",
    "        factor = 1.0\n",
    "    elif 645 <= wavelength <= 780:\n",
    "        factor = 0.3 + 0.7 * (780 - wavelength) / (780 - 645)\n",
    "\n",
    "    R = ((R * factor) ** gamma)\n",
    "    G = ((G * factor) ** gamma)\n",
    "    B = ((B * factor) ** gamma)\n",
    "\n",
    "    return (R, G, B)"
   ]
  },
  {
   "cell_type": "markdown",
   "id": "3fd416da",
   "metadata": {},
   "source": [
    "# Brechung, Dispersion und Spektroskopie\n",
    "\n",
    "## Dispersionskurve eines optischen Glases\n",
    "\n",
    "Es wird die Disperionskurve eines Optischen Glases mittels Spektroskopie bestimmt. \n",
    "\n",
    "### Durchführung und Versuchsaufbau  \n",
    "\n",
    "Mit einem Prismenspektrometer wird der Winkel der minimalen Ablenkung für fünf Spektrallinien einer Quecksilberdampflampe bestimmt.  \n",
    "Zuerst wird die Richtung des unabgelenkten Lichtstrahls gemessen, anschließend das Prisma auf dem Prismentisch positioniert und so ausgerichtet, dass das Spektrum sichtbar wird.  \n",
    "Durch Drehen des Prismentisches wird die Stellung der minimalen Ablenkung gefunden. Die Differenz der gemessenen Winkel ergibt den Ablenkwinkel, aus dem die Brechungsindizes für die jeweiligen Wellenlängen berechnet werden.  \n",
    "\n",
    "Danach wird das Prisma entfernt und das Linienspektrum der Quecksilberdampflampe mit einem automatischen Gitterspektrometer und der Software *OceanView* aufgenommen.  \n",
    "Die Spaltbreite sowie die Integrationszeit werden so angepasst, dass einzelne Spektrallinien klar getrennt sichtbar sind.  \n",
    "Aus den ermittelten Daten wird anschließend die Dispersionskurve $n(\\lambda)$ erstellt und mit Literaturwerten verglichen, um das Material des Prismas zu bestimmen.  \n",
    "\n",
    "### Auflösung bzw. Unsicherheit der Messgeräte:\n",
    "\n",
    "* Goniometer 1′ (Winkelminute)\n",
    "* Lineal zur Justierung: 0.5 mm \n",
    "\n",
    "### Erläuterung der systematischen (Typ-B) Unsicherheit der Messwerte:\n",
    "\n",
    "Die Unsicherheit der Winkelablesung kann durch Parallaxenfehler steigen.  \n",
    "Zusätzlich kann das Prisma beim Drehen leicht verrutschen oder nicht exakt in der Symmetrieposition stehen, was zu fehlerhaften Ablenkwinkeln führt.  \n",
    "\n",
    "### Ergebnisse:\n"
   ]
  },
  {
   "cell_type": "markdown",
   "id": "8da7375e",
   "metadata": {},
   "source": [
    "Die mittels Goniometer bestimmten Minimal Winkel und den Dementsprechenden Brechungsindizes sind in Tabelle 1. angeführt."
   ]
  },
  {
   "cell_type": "code",
   "execution_count": 78,
   "id": "ae3e83c4",
   "metadata": {},
   "outputs": [
    {
     "data": {
      "text/latex": [
       "$$\n",
       "\\begin{array}{c|c|c}\n",
       "\\textbf{Farbe} & \\textbf{Min. Winkel} ~\\delta_{min}~\\mathrm[°] & \\textbf{Brechungsindex} ~n~ \\\\ \\hline \\\\\n",
       "\\mathrm{Gelb} & (38.72+/-0.12) & (1.52+/-0.01) \\\\ \\mathrm{Grün} & (38.82+/-0.12) & (1.52+/-0.01) \\\\ \\mathrm{Blau} & (39.03+/-0.12) & (1.52+/-0.01) \\\\ \\mathrm{Lila} & (39.50+/-0.12) & (1.53+/-0.01) \\\\ \\end{array}$$"
      ],
      "text/plain": [
       "<IPython.core.display.Latex object>"
      ]
     },
     "metadata": {},
     "output_type": "display_data"
    }
   ],
   "source": [
    "#Goniometer: Spektrallinien einer Quecksilberlampe\n",
    "\n",
    "#Spektrallinien Winkel:\n",
    "\n",
    "# Unsicherheit vom winkel nach augenmaß (höher als auflösung vom goniometer = 0.01)\n",
    "Winkel_std = 1/60\n",
    "# Epsilon winkel vom Prisma:\n",
    "e = 60\n",
    "\n",
    "#türkis = 315.0,\n",
    "\n",
    "#                          Gelb      Grün     Blau   Lila     \n",
    "ungebrochen = unp.uarray([ 354 ], Winkel_std)\n",
    "gebrochen   = unp.uarray([ 315.2 + 5/60 , 315.1 +5/60 ,  314.9 +4/60 , 314.50  ], Winkel_std)\n",
    "\n",
    "delta_min = ungebrochen - gebrochen\n",
    "delta_min = unp.uarray(unp.nominal_values(delta_min), unp.std_devs(delta_min)+0.1)\n",
    "n_wert = unp.sin((delta_min + e)/2 * np.pi/180) / unp.sin(e/2 * np.pi/180) # * np.pi/180 weil np.sin nur mit Bogenmaß arbeitet (!!!nicht mit winkelmaß!!!)\n",
    "\n",
    "\n",
    "n = unp.uarray(unp.nominal_values(n_wert), unp.std_devs(n_wert) + 0.01) # Unischerheit von n anpassen (in diesem falls + 0.01)\n",
    "\n",
    "\n",
    "#----------------------------------------------------------------------------------------------------------------------------------------------\n",
    "#\n",
    "# Ab hier alles nur um die Tabellen schön darzustellen. Man könnte auch einfach print(n) und print(delta_min) machen ist aber uuuurrrr schirch\n",
    "#\n",
    "#----------------------------------------------------------------------------------------------------------------------------------------------\n",
    "\n",
    "\n",
    "meine_lieblingsfarben = ([\"Gelb\", \"Grün\", \"Blau\", \"Lila\"])\n",
    "\n",
    "#Minimum winkel als Tabelle anzeigen\n",
    "table = r\"\"\"$$\n",
    "\\begin{array}{c|c|c}\n",
    "\\textbf{Farbe} & \\textbf{Min. Winkel} ~\\delta_{min}~\\mathrm[°] & \\textbf{Brechungsindex} ~n~ \\\\ \\hline \\\\\n",
    "\"\"\"\n",
    "for i, (farbe,Delta,n_i) in enumerate(zip(meine_lieblingsfarben, delta_min, n)):\n",
    "    table += rf\"\\mathrm{{{farbe}}} & ({Delta:.2f}) & ({n_i:.2f}) \\\\ \"\n",
    "table += r\"\\end{array}$$\"\n",
    "\n",
    "display(Latex(table))"
   ]
  },
  {
   "cell_type": "markdown",
   "id": "209f3f75",
   "metadata": {},
   "source": [
    "Das Spektrum der Quecksilberdampflampe im Vergleich zum brechungsindex wird in Tabelle 2 gezeigt, wobei Abbildung 1 das aufgenommene Spektrum zeigt und Abbildung 2 die Dispersionkurve."
   ]
  },
  {
   "cell_type": "code",
   "execution_count": 74,
   "id": "e457dda6",
   "metadata": {},
   "outputs": [
    {
     "data": {
      "text/latex": [
       "$$\n",
       "\\begin{array}{c|c|c}\n",
       "\\textbf{Farbe} & \\textbf{Wellenlänge} ~\\lambda~\\mathrm[nm] & \\textbf{Brechungsindex} ~n~ \\\\ \\hline \\\\\n",
       "\\mathrm{Gelb} & (576.54+/-0.53) & (1.52+/-0.01) \\\\ \\mathrm{Grün} & (544.79+/-0.36) & (1.52+/-0.01) \\\\ \\mathrm{Blau} & (434.29+/-0.37) & (1.52+/-0.01) \\\\ \\mathrm{Lila} & (403.79+/-0.19) & (1.53+/-0.01) \\\\ \\end{array}$$"
      ],
      "text/plain": [
       "<IPython.core.display.Latex object>"
      ]
     },
     "metadata": {},
     "output_type": "display_data"
    },
    {
     "data": {
      "image/png": "[encoded data removed]",
      "text/plain": [
       "<Figure size 1000x600 with 1 Axes>"
      ]
     },
     "metadata": {},
     "output_type": "display_data"
    }
   ],
   "source": [
    "#Spektrum der Quecksilberdampflampe\n",
    "\n",
    "\n",
    "Spektrum = pd.read_csv(\"GPT-Data.csv\", sep=',', decimal='.')\n",
    "\n",
    "wellenlänge_wert = Spektrum['Wavelength'].values            #nm\n",
    "wellenlänge = wellenlänge_wert\n",
    "Int = Spektrum['Intensity'].values\n",
    "\n",
    "\n",
    "# # Create a color list for each wavelength\n",
    "# colors = [wavelength_to_rgb(wl) for wl in wellenlänge]\n",
    "\n",
    "# # Plot with color gradient\n",
    "# plt.figure(figsize=(10, 6))\n",
    "# for i in range(len(wellenlänge) - 1):\n",
    "#     plt.plot(wellenlänge[i:i+2], Int[i:i+2], color=colors[i])\n",
    "\n",
    "# plt.xlabel(\"$Wellenlänge$ [nm]\")\n",
    "# plt.ylabel(\"$Intensität$\")\n",
    "# plt.title(\"Quecksilberdampflampe Spektrum\")\n",
    "# plt.ylim(bottom=-0.1)\n",
    "# plt.xlim(left=380, right=700)\n",
    "# plt.grid()\n",
    "# plt.tight_layout()\n",
    "\n",
    "# ranges = [(380, 415), (420, 450), (540, 550), (580, 600)]\n",
    "# peak_positions = []\n",
    "# peak_values = []\n",
    "\n",
    "\n",
    "# #Die maxima aus den Daten bestimmen\n",
    "# for r in ranges:\n",
    "#     mask = (wellenlänge >= r[0]) & (wellenlänge < r[1])\n",
    "#     peaks, _ = find_peaks(Int[mask])\n",
    "#     if len(peaks) > 0:\n",
    "#         # get index of highest peak in this range\n",
    "#         local_max_idx = peaks[np.argmax(Int[mask][peaks])]\n",
    "#         peak_positions.append(wellenlänge[mask][local_max_idx])\n",
    "#         peak_values.append(Int[mask][local_max_idx])\n",
    "\n",
    "std = [(576.543-575.478)/2, (545.507-544.789)/2, (435.033-434.292)/2, (404.159-403.786)/2]\n",
    "peak_positions = unp.uarray( [576.543, 544.789, 434.292, 403.786], std )\n",
    "\n",
    "meine_lieblingsfarben = ([\"Gelb\", \"Grün\", \"Blau\", \"Lila\"])\n",
    "\n",
    "#Minimum winkel als Tabelle anzeigen\n",
    "table = r\"\"\"$$\n",
    "\\begin{array}{c|c|c}\n",
    "\\textbf{Farbe} & \\textbf{Wellenlänge} ~\\lambda~\\mathrm[nm] & \\textbf{Brechungsindex} ~n~ \\\\ \\hline \\\\\n",
    "\"\"\"\n",
    "for i, (farbe,Peak,n_i) in enumerate(zip(meine_lieblingsfarben, peak_positions, n)):\n",
    "    table += rf\"\\mathrm{{{farbe}}} & ({Peak:.2f}) & ({n_i:.2f}) \\\\ \"\n",
    "table += r\"\\end{array}$$\"\n",
    "\n",
    "display(Latex(table))\n",
    "\n",
    "\n",
    "\n",
    "λ = unp.nominal_values(peak_positions)\n",
    "n_values = unp.nominal_values(n)\n",
    "n_errors = unp.std_devs(n)\n",
    "\n",
    "\n",
    "plt.figure(figsize=(10, 6))\n",
    "plt.xlabel(\"$Wellenlänge$ [nm]\")\n",
    "plt.ylabel(\"$Brechungsindex$\")\n",
    "plt.errorbar(unp.nominal_values(peak_positions), unp.nominal_values(n), fmt='o',yerr=unp.std_devs(n), capsize=3, markersize=4,label=\"Messdaten\")\n",
    "plt.title(\"Dispersionskurve Quecksilberdampflampe\")\n",
    "plt.legend()\n",
    "plt.grid()\n",
    "plt.tight_layout()\n",
    "plt.show()\n"
   ]
  },
  {
   "cell_type": "markdown",
   "id": "e328473d",
   "metadata": {},
   "source": [
    "### Diskussion\n",
    "\n",
    "\n",
    "Die Wellenlängenmessungen ergeben eine der Wahrgenommen Farben passenden Wert, wobei ebenfalls Türkis im Goniometer sichtbar jedoch nicht über das Gitterspektrometer, weswegen dieser Wert ausgelassen wurde.\n",
    "Die Dispersionkurve hat einen zu erwartenden verlauf und die Brechungsindize liegen im Literaturwert von $n=1.52$ https://de.wikipedia.org/wiki/Optisches_Glas."
   ]
  },
  {
   "cell_type": "markdown",
   "id": "3dbfb89c",
   "metadata": {},
   "source": [
    "## Absorptions-Spektroskopie  \n",
    "\n",
    "### Durchführung und Versuchsaufbau  \n",
    "\n",
    "Eine unbekannte Flüssigkeit A wird mithilfe eines Gitterspektrometers mit Küvettenaufsatz untersucht.  \n",
    "Zuerst wird ein Referenzspektrum ohne Probe aufgenommen, anschließend das Spektrum mit Probe.  \n",
    "Das Programm *OceanView* berechnet automatisch die Optische Dichte  $OD = -\\log T$ und stellt diese gegen die Wellenlänge dar.  \n",
    "\n",
    "Die Absorptionsmaxima im Spektrum werden identifiziert und mit den bekannten Linien von Neodym und Praseodym verglichen, um die unbekannte Substanz oder mögliche Mischungen zu bestimmen.  \n",
    "Zum Abschluss werden die Spektren dokumentiert, beschriftet und die Unsicherheiten der Wellenlängen abgeschätzt.  \n",
    "\n",
    "### Erläuterung der systematischen (Typ-B) Unsicherheit der Messwerte:\n",
    "\n",
    "Die gemessene Wellenlänge wird mittel FWHM mit einer Unsicherheit abgeschätzt, wobei diese nur nach augenmaß bestimmt wird.\n",
    "\n",
    "\n",
    "### Ergebnisse:"
   ]
  },
  {
   "cell_type": "markdown",
   "id": "12fcb119",
   "metadata": {},
   "source": [
    "Tabelle 3 zeigt die Gemessenen Maxima des Absorptionspektrums im vergleich zum Gegebenen Literaturwert des Anleitungstext \\cite{Anleitung}"
   ]
  },
  {
   "cell_type": "code",
   "execution_count": 75,
   "id": "b78671cc",
   "metadata": {},
   "outputs": [
    {
     "data": {
      "text/latex": [
       "$$\n",
       "\\begin{array}{c|c|c|c}\n",
       "\\textbf{Farbe} & \\textbf{$\\lambda_\\text{Lit}$ [nm]} & \\textbf{$\\lambda_\\text{gemessen}$ [nm]} & \\textbf{Abweichung [nm]} \\\\ \\hline\n",
       "\\mathrm{blau} & 444 & 443.00+/-0.65 & 1.00 \\\\ \n",
       "\\mathrm{türkisblau} & 468 & 467.12+/-1.47 & 0.88 \\\\ \n",
       "\\mathrm{türkis} & 481 & 481.41+/-1.10 & 0.41 \\\\ \n",
       "\\mathrm{gelborange} & 590 & 589.65+/-3.36 & 0.35 \\\\ \n",
       "\\end{array}$$"
      ],
      "text/plain": [
       "<IPython.core.display.Latex object>"
      ]
     },
     "metadata": {},
     "output_type": "display_data"
    }
   ],
   "source": [
    "# Praseodym-Daten\n",
    "lambda_praseodym = np.array([444, 468, 481, 590])  # Literaturwerte [nm]\n",
    "\n",
    "# Maxima\n",
    "messwerte = np.array([443, 467.119, 481.409, 589.646])         # OceanView\n",
    "messwerte_u = unp.uarray(messwerte, [(443-441.695)/2, (467.119-464.181)/2, (481.409-479.214)/2, (589.646-582.925)/2])  # mit Unsicherheit\n",
    "\n",
    "\n",
    "abweichung = messwerte - lambda_praseodym\n",
    "\n",
    "\n",
    "Meine_zweit_liebsten_farben = np.array([\"blau\", \"türkisblau\", \"türkis\", \"gelborange\"])\n",
    "\n",
    "table = r\"\"\"$$\n",
    "\\begin{array}{c|c|c|c}\n",
    "\\textbf{Farbe} & \\textbf{$\\lambda_\\text{Lit}$ [nm]} & \\textbf{$\\lambda_\\text{gemessen}$ [nm]} & \\textbf{Abweichung [nm]} \\\\ \\hline\n",
    "\"\"\"\n",
    "\n",
    "for farbe, lam_lit, lam_meas, diff in zip(Meine_zweit_liebsten_farben, lambda_praseodym, messwerte_u, abweichung):\n",
    "    lam_meas_str = f\"{lam_meas:.0f}\"\n",
    "    table += rf\"\\mathrm{{{farbe}}} & {lam_lit:.0f} & {lam_meas:.2f} & {abs(diff):.2f} \\\\ \" + \"\\n\"\n",
    "\n",
    "table += r\"\\end{array}$$\"\n",
    "\n",
    "display(Latex(table))\n"
   ]
  },
  {
   "cell_type": "markdown",
   "id": "d5396ccd",
   "metadata": {},
   "source": [
    "### Diskussion\n",
    "\n",
    "Anhand der mittels Programm abgelesenen Werte ist eine sehr gute übereinstimmung der unbekannten Probe und den Literaturwerten von Praseodym sichtbar."
   ]
  }
 ],
 "metadata": {
  "kernelspec": {
   "display_name": "LP-venv",
   "language": "python",
   "name": "python3"
  },
  "language_info": {
   "codemirror_mode": {
    "name": "ipython",
    "version": 3
   },
   "file_extension": ".py",
   "mimetype": "text/x-python",
   "name": "python",
   "nbconvert_exporter": "python",
   "pygments_lexer": "ipython3",
   "version": "3.12.3"
  }
 },
 "nbformat": 4,
 "nbformat_minor": 5
}
