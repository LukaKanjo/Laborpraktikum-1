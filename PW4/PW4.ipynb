{
 "cells": [
  {
   "cell_type": "code",
   "execution_count": 18,
   "id": "cd9b53a9",
   "metadata": {},
   "outputs": [],
   "source": [
    "import pandas as pd \n",
    "import numpy as np\n",
    "import matplotlib.pyplot as plt\n",
    "from IPython.display import Latex, HTML, Math, display"
   ]
  },
  {
   "cell_type": "markdown",
   "id": "cf3fe0f5",
   "metadata": {},
   "source": [
    "# PW4 - Klassische Mechanik\n",
    "\n",
    "## Gleichmäßig beschleunigte Bewegung\n",
    "\n",
    "### Grundlagen\n",
    "gleichförmig beschleunigte Bewegung\n",
    "Momentangeschwindigkeit: $$v(t) = at + v_0$$ \n",
    "Bahnkurve: $$x(t) = \\frac{a}{2}t^2 + v_0 t + x_0$$ \n",
    "\n",
    "auf einen Massepunkt wirkende Kraft: $$\\vec{F} = m \\vec{a}$$ \n",
    "\n",
    "gleichförmige Kreisbewegung\n",
    "Winkelgeschwindigkeit: $$\\omega = \\lim_{\\Delta t \\to 0} \\frac{\\Delta \\varphi}{\\Delta t} = \\frac{\\mathrm{d}\\varphi}{\\mathrm{d}t} = \\dot{\\varphi}$$ \n",
    "Bahngeschwindigkeit: $$\\vec{v} = \\frac{\\mathrm{d}\\vec{r}}{\\mathrm{d}t} = \\vec{\\omega} \\times \\vec{r}$$ \n",
    "\n",
    "Gleireibungskraft: $$F_{\\mathrm{GR}} = \\mu_{\\mathrm{G}} F_{\\mathrm{N}}$$ \n",
    "\n",
    "Ortsvektor des Schwerpunkts: $$\\vec{R} = \\frac{\\sum_i \\vec{r}_i m_i}{\\sum_i m_i}$$\n"
   ]
  },
  {
   "cell_type": "code",
   "execution_count": 19,
   "id": "2f4724a4",
   "metadata": {},
   "outputs": [
    {
     "ename": "SyntaxError",
     "evalue": "invalid syntax (639283612.py, line 24)",
     "output_type": "error",
     "traceback": [
      "\u001b[0;36m  Cell \u001b[0;32mIn[19], line 24\u001b[0;36m\u001b[0m\n\u001b[0;31m    m1 =\u001b[0m\n\u001b[0m         ^\u001b[0m\n\u001b[0;31mSyntaxError\u001b[0m\u001b[0;31m:\u001b[0m invalid syntax\n"
     ]
    }
   ],
   "source": [
    "df = pd.read_csv(\"beschleunigt.csv\")\n",
    "t = df[\"t\"].to_numpy()\n",
    "x = df[\"x\"].to_numpy()\n",
    "\n",
    "coeffs = np.polyfit(t, x, 2)\n",
    "a = 2 * coeffs[0]\n",
    "v0 = coeffs[1]\n",
    "x0 = coeffs[2]\n",
    "\n",
    "display(Latex((rf\"$$a = {a:.2f} m/s² \\\\ v_0 = {v0:.2f} m/s \\\\ x_0 = {x0:.2f} m$$\")))\n",
    "\n",
    "x_fit = np.polyval(coeffs, t)\n",
    "\n",
    "plt.figure()\n",
    "plt.plot(t, x, 'o', markersize=3.5, label=\"Messdaten\", zorder =10)\n",
    "plt.plot(t, x_fit, color=\"red\", label=f\"Quadratischer Fit\")\n",
    "plt.xlabel(\"Zeit t [s]\")\n",
    "plt.ylabel(\"Position x [m]\")\n",
    "plt.title(\"Gleichmäßig beschleunigte Bewegung\")\n",
    "plt.legend()\n",
    "plt.grid(True)\n",
    "plt.show()\n",
    "\n",
    "m1 = \n",
    "m2 = \n",
    "F1 = (m1 + m2) * a\n",
    "F2 = m2 * 9.81\n",
    "display(Latex((rf\"$$F_1 = {F1:.2f} N \\\\ F_2 = {F2:.2f} N$$\")))\n",
    "Fr = F2 - F1\n",
    "Reibungskoeffizient = Fr / (m1 * 9.81)\n",
    "display(Latex((rf\"$$\\mu = {Reibungskoeffizient:.2f}$$\")))\n"
   ]
  },
  {
   "cell_type": "markdown",
   "id": "6a55859e",
   "metadata": {},
   "source": [
    "## Kräftefreie Bewegung\n",
    "\n",
    "### Grundlagen\n",
    "Geschwindigkeit eines Punktes am starren Körper: $$\\vec{v} = \\vec{v}_s + \\vec{\\omega} \\times \\vec{r}$$\n",
    "ist eine Überlagerung der Schwerpunktsbewegung mit der Geschwindigkeit und der Rotation mit der Bahngeschwindigkeit\n"
   ]
  },
  {
   "cell_type": "code",
   "execution_count": null,
   "id": "7032268d",
   "metadata": {},
   "outputs": [
    {
     "ename": "FileNotFoundError",
     "evalue": "[Errno 2] No such file or directory: 'Schwer- und Peripheriepunkt.csv'",
     "output_type": "error",
     "traceback": [
      "\u001b[0;31m---------------------------------------------------------------------------\u001b[0m",
      "\u001b[0;31mFileNotFoundError\u001b[0m                         Traceback (most recent call last)",
      "Cell \u001b[0;32mIn[3], line 1\u001b[0m\n\u001b[0;32m----> 1\u001b[0m df \u001b[38;5;241m=\u001b[39m \u001b[43mpd\u001b[49m\u001b[38;5;241;43m.\u001b[39;49m\u001b[43mread_csv\u001b[49m\u001b[43m(\u001b[49m\u001b[38;5;124;43m\"\u001b[39;49m\u001b[38;5;124;43mSchwer- und Peripheriepunkt.csv\u001b[39;49m\u001b[38;5;124;43m\"\u001b[39;49m\u001b[43m)\u001b[49m\n\u001b[1;32m      2\u001b[0m xs \u001b[38;5;241m=\u001b[39m df[\u001b[38;5;124m\"\u001b[39m\u001b[38;5;124mxs\u001b[39m\u001b[38;5;124m\"\u001b[39m]\u001b[38;5;241m.\u001b[39mto_numpy()\n\u001b[1;32m      3\u001b[0m ys \u001b[38;5;241m=\u001b[39m df[\u001b[38;5;124m\"\u001b[39m\u001b[38;5;124mys\u001b[39m\u001b[38;5;124m\"\u001b[39m]\u001b[38;5;241m.\u001b[39mto_numpy()\n",
      "File \u001b[0;32m~/.venvs/jupyter/lib/python3.13/site-packages/pandas/io/parsers/readers.py:1026\u001b[0m, in \u001b[0;36mread_csv\u001b[0;34m(filepath_or_buffer, sep, delimiter, header, names, index_col, usecols, dtype, engine, converters, true_values, false_values, skipinitialspace, skiprows, skipfooter, nrows, na_values, keep_default_na, na_filter, verbose, skip_blank_lines, parse_dates, infer_datetime_format, keep_date_col, date_parser, date_format, dayfirst, cache_dates, iterator, chunksize, compression, thousands, decimal, lineterminator, quotechar, quoting, doublequote, escapechar, comment, encoding, encoding_errors, dialect, on_bad_lines, delim_whitespace, low_memory, memory_map, float_precision, storage_options, dtype_backend)\u001b[0m\n\u001b[1;32m   1013\u001b[0m kwds_defaults \u001b[38;5;241m=\u001b[39m _refine_defaults_read(\n\u001b[1;32m   1014\u001b[0m     dialect,\n\u001b[1;32m   1015\u001b[0m     delimiter,\n\u001b[0;32m   (...)\u001b[0m\n\u001b[1;32m   1022\u001b[0m     dtype_backend\u001b[38;5;241m=\u001b[39mdtype_backend,\n\u001b[1;32m   1023\u001b[0m )\n\u001b[1;32m   1024\u001b[0m kwds\u001b[38;5;241m.\u001b[39mupdate(kwds_defaults)\n\u001b[0;32m-> 1026\u001b[0m \u001b[38;5;28;01mreturn\u001b[39;00m \u001b[43m_read\u001b[49m\u001b[43m(\u001b[49m\u001b[43mfilepath_or_buffer\u001b[49m\u001b[43m,\u001b[49m\u001b[43m \u001b[49m\u001b[43mkwds\u001b[49m\u001b[43m)\u001b[49m\n",
      "File \u001b[0;32m~/.venvs/jupyter/lib/python3.13/site-packages/pandas/io/parsers/readers.py:620\u001b[0m, in \u001b[0;36m_read\u001b[0;34m(filepath_or_buffer, kwds)\u001b[0m\n\u001b[1;32m    617\u001b[0m _validate_names(kwds\u001b[38;5;241m.\u001b[39mget(\u001b[38;5;124m\"\u001b[39m\u001b[38;5;124mnames\u001b[39m\u001b[38;5;124m\"\u001b[39m, \u001b[38;5;28;01mNone\u001b[39;00m))\n\u001b[1;32m    619\u001b[0m \u001b[38;5;66;03m# Create the parser.\u001b[39;00m\n\u001b[0;32m--> 620\u001b[0m parser \u001b[38;5;241m=\u001b[39m \u001b[43mTextFileReader\u001b[49m\u001b[43m(\u001b[49m\u001b[43mfilepath_or_buffer\u001b[49m\u001b[43m,\u001b[49m\u001b[43m \u001b[49m\u001b[38;5;241;43m*\u001b[39;49m\u001b[38;5;241;43m*\u001b[39;49m\u001b[43mkwds\u001b[49m\u001b[43m)\u001b[49m\n\u001b[1;32m    622\u001b[0m \u001b[38;5;28;01mif\u001b[39;00m chunksize \u001b[38;5;129;01mor\u001b[39;00m iterator:\n\u001b[1;32m    623\u001b[0m     \u001b[38;5;28;01mreturn\u001b[39;00m parser\n",
      "File \u001b[0;32m~/.venvs/jupyter/lib/python3.13/site-packages/pandas/io/parsers/readers.py:1620\u001b[0m, in \u001b[0;36mTextFileReader.__init__\u001b[0;34m(self, f, engine, **kwds)\u001b[0m\n\u001b[1;32m   1617\u001b[0m     \u001b[38;5;28mself\u001b[39m\u001b[38;5;241m.\u001b[39moptions[\u001b[38;5;124m\"\u001b[39m\u001b[38;5;124mhas_index_names\u001b[39m\u001b[38;5;124m\"\u001b[39m] \u001b[38;5;241m=\u001b[39m kwds[\u001b[38;5;124m\"\u001b[39m\u001b[38;5;124mhas_index_names\u001b[39m\u001b[38;5;124m\"\u001b[39m]\n\u001b[1;32m   1619\u001b[0m \u001b[38;5;28mself\u001b[39m\u001b[38;5;241m.\u001b[39mhandles: IOHandles \u001b[38;5;241m|\u001b[39m \u001b[38;5;28;01mNone\u001b[39;00m \u001b[38;5;241m=\u001b[39m \u001b[38;5;28;01mNone\u001b[39;00m\n\u001b[0;32m-> 1620\u001b[0m \u001b[38;5;28mself\u001b[39m\u001b[38;5;241m.\u001b[39m_engine \u001b[38;5;241m=\u001b[39m \u001b[38;5;28;43mself\u001b[39;49m\u001b[38;5;241;43m.\u001b[39;49m\u001b[43m_make_engine\u001b[49m\u001b[43m(\u001b[49m\u001b[43mf\u001b[49m\u001b[43m,\u001b[49m\u001b[43m \u001b[49m\u001b[38;5;28;43mself\u001b[39;49m\u001b[38;5;241;43m.\u001b[39;49m\u001b[43mengine\u001b[49m\u001b[43m)\u001b[49m\n",
      "File \u001b[0;32m~/.venvs/jupyter/lib/python3.13/site-packages/pandas/io/parsers/readers.py:1880\u001b[0m, in \u001b[0;36mTextFileReader._make_engine\u001b[0;34m(self, f, engine)\u001b[0m\n\u001b[1;32m   1878\u001b[0m     \u001b[38;5;28;01mif\u001b[39;00m \u001b[38;5;124m\"\u001b[39m\u001b[38;5;124mb\u001b[39m\u001b[38;5;124m\"\u001b[39m \u001b[38;5;129;01mnot\u001b[39;00m \u001b[38;5;129;01min\u001b[39;00m mode:\n\u001b[1;32m   1879\u001b[0m         mode \u001b[38;5;241m+\u001b[39m\u001b[38;5;241m=\u001b[39m \u001b[38;5;124m\"\u001b[39m\u001b[38;5;124mb\u001b[39m\u001b[38;5;124m\"\u001b[39m\n\u001b[0;32m-> 1880\u001b[0m \u001b[38;5;28mself\u001b[39m\u001b[38;5;241m.\u001b[39mhandles \u001b[38;5;241m=\u001b[39m \u001b[43mget_handle\u001b[49m\u001b[43m(\u001b[49m\n\u001b[1;32m   1881\u001b[0m \u001b[43m    \u001b[49m\u001b[43mf\u001b[49m\u001b[43m,\u001b[49m\n\u001b[1;32m   1882\u001b[0m \u001b[43m    \u001b[49m\u001b[43mmode\u001b[49m\u001b[43m,\u001b[49m\n\u001b[1;32m   1883\u001b[0m \u001b[43m    \u001b[49m\u001b[43mencoding\u001b[49m\u001b[38;5;241;43m=\u001b[39;49m\u001b[38;5;28;43mself\u001b[39;49m\u001b[38;5;241;43m.\u001b[39;49m\u001b[43moptions\u001b[49m\u001b[38;5;241;43m.\u001b[39;49m\u001b[43mget\u001b[49m\u001b[43m(\u001b[49m\u001b[38;5;124;43m\"\u001b[39;49m\u001b[38;5;124;43mencoding\u001b[39;49m\u001b[38;5;124;43m\"\u001b[39;49m\u001b[43m,\u001b[49m\u001b[43m \u001b[49m\u001b[38;5;28;43;01mNone\u001b[39;49;00m\u001b[43m)\u001b[49m\u001b[43m,\u001b[49m\n\u001b[1;32m   1884\u001b[0m \u001b[43m    \u001b[49m\u001b[43mcompression\u001b[49m\u001b[38;5;241;43m=\u001b[39;49m\u001b[38;5;28;43mself\u001b[39;49m\u001b[38;5;241;43m.\u001b[39;49m\u001b[43moptions\u001b[49m\u001b[38;5;241;43m.\u001b[39;49m\u001b[43mget\u001b[49m\u001b[43m(\u001b[49m\u001b[38;5;124;43m\"\u001b[39;49m\u001b[38;5;124;43mcompression\u001b[39;49m\u001b[38;5;124;43m\"\u001b[39;49m\u001b[43m,\u001b[49m\u001b[43m \u001b[49m\u001b[38;5;28;43;01mNone\u001b[39;49;00m\u001b[43m)\u001b[49m\u001b[43m,\u001b[49m\n\u001b[1;32m   1885\u001b[0m \u001b[43m    \u001b[49m\u001b[43mmemory_map\u001b[49m\u001b[38;5;241;43m=\u001b[39;49m\u001b[38;5;28;43mself\u001b[39;49m\u001b[38;5;241;43m.\u001b[39;49m\u001b[43moptions\u001b[49m\u001b[38;5;241;43m.\u001b[39;49m\u001b[43mget\u001b[49m\u001b[43m(\u001b[49m\u001b[38;5;124;43m\"\u001b[39;49m\u001b[38;5;124;43mmemory_map\u001b[39;49m\u001b[38;5;124;43m\"\u001b[39;49m\u001b[43m,\u001b[49m\u001b[43m \u001b[49m\u001b[38;5;28;43;01mFalse\u001b[39;49;00m\u001b[43m)\u001b[49m\u001b[43m,\u001b[49m\n\u001b[1;32m   1886\u001b[0m \u001b[43m    \u001b[49m\u001b[43mis_text\u001b[49m\u001b[38;5;241;43m=\u001b[39;49m\u001b[43mis_text\u001b[49m\u001b[43m,\u001b[49m\n\u001b[1;32m   1887\u001b[0m \u001b[43m    \u001b[49m\u001b[43merrors\u001b[49m\u001b[38;5;241;43m=\u001b[39;49m\u001b[38;5;28;43mself\u001b[39;49m\u001b[38;5;241;43m.\u001b[39;49m\u001b[43moptions\u001b[49m\u001b[38;5;241;43m.\u001b[39;49m\u001b[43mget\u001b[49m\u001b[43m(\u001b[49m\u001b[38;5;124;43m\"\u001b[39;49m\u001b[38;5;124;43mencoding_errors\u001b[39;49m\u001b[38;5;124;43m\"\u001b[39;49m\u001b[43m,\u001b[49m\u001b[43m \u001b[49m\u001b[38;5;124;43m\"\u001b[39;49m\u001b[38;5;124;43mstrict\u001b[39;49m\u001b[38;5;124;43m\"\u001b[39;49m\u001b[43m)\u001b[49m\u001b[43m,\u001b[49m\n\u001b[1;32m   1888\u001b[0m \u001b[43m    \u001b[49m\u001b[43mstorage_options\u001b[49m\u001b[38;5;241;43m=\u001b[39;49m\u001b[38;5;28;43mself\u001b[39;49m\u001b[38;5;241;43m.\u001b[39;49m\u001b[43moptions\u001b[49m\u001b[38;5;241;43m.\u001b[39;49m\u001b[43mget\u001b[49m\u001b[43m(\u001b[49m\u001b[38;5;124;43m\"\u001b[39;49m\u001b[38;5;124;43mstorage_options\u001b[39;49m\u001b[38;5;124;43m\"\u001b[39;49m\u001b[43m,\u001b[49m\u001b[43m \u001b[49m\u001b[38;5;28;43;01mNone\u001b[39;49;00m\u001b[43m)\u001b[49m\u001b[43m,\u001b[49m\n\u001b[1;32m   1889\u001b[0m \u001b[43m\u001b[49m\u001b[43m)\u001b[49m\n\u001b[1;32m   1890\u001b[0m \u001b[38;5;28;01massert\u001b[39;00m \u001b[38;5;28mself\u001b[39m\u001b[38;5;241m.\u001b[39mhandles \u001b[38;5;129;01mis\u001b[39;00m \u001b[38;5;129;01mnot\u001b[39;00m \u001b[38;5;28;01mNone\u001b[39;00m\n\u001b[1;32m   1891\u001b[0m f \u001b[38;5;241m=\u001b[39m \u001b[38;5;28mself\u001b[39m\u001b[38;5;241m.\u001b[39mhandles\u001b[38;5;241m.\u001b[39mhandle\n",
      "File \u001b[0;32m~/.venvs/jupyter/lib/python3.13/site-packages/pandas/io/common.py:873\u001b[0m, in \u001b[0;36mget_handle\u001b[0;34m(path_or_buf, mode, encoding, compression, memory_map, is_text, errors, storage_options)\u001b[0m\n\u001b[1;32m    868\u001b[0m \u001b[38;5;28;01melif\u001b[39;00m \u001b[38;5;28misinstance\u001b[39m(handle, \u001b[38;5;28mstr\u001b[39m):\n\u001b[1;32m    869\u001b[0m     \u001b[38;5;66;03m# Check whether the filename is to be opened in binary mode.\u001b[39;00m\n\u001b[1;32m    870\u001b[0m     \u001b[38;5;66;03m# Binary mode does not support 'encoding' and 'newline'.\u001b[39;00m\n\u001b[1;32m    871\u001b[0m     \u001b[38;5;28;01mif\u001b[39;00m ioargs\u001b[38;5;241m.\u001b[39mencoding \u001b[38;5;129;01mand\u001b[39;00m \u001b[38;5;124m\"\u001b[39m\u001b[38;5;124mb\u001b[39m\u001b[38;5;124m\"\u001b[39m \u001b[38;5;129;01mnot\u001b[39;00m \u001b[38;5;129;01min\u001b[39;00m ioargs\u001b[38;5;241m.\u001b[39mmode:\n\u001b[1;32m    872\u001b[0m         \u001b[38;5;66;03m# Encoding\u001b[39;00m\n\u001b[0;32m--> 873\u001b[0m         handle \u001b[38;5;241m=\u001b[39m \u001b[38;5;28;43mopen\u001b[39;49m\u001b[43m(\u001b[49m\n\u001b[1;32m    874\u001b[0m \u001b[43m            \u001b[49m\u001b[43mhandle\u001b[49m\u001b[43m,\u001b[49m\n\u001b[1;32m    875\u001b[0m \u001b[43m            \u001b[49m\u001b[43mioargs\u001b[49m\u001b[38;5;241;43m.\u001b[39;49m\u001b[43mmode\u001b[49m\u001b[43m,\u001b[49m\n\u001b[1;32m    876\u001b[0m \u001b[43m            \u001b[49m\u001b[43mencoding\u001b[49m\u001b[38;5;241;43m=\u001b[39;49m\u001b[43mioargs\u001b[49m\u001b[38;5;241;43m.\u001b[39;49m\u001b[43mencoding\u001b[49m\u001b[43m,\u001b[49m\n\u001b[1;32m    877\u001b[0m \u001b[43m            \u001b[49m\u001b[43merrors\u001b[49m\u001b[38;5;241;43m=\u001b[39;49m\u001b[43merrors\u001b[49m\u001b[43m,\u001b[49m\n\u001b[1;32m    878\u001b[0m \u001b[43m            \u001b[49m\u001b[43mnewline\u001b[49m\u001b[38;5;241;43m=\u001b[39;49m\u001b[38;5;124;43m\"\u001b[39;49m\u001b[38;5;124;43m\"\u001b[39;49m\u001b[43m,\u001b[49m\n\u001b[1;32m    879\u001b[0m \u001b[43m        \u001b[49m\u001b[43m)\u001b[49m\n\u001b[1;32m    880\u001b[0m     \u001b[38;5;28;01melse\u001b[39;00m:\n\u001b[1;32m    881\u001b[0m         \u001b[38;5;66;03m# Binary mode\u001b[39;00m\n\u001b[1;32m    882\u001b[0m         handle \u001b[38;5;241m=\u001b[39m \u001b[38;5;28mopen\u001b[39m(handle, ioargs\u001b[38;5;241m.\u001b[39mmode)\n",
      "\u001b[0;31mFileNotFoundError\u001b[0m: [Errno 2] No such file or directory: 'Schwer- und Peripheriepunkt.csv'"
     ]
    }
   ],
   "source": [
    "df = pd.read_csv(\"Schwer-undPeripheriepunkt.csv\")\n",
    "xs = df[\"xs\"].to_numpy()\n",
    "ys = df[\"ys\"].to_numpy()\n",
    "xp = df[\"xp\"].to_numpy()\n",
    "yp = df[\"yp\"].to_numpy()\n",
    "\n",
    "x = xp - xs\n",
    "y = yp\n",
    "\n",
    "plt.figure()\n",
    "plt.plot(xs, ys, 'o', markersize=3.5, label=\"Schwerpunkt\", color=\"orange\")\n",
    "plt.plot(xp, yp, 'o', markersize=3.5, label=\"Peripheriepunkt\", color=\"blue\") \n",
    "plt.xlabel(\"x [m]\")\n",
    "plt.ylabel(\"y [m]\")\n",
    "plt.title(\"Position\")\n",
    "plt.legend()\n",
    "plt.grid(True)\n",
    "plt.show()\n"
   ]
  },
  {
   "cell_type": "code",
   "execution_count": null,
   "id": "c931f508",
   "metadata": {},
   "outputs": [],
   "source": [
    "df = pd.read_csv(\"Schwer-undPeripheriepunkt.csv\")\n",
    "xs = df[\"xs\"].to_numpy()\n",
    "ys = df[\"ys\"].to_numpy()\n",
    "xp = df[\"xp\"].to_numpy()\n",
    "yp = df[\"yp\"].to_numpy()\n",
    "\n",
    "x = xp - xs\n",
    "y = yp\n"
   ]
  },
  {
   "cell_type": "code",
   "execution_count": null,
   "id": "4cf1f2eb",
   "metadata": {},
   "outputs": [],
   "source": [
    "v =\n",
    "vs =\n",
    "r =\n"
   ]
  },
  {
   "cell_type": "markdown",
   "id": "172a4602",
   "metadata": {},
   "source": [
    "## Elastischer Stoß\n",
    "\n",
    "### Grundlagen\n",
    "Impulserhaltung: Der Gesamtimpuls der beiden Körper ist zeitlich konstant. Somit gilt: \n",
    "$$m_1 \\vec{v}_1 + m_2 \\vec{v}_2 = m_1 \\vec{w}_1 + m_2 \\vec{w}_2$$\n",
    "\n",
    "Energiesatz: Bei einem idealen elastischen Stoß bleibt die Gesamtenergie beider Körper erhalten. Es wird keine kinetische Enegie in andere Energieformen umgewandelt. Somit gilt:\n",
    "$$\\frac{m_1 \\vec{v}_1^{\\,2}}{2} + \\frac{m_2 \\vec{v}_2^{\\,2}}{2} = \\frac{m_1 \\vec{w}_1^{\\,2}}{2} + \\frac{m_2 \\vec{w}_2^{\\,2}}{2}$$\n",
    "\n",
    "Schwerpunktsatz: Der Schwerpunkt eines abgeschlossenen Systems bewegt sich geradlinig und unabhängig von der Wechselwirkung und der Bewegung beider Körper.\n"
   ]
  },
  {
   "cell_type": "markdown",
   "id": "5bdfe3e0",
   "metadata": {},
   "source": [
    "Bahnverlauf des Gleiters und des Schwerpunkts\n"
   ]
  },
  {
   "cell_type": "markdown",
   "id": "d7641097",
   "metadata": {},
   "source": [
    "Impulserhaltungssatz"
   ]
  },
  {
   "cell_type": "code",
   "execution_count": 27,
   "id": "2f09f429",
   "metadata": {},
   "outputs": [
    {
     "data": {
      "image/png": "[encoded data removed]",
      "text/plain": [
       "<Figure size 640x480 with 1 Axes>"
      ]
     },
     "metadata": {},
     "output_type": "display_data"
    },
    {
     "data": {
      "text/latex": [
       "$$E_v = 77.00 J \\\\ E_n = 78.00 J$$"
      ],
      "text/plain": [
       "<IPython.core.display.Latex object>"
      ]
     },
     "metadata": {},
     "output_type": "display_data"
    }
   ],
   "source": [
    "m1 = 4\n",
    "m2 = 5\n",
    "v1 = 8\n",
    "v2 = 9\n",
    "v3 = 2\n",
    "v4 = 14\n",
    "\n",
    "Ev = m1 * v1 + m2 * v2\n",
    "En = m1 * v3 + m2 * v4\n",
    "\n",
    "t_s = 3\n",
    "t = np.linspace(0, 5, 200)\n",
    "E = np.where(t < t_s, Ev, En)\n",
    "\n",
    "plt.plot(t, E, 'b', linewidth=2)\n",
    "plt.xlabel(\"t in [s]\")\n",
    "plt.ylabel(\"kinetische Energie in [J]\")\n",
    "plt.title(\"Kinetische Energie elastischer Stoß\")\n",
    "plt.grid(True)\n",
    "plt.ylim(top = 80, bottom = 30)\n",
    "plt.show()\n",
    "\n",
    "display(Latex((rf\"$$E_v = {Ev:.2f} J \\\\ E_n = {En:.2f} J$$\")))\n",
    "\n",
    "\n"
   ]
  },
  {
   "cell_type": "markdown",
   "id": "86718bee",
   "metadata": {},
   "source": [
    "## Inelastischer Stoß\n",
    "\n",
    "### Grundlagen\n",
    "Bei einem inelastischen Stoß bleiben die beiden Körper nach dem Stoß aneinander hängen und bewegen sich das als ein Körper mit der gleichen Geschwindigkeit weiter: \n",
    "$$\\vec{w}_1 = \\vec{w}_2 = \\vec{w}$$\n",
    "\n",
    "Der Impuls und die Schwerpunktsbewegung werden erhalten. Ein Teil der kinetischen Energie wird in andere Energieformen umgewandelt."
   ]
  },
  {
   "cell_type": "markdown",
   "id": "27b881a7",
   "metadata": {},
   "source": [
    "Bahnkurve des Gleiters und des Schwerpunkts"
   ]
  },
  {
   "cell_type": "markdown",
   "id": "62b3b3c4",
   "metadata": {},
   "source": [
    "Impulssatz\n"
   ]
  },
  {
   "cell_type": "code",
   "execution_count": 20,
   "id": "7fa38567",
   "metadata": {},
   "outputs": [
    {
     "data": {
      "image/png": "[encoded data removed]",
      "text/plain": [
       "<Figure size 640x480 with 1 Axes>"
      ]
     },
     "metadata": {},
     "output_type": "display_data"
    },
    {
     "data": {
      "text/latex": [
       "$$E_v = 14.00 J \\\\ E_n = 30.00 J$$"
      ],
      "text/plain": [
       "<IPython.core.display.Latex object>"
      ]
     },
     "metadata": {},
     "output_type": "display_data"
    }
   ],
   "source": [
    "m1 = 2\n",
    "m2 = 4\n",
    "v1 = 7\n",
    "v2 = 0\n",
    "v3 = 5\n",
    "\n",
    "Ev = m1 * v1 + m2 * v2\n",
    "En = (m1 + m2) * v3\n",
    "\n",
    "t_s = 3\n",
    "t = np.linspace(0, 5, 200)\n",
    "E = np.where(t < t_s, Ev, En)\n",
    "\n",
    "plt.plot(t, E, 'b', linewidth=2)\n",
    "plt.xlabel(\"t in [s]\")\n",
    "plt.ylabel(\"kinetische Energie in [J]\")\n",
    "plt.title(\"Kinetische Energie inelastischer Stoß\")\n",
    "plt.grid(True)\n",
    "plt.show()\n",
    "\n",
    "display(Latex((rf\"$$E_v = {Ev:.2f} J \\\\ E_n = {En:.2f} J$$\")))\n"
   ]
  }
 ],
 "metadata": {
  "kernelspec": {
   "display_name": "jupyter",
   "language": "python",
   "name": "python3"
  },
  "language_info": {
   "codemirror_mode": {
    "name": "ipython",
    "version": 3
   },
   "file_extension": ".py",
   "mimetype": "text/x-python",
   "name": "python",
   "nbconvert_exporter": "python",
   "pygments_lexer": "ipython3",
   "version": "3.13.7"
  }
 },
 "nbformat": 4,
 "nbformat_minor": 5
}
